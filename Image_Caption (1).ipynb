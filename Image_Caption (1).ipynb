{
  "nbformat": 4,
  "nbformat_minor": 0,
  "metadata": {
    "colab": {
      "provenance": [],
      "gpuType": "T4"
    },
    "kernelspec": {
      "name": "python3",
      "display_name": "Python 3"
    },
    "language_info": {
      "name": "python"
    },
    "accelerator": "GPU"
  },
  "cells": [
    {
      "cell_type": "markdown",
      "source": [
        "## Image Captioning Process\n",
        "\n",
        "1. Imafe feature extraction\n",
        "    - Load the images from the directory `FLickr8k_Dataset`\n",
        "    - make a prediction using VGG16 model to extract the only features and not the classification task that is done by VGG16.\n",
        "      \n",
        "      `Explanation` : VGG16 is image classification model, it gives probability distribution of object in image. SO by removing the last Classification head layer, we end with second last layer that holds the logits/features that are used by last layer to classify the objects. We store these `features` in the `feature.pkl` file.\n",
        "\n",
        "      `Advice` :  Go look for other image related models like ResNet, MobiNet, YOLO and identify theier main function for image(classification, object detection, recognition, etc) try to think to use them.\n",
        "2. Text feature extraction\n",
        "    \n",
        "      - Load the Caption.txt file that holds **image_id** and **caption** for image. Parse them into dictionary {image_id:caption} by removing the image extenions.\n",
        "      - `Preprocess` the `captions` in dictionary by removing stopwords, punctuations, numerics, special charaters.\n",
        "      - `Make a vocabulary` form the captions for later use in modeling the captions.\n",
        "3. Captions Modeling\n",
        "\n",
        "      - Tokenize the captions to feed into the RNN model, which will generate the embeddings.\n",
        "      - Pad the sequences.\n",
        "      - LSTM model\n",
        "\n",
        "4."
      ],
      "metadata": {
        "id": "UARSiC2Ytj-w"
      }
    },
    {
      "cell_type": "code",
      "execution_count": null,
      "metadata": {
        "id": "Psb-CH6y4cGe"
      },
      "outputs": [],
      "source": []
    },
    {
      "cell_type": "code",
      "source": [
        "image_caption = '/content/drive/MyDrive/Image_caption'"
      ],
      "metadata": {
        "id": "LDScYKE49sQ9"
      },
      "execution_count": 7,
      "outputs": []
    },
    {
      "cell_type": "code",
      "source": [
        "from google.colab import drive\n",
        "drive.mount('/content/drive')"
      ],
      "metadata": {
        "colab": {
          "base_uri": "https://localhost:8080/",
          "height": 304
        },
        "id": "efJ30cnFd2MM",
        "outputId": "4ea35524-d54b-48e5-c312-3316a47c7001"
      },
      "execution_count": 8,
      "outputs": [
        {
          "output_type": "error",
          "ename": "MessageError",
          "evalue": "Error: credential propagation was unsuccessful",
          "traceback": [
            "\u001b[0;31m---------------------------------------------------------------------------\u001b[0m",
            "\u001b[0;31mMessageError\u001b[0m                              Traceback (most recent call last)",
            "\u001b[0;32m<ipython-input-8-d5df0069828e>\u001b[0m in \u001b[0;36m<cell line: 2>\u001b[0;34m()\u001b[0m\n\u001b[1;32m      1\u001b[0m \u001b[0;32mfrom\u001b[0m \u001b[0mgoogle\u001b[0m\u001b[0;34m.\u001b[0m\u001b[0mcolab\u001b[0m \u001b[0;32mimport\u001b[0m \u001b[0mdrive\u001b[0m\u001b[0;34m\u001b[0m\u001b[0;34m\u001b[0m\u001b[0m\n\u001b[0;32m----> 2\u001b[0;31m \u001b[0mdrive\u001b[0m\u001b[0;34m.\u001b[0m\u001b[0mmount\u001b[0m\u001b[0;34m(\u001b[0m\u001b[0;34m'/content/drive'\u001b[0m\u001b[0;34m)\u001b[0m\u001b[0;34m\u001b[0m\u001b[0;34m\u001b[0m\u001b[0m\n\u001b[0m",
            "\u001b[0;32m/usr/local/lib/python3.10/dist-packages/google/colab/drive.py\u001b[0m in \u001b[0;36mmount\u001b[0;34m(mountpoint, force_remount, timeout_ms, readonly)\u001b[0m\n\u001b[1;32m     98\u001b[0m \u001b[0;32mdef\u001b[0m \u001b[0mmount\u001b[0m\u001b[0;34m(\u001b[0m\u001b[0mmountpoint\u001b[0m\u001b[0;34m,\u001b[0m \u001b[0mforce_remount\u001b[0m\u001b[0;34m=\u001b[0m\u001b[0;32mFalse\u001b[0m\u001b[0;34m,\u001b[0m \u001b[0mtimeout_ms\u001b[0m\u001b[0;34m=\u001b[0m\u001b[0;36m120000\u001b[0m\u001b[0;34m,\u001b[0m \u001b[0mreadonly\u001b[0m\u001b[0;34m=\u001b[0m\u001b[0;32mFalse\u001b[0m\u001b[0;34m)\u001b[0m\u001b[0;34m:\u001b[0m\u001b[0;34m\u001b[0m\u001b[0;34m\u001b[0m\u001b[0m\n\u001b[1;32m     99\u001b[0m   \u001b[0;34m\"\"\"Mount your Google Drive at the specified mountpoint path.\"\"\"\u001b[0m\u001b[0;34m\u001b[0m\u001b[0;34m\u001b[0m\u001b[0m\n\u001b[0;32m--> 100\u001b[0;31m   return _mount(\n\u001b[0m\u001b[1;32m    101\u001b[0m       \u001b[0mmountpoint\u001b[0m\u001b[0;34m,\u001b[0m\u001b[0;34m\u001b[0m\u001b[0;34m\u001b[0m\u001b[0m\n\u001b[1;32m    102\u001b[0m       \u001b[0mforce_remount\u001b[0m\u001b[0;34m=\u001b[0m\u001b[0mforce_remount\u001b[0m\u001b[0;34m,\u001b[0m\u001b[0;34m\u001b[0m\u001b[0;34m\u001b[0m\u001b[0m\n",
            "\u001b[0;32m/usr/local/lib/python3.10/dist-packages/google/colab/drive.py\u001b[0m in \u001b[0;36m_mount\u001b[0;34m(mountpoint, force_remount, timeout_ms, ephemeral, readonly)\u001b[0m\n\u001b[1;32m    131\u001b[0m   )\n\u001b[1;32m    132\u001b[0m   \u001b[0;32mif\u001b[0m \u001b[0mephemeral\u001b[0m\u001b[0;34m:\u001b[0m\u001b[0;34m\u001b[0m\u001b[0;34m\u001b[0m\u001b[0m\n\u001b[0;32m--> 133\u001b[0;31m     _message.blocking_request(\n\u001b[0m\u001b[1;32m    134\u001b[0m         \u001b[0;34m'request_auth'\u001b[0m\u001b[0;34m,\u001b[0m\u001b[0;34m\u001b[0m\u001b[0;34m\u001b[0m\u001b[0m\n\u001b[1;32m    135\u001b[0m         \u001b[0mrequest\u001b[0m\u001b[0;34m=\u001b[0m\u001b[0;34m{\u001b[0m\u001b[0;34m'authType'\u001b[0m\u001b[0;34m:\u001b[0m \u001b[0;34m'dfs_ephemeral'\u001b[0m\u001b[0;34m}\u001b[0m\u001b[0;34m,\u001b[0m\u001b[0;34m\u001b[0m\u001b[0;34m\u001b[0m\u001b[0m\n",
            "\u001b[0;32m/usr/local/lib/python3.10/dist-packages/google/colab/_message.py\u001b[0m in \u001b[0;36mblocking_request\u001b[0;34m(request_type, request, timeout_sec, parent)\u001b[0m\n\u001b[1;32m    174\u001b[0m       \u001b[0mrequest_type\u001b[0m\u001b[0;34m,\u001b[0m \u001b[0mrequest\u001b[0m\u001b[0;34m,\u001b[0m \u001b[0mparent\u001b[0m\u001b[0;34m=\u001b[0m\u001b[0mparent\u001b[0m\u001b[0;34m,\u001b[0m \u001b[0mexpect_reply\u001b[0m\u001b[0;34m=\u001b[0m\u001b[0;32mTrue\u001b[0m\u001b[0;34m\u001b[0m\u001b[0;34m\u001b[0m\u001b[0m\n\u001b[1;32m    175\u001b[0m   )\n\u001b[0;32m--> 176\u001b[0;31m   \u001b[0;32mreturn\u001b[0m \u001b[0mread_reply_from_input\u001b[0m\u001b[0;34m(\u001b[0m\u001b[0mrequest_id\u001b[0m\u001b[0;34m,\u001b[0m \u001b[0mtimeout_sec\u001b[0m\u001b[0;34m)\u001b[0m\u001b[0;34m\u001b[0m\u001b[0;34m\u001b[0m\u001b[0m\n\u001b[0m",
            "\u001b[0;32m/usr/local/lib/python3.10/dist-packages/google/colab/_message.py\u001b[0m in \u001b[0;36mread_reply_from_input\u001b[0;34m(message_id, timeout_sec)\u001b[0m\n\u001b[1;32m    101\u001b[0m     ):\n\u001b[1;32m    102\u001b[0m       \u001b[0;32mif\u001b[0m \u001b[0;34m'error'\u001b[0m \u001b[0;32min\u001b[0m \u001b[0mreply\u001b[0m\u001b[0;34m:\u001b[0m\u001b[0;34m\u001b[0m\u001b[0;34m\u001b[0m\u001b[0m\n\u001b[0;32m--> 103\u001b[0;31m         \u001b[0;32mraise\u001b[0m \u001b[0mMessageError\u001b[0m\u001b[0;34m(\u001b[0m\u001b[0mreply\u001b[0m\u001b[0;34m[\u001b[0m\u001b[0;34m'error'\u001b[0m\u001b[0;34m]\u001b[0m\u001b[0;34m)\u001b[0m\u001b[0;34m\u001b[0m\u001b[0;34m\u001b[0m\u001b[0m\n\u001b[0m\u001b[1;32m    104\u001b[0m       \u001b[0;32mreturn\u001b[0m \u001b[0mreply\u001b[0m\u001b[0;34m.\u001b[0m\u001b[0mget\u001b[0m\u001b[0;34m(\u001b[0m\u001b[0;34m'data'\u001b[0m\u001b[0;34m,\u001b[0m \u001b[0;32mNone\u001b[0m\u001b[0;34m)\u001b[0m\u001b[0;34m\u001b[0m\u001b[0;34m\u001b[0m\u001b[0m\n\u001b[1;32m    105\u001b[0m \u001b[0;34m\u001b[0m\u001b[0m\n",
            "\u001b[0;31mMessageError\u001b[0m: Error: credential propagation was unsuccessful"
          ]
        }
      ]
    },
    {
      "cell_type": "code",
      "source": [
        "Flicker_dataset = os.path.join(image_caption,'Flickr8k_Dataset')"
      ],
      "metadata": {
        "id": "FB04yyAC-N28"
      },
      "execution_count": null,
      "outputs": []
    },
    {
      "cell_type": "code",
      "source": [
        "import os\n",
        "import re ,string\n",
        "import numpy as np"
      ],
      "metadata": {
        "id": "_iJJublh-Lbx"
      },
      "execution_count": 9,
      "outputs": []
    },
    {
      "cell_type": "code",
      "source": [
        "def load_doc(filename):\n",
        "# open the file as read only\n",
        "    file = open(filename, 'r')\n",
        "    # read all text\n",
        "    text = file.read()\n",
        "    # close the file\n",
        "    file.close()\n",
        "    return text\n",
        "\n",
        "def load_descriptions(doc):\n",
        "    mapping = dict()\n",
        "    # process lines\n",
        "    for line in doc.split('\\n'):\n",
        "        # split line by white space\n",
        "        tokens = line.split()\n",
        "        if len(line) < 2:\n",
        "            continue\n",
        "        # take the first token as the image id, the rest as the description\n",
        "        image_id, image_desc = tokens[0], tokens[1:]\n",
        "        # remove filename from image id\n",
        "        image_id = image_id.split('.')[0]\n",
        "        # convert description tokens back to string\n",
        "        image_desc = ' '.join(image_desc)\n",
        "        # create the list if needed\n",
        "        if image_id not in mapping:\n",
        "            mapping[image_id] = list()\n",
        "            # store description\n",
        "            mapping[image_id].append(image_desc)\n",
        "    return mapping\n"
      ],
      "metadata": {
        "id": "lGkP15Dw-WLl"
      },
      "execution_count": null,
      "outputs": []
    },
    {
      "cell_type": "code",
      "source": [
        "def clean_descriptions(descriptions):\n",
        "# prepare regex for char filtering\n",
        "    re_punc = re.compile('[%s]' % re.escape(string.punctuation))\n",
        "    for key, desc_list in descriptions.items():\n",
        "        for i in range(len(desc_list)):\n",
        "            desc = desc_list[i]\n",
        "            # tokenize\n",
        "            desc = desc.split()\n",
        "            # convert to lower case\n",
        "            desc = [word.lower() for word in desc]\n",
        "            # remove punctuation from each token\n",
        "            desc = [re_punc.sub('', w) for w in desc]\n",
        "            # remove hanging 's' and 'a'\n",
        "            desc = [word for word in desc if len(word)>1]\n",
        "            # remove tokens with numbers in them\n",
        "            desc = [word for word in desc if word.isalpha()]\n",
        "            # store as string\n",
        "            desc_list[i] = ' '.join(desc)\n",
        "\n",
        "# convert the loaded descriptions into a vocabulary of words\n",
        "def to_vocabulary(descriptions):\n",
        "# build a list of all description strings\n",
        "    all_desc = set()\n",
        "    for key in descriptions.keys():\n",
        "        [all_desc.update(d.split()) for d in descriptions[key]]\n",
        "    return all_desc\n",
        "\n",
        "# save descriptions to file, one per line\n",
        "def save_descriptions(descriptions, filename):\n",
        "    lines = list()\n",
        "    for key, desc_list in descriptions.items():\n",
        "        for desc in desc_list:\n",
        "            lines.append(key + ' ' + desc)\n",
        "    data = '\\n'.join(lines)\n",
        "    file = open(filename, 'w')\n",
        "    file.write(data)\n",
        "    file.close()\n",
        "    # save descriptions"
      ],
      "metadata": {
        "id": "lk4osmYC-i70"
      },
      "execution_count": null,
      "outputs": []
    },
    {
      "cell_type": "code",
      "source": [
        "filename = os.path.join(image_caption,'captions.txt')\n",
        "# load description\n",
        "doc = load_doc(filename)\n",
        "# parse descriptions\n",
        "descriptions = load_descriptions(doc)\n",
        "print('Loaded: %d ' % len(descriptions))\n",
        "# clean descriptions\n",
        "clean_descriptions(descriptions)\n",
        "# summarize vocabulary\n",
        "vocabulary = to_vocabulary(descriptions)\n",
        "print('Vocabulary Size: %d' % len(vocabulary))\n",
        "# save to file\n",
        "save_descriptions(descriptions, os.path.join(image_caption,'descriptions.txt'))\n"
      ],
      "metadata": {
        "colab": {
          "base_uri": "https://localhost:8080/"
        },
        "id": "BXBCCiXR_PzL",
        "outputId": "dd502146-d649-4963-a140-179c85890813"
      },
      "execution_count": null,
      "outputs": [
        {
          "output_type": "stream",
          "name": "stdout",
          "text": [
            "Loaded: 8092 \n",
            "Vocabulary Size: 4454\n"
          ]
        }
      ]
    },
    {
      "cell_type": "markdown",
      "source": [
        "Did Preprocessed the Caption and Photo feature extraction"
      ],
      "metadata": {
        "id": "nYZn0nAEAGco"
      }
    },
    {
      "cell_type": "markdown",
      "source": [
        "## Load the image feature and caption preprocessed data"
      ],
      "metadata": {
        "id": "wI-7fRWpAPXM"
      }
    },
    {
      "cell_type": "code",
      "source": [
        "\n",
        "from numpy import array\n",
        "from pickle import load\n",
        "from tensorflow.keras.preprocessing.text import Tokenizer\n",
        "from tensorflow.keras.preprocessing.sequence import pad_sequences\n",
        "from tensorflow.keras.utils import to_categorical\n",
        "from tensorflow.keras.utils import plot_model\n",
        "from tensorflow.keras.models import Model\n",
        "from tensorflow.keras.layers import Input, Dense, LSTM, Embedding, Dropout, add\n",
        "from keras.callbacks import ModelCheckpoint"
      ],
      "metadata": {
        "id": "R7-CmU9u_PeG"
      },
      "execution_count": 10,
      "outputs": []
    },
    {
      "cell_type": "code",
      "source": [
        "#import tokenizer\n",
        "\n",
        "from tensorflow.keras.preprocessing.text import Tokenizer\n",
        "from tensorflow.keras.preprocessing.sequence import pad_sequences"
      ],
      "metadata": {
        "id": "5-GZcdUrzNJh"
      },
      "execution_count": 11,
      "outputs": []
    },
    {
      "cell_type": "code",
      "source": [],
      "metadata": {
        "colab": {
          "base_uri": "https://localhost:8080/"
        },
        "id": "7QB6oyw-ziAr",
        "outputId": "c0ff910e-9d22-44ed-dde6-8e2cec0b69b6"
      },
      "execution_count": null,
      "outputs": [
        {
          "output_type": "execute_result",
          "data": {
            "text/plain": [
              "<keras.src.legacy.preprocessing.text.Tokenizer at 0x792ee41a0c70>"
            ]
          },
          "metadata": {},
          "execution_count": 2
        }
      ]
    },
    {
      "cell_type": "code",
      "source": [
        "from pickle import load\n",
        "# load doc into memory\n",
        "def load_doc(filename):\n",
        "# open the file as read only\n",
        "    file = open(filename, 'r')\n",
        "    # read all text\n",
        "    text = file.read()\n",
        "    # close the file\n",
        "    file.close()\n",
        "    return text\n",
        "# load a pre-defined list of photo identifiers\n",
        "def load_set(filename):\n",
        "    doc = load_doc(filename)\n",
        "    dataset = list()\n",
        "    # process line by line\n",
        "    for line in doc.split('\\n'):\n",
        "    # skip empty lines\n",
        "        if len(line) < 1:\n",
        "            continue\n",
        "    # get the image identifier\n",
        "        identifier = line.split('.')[0]\n",
        "        dataset.append(identifier)\n",
        "    return set(dataset)\n"
      ],
      "metadata": {
        "id": "X_G1Wnc3-jJ8"
      },
      "execution_count": 12,
      "outputs": []
    },
    {
      "cell_type": "markdown",
      "source": [
        "#### Extract Features of image and text"
      ],
      "metadata": {
        "id": "o8uQyMrNyTkP"
      }
    },
    {
      "cell_type": "code",
      "source": [
        "\n",
        "# load clean descriptions into memory\n",
        "def load_clean_descriptions(filename, dataset):\n",
        "    # load document\n",
        "    doc = load_doc(filename)\n",
        "    descriptions = dict()\n",
        "    for line in doc.split('\\n'):\n",
        "        # split line by white space\n",
        "        tokens = line.split()\n",
        "        # split id from description\n",
        "        image_id, image_desc = tokens[0], tokens[1:]\n",
        "        # skip images not in the set\n",
        "        if image_id in dataset:\n",
        "        # create list\n",
        "            if image_id not in descriptions:\n",
        "                descriptions[image_id] = list()\n",
        "            # wrap description in tokens\n",
        "            desc = 'startseq ' + ' '.join(image_desc) + ' endseq'\n",
        "            # store\n",
        "            descriptions[image_id].append(desc)\n",
        "    return descriptions\n",
        "\n",
        "# load photo features\n",
        "def load_photo_features(filename, dataset):\n",
        "# load all features\n",
        "    all_features = load(open(filename, 'rb'))\n",
        "    # filter features\n",
        "    features = {k: all_features[k] for k in dataset}\n",
        "    return features"
      ],
      "metadata": {
        "id": "FV4GrQFm-jOv"
      },
      "execution_count": 13,
      "outputs": []
    },
    {
      "cell_type": "code",
      "source": [
        "# convert a dictionary of clean descriptions to a list of descriptions\n",
        "def to_lines(descriptions):\n",
        "    all_desc = list()\n",
        "    for key in descriptions.keys():\n",
        "        [all_desc.append(d) for d in descriptions[key]]\n",
        "    return all_desc\n",
        "\n",
        "\n",
        "# fit a tokenizer given caption descriptions\n",
        "def create_tokenizer(descriptions):\n",
        "    lines = to_lines(descriptions)\n",
        "    tokenizer = Tokenizer()\n",
        "    tokenizer.fit_on_texts(lines)\n",
        "    return tokenizer\n",
        "# prepare tokenizer\n",
        "\n",
        "# tokenizer = create_tokenizer(train_descriptions)\n",
        "# vocab_size = len(tokenizer.word_index) + 1\n",
        "# print('Vocabulary Size: %d' % vocab_size)\n"
      ],
      "metadata": {
        "id": "u6xwdy52-jVh"
      },
      "execution_count": 14,
      "outputs": []
    },
    {
      "cell_type": "code",
      "source": [
        "\n"
      ],
      "metadata": {
        "id": "Zl8vO7AV-66v"
      },
      "execution_count": null,
      "outputs": []
    },
    {
      "cell_type": "markdown",
      "source": [
        "#### Create word-by-word Text model\n"
      ],
      "metadata": {
        "id": "oeQFUZifyiFg"
      }
    },
    {
      "cell_type": "code",
      "source": [
        "def max_length_cal(descriptions):\n",
        "    lines = to_lines(descriptions)\n",
        "    return max(len(d.split()) for d in lines)\n",
        "\n",
        "\n",
        "\n",
        "# create sequences of images, input sequences and output words for an image\n",
        "def create_sequences(tokenizer, max_length, descriptions, photos):\n",
        "    X1, X2, y = list(), list(), list()\n",
        "    # walk through each image identifier\n",
        "    for key, desc_list in descriptions.items():\n",
        "        # walk through each description for the image\n",
        "        for desc in desc_list:\n",
        "        # encode the sequence\n",
        "            seq = tokenizer.texts_to_sequences([desc])[0]\n",
        "            # split one sequence into multiple X,y pairs\n",
        "            for i in range(1, len(seq)):\n",
        "                # split into input and output pair\n",
        "                in_seq, out_seq = seq[:i], seq[i]\n",
        "                # pad input sequence\n",
        "                in_seq = pad_sequences([in_seq], maxlen=max_length,padding='post')[0]\n",
        "                # encode output sequence\n",
        "                out_seq = to_categorical([out_seq], num_classes=vocab_size)[0]\n",
        "                # store\n",
        "                X1.append(photos[key][0])\n",
        "                X2.append(in_seq)\n",
        "                y.append(out_seq)\n",
        "    return array(X1), array(X2), array(y)\n"
      ],
      "metadata": {
        "id": "7cD-wZNQ-jYX"
      },
      "execution_count": 24,
      "outputs": []
    },
    {
      "cell_type": "code",
      "source": [
        "max_length"
      ],
      "metadata": {
        "id": "ZU-REqT1-jbU",
        "colab": {
          "base_uri": "https://localhost:8080/",
          "height": 141
        },
        "outputId": "55314ad1-6bc8-4a80-bbcb-c9da37699448"
      },
      "execution_count": 16,
      "outputs": [
        {
          "output_type": "error",
          "ename": "NameError",
          "evalue": "name 'max_length' is not defined",
          "traceback": [
            "\u001b[0;31m---------------------------------------------------------------------------\u001b[0m",
            "\u001b[0;31mNameError\u001b[0m                                 Traceback (most recent call last)",
            "\u001b[0;32m<ipython-input-16-d3f3d6138322>\u001b[0m in \u001b[0;36m<cell line: 1>\u001b[0;34m()\u001b[0m\n\u001b[0;32m----> 1\u001b[0;31m \u001b[0mmax_length\u001b[0m\u001b[0;34m\u001b[0m\u001b[0;34m\u001b[0m\u001b[0m\n\u001b[0m",
            "\u001b[0;31mNameError\u001b[0m: name 'max_length' is not defined"
          ]
        }
      ]
    },
    {
      "cell_type": "code",
      "source": [
        "# define the captioning model\n",
        "def define_model(vocab_size, max_length):\n",
        "    # feature extractor model\n",
        "    inputs1 = Input(shape=(1000,))\n",
        "    fe1 = Dropout(0.5)(inputs1)\n",
        "    fe2 = Dense(256, activation='relu')(fe1)\n",
        "    # sequence model\n",
        "    inputs2 = Input(shape=(max_length,))\n",
        "    se1 = Embedding(vocab_size, 256, mask_zero=True)(inputs2)\n",
        "    se2 = Dropout(0.5)(se1)\n",
        "    se3 = LSTM(256)(se2)\n",
        "    # decoder model\n",
        "    decoder1 = add([fe2, se3])\n",
        "    decoder2 = Dense(256, activation='relu')(decoder1)\n",
        "    outputs = Dense(vocab_size, activation='softmax')(decoder2)\n",
        "    # tie it together [image, seq] [word]\n",
        "    model = Model(inputs=[inputs1, inputs2], outputs=outputs)\n",
        "    # compile model\n",
        "    model.compile(loss='categorical_crossentropy', optimizer='adam')\n",
        "    # summarize model\n",
        "    model.summary()\n",
        "    plot_model(model, to_file='model.png', show_shapes=True)\n",
        "    return model"
      ],
      "metadata": {
        "id": "9tdUGbd1-jeB"
      },
      "execution_count": 17,
      "outputs": []
    },
    {
      "cell_type": "code",
      "source": [
        "# load training dataset (6K)\n",
        "filename = ('Flickr_8k_trainImages.txt')\n",
        "train = load_set(filename)\n",
        "print('Dataset: %d' % len(train))\n",
        "# descriptions\n",
        "train_descriptions = load_clean_descriptions('descriptions.txt', train)\n",
        "print('Descriptions: train=%d' % len(train_descriptions))\n",
        "# photo features\n",
        "train_features = load_photo_features('features.pkl', train)\n",
        "print('Photos: train=%d' % len(train_features))\n",
        "\n"
      ],
      "metadata": {
        "colab": {
          "base_uri": "https://localhost:8080/"
        },
        "id": "rFgu5txZBC_D",
        "outputId": "136a9ebc-58c3-4c3f-be43-4bde28e58fcc"
      },
      "execution_count": 18,
      "outputs": [
        {
          "output_type": "stream",
          "name": "stdout",
          "text": [
            "Dataset: 6000\n",
            "Descriptions: train=6000\n",
            "Photos: train=6000\n"
          ]
        }
      ]
    },
    {
      "cell_type": "code",
      "source": [
        "len(train_features['2318659263_c24005a5cb'][0]),train_features['2318659263_c24005a5cb'].shape, len(train_features)"
      ],
      "metadata": {
        "colab": {
          "base_uri": "https://localhost:8080/"
        },
        "id": "zJ8KyPAS548W",
        "outputId": "4a5ecddd-1cfa-4fed-8937-a1ef9e05b4aa"
      },
      "execution_count": 19,
      "outputs": [
        {
          "output_type": "execute_result",
          "data": {
            "text/plain": [
              "(1000, (1, 1000), 6000)"
            ]
          },
          "metadata": {},
          "execution_count": 19
        }
      ]
    },
    {
      "cell_type": "code",
      "source": [
        "train_features.keys()"
      ],
      "metadata": {
        "colab": {
          "base_uri": "https://localhost:8080/"
        },
        "id": "wrQCfJUb5w7O",
        "outputId": "105acedf-0e13-47d3-b8cb-d0eefa81680a"
      },
      "execution_count": null,
      "outputs": [
        {
          "output_type": "execute_result",
          "data": {
            "text/plain": [
              "dict_keys(['2188688248_f57a28a5a7', '2799871904_3b3125518a', '2653552905_4301449235', '2650485780_29d89268d7', '391723162_3bdeb7ea33', '3429581486_4556471d1a', '367925122_335ed279a8', '3331900249_5872e90b25', '55473406_1d2271c1f2', '487894806_352d9b5e66', '811663364_4b350a62ce', '2902661518_1513be3ea6', '3351370405_e417e38f52', '3708244207_0d3a2b2f92', '44856031_0d82c2c7d1', '3744832122_2f4febdff6', '3181322965_ce9da15271', '437404867_209625774d', '1884727806_d84f209868', '3421177332_a05741cfa4', '975131015_9acd25db9c', '3668984985_b60ceb2ae9', '2266142543_b2de18c081', '3033741581_136889ac73', '2256320794_0286c31bfa', '3025513877_1a6160070d', '2629027962_9cc3b46527', '3029463004_c2d2c8f404', '3677514746_26f5588150', '3288274849_07ff76ee93', '839295615_bb9baf2f95', '3656151153_b4ed5d94c4', '1222322358_225067636e', '223299137_b0e81ac145', '3093971101_543237971d', '3409740108_1505489537', '2952751562_ff1c138286', '2973272684_4d63cbc241', '693450725_8ad72389e6', '3034585889_388d6ffcc0', '3208999896_dab42dc40b', '3046259614_614394e024', '357191373_a1cb5696e8', '2744321686_8811d8428c', '247097023_e656d5854d', '3208987435_780ae35ef0', '2832487464_2d30634e1e', '3701249979_8bc757e171', '3671950830_b570bac1b9', '3636126441_5617c89aaa', '3344948183_5b89379585', '387974450_bcd205daac', '990890291_afc72be141', '2752926645_801a198ff6', '808245064_8a7971fc5b', '2542037086_58c833699c', '2278766574_f71f1704a8', '189740668_0b045f1ff2', '517102724_a0f3069156', '3528105511_12ff45dc9c', '2718376488_3c62f7642c', '3090957866_f1b2b7f214', '219301553_d2fffe9e0c', '3612485097_b706d950ed', '716597900_b72c58362c', '2959581023_54402c8d88', '1473080948_bae2925dc8', '3440160917_4524cfd9f6', '3687996569_99163a41c3', '3574627719_790325430e', '3340857141_85d97a7466', '2709683703_5385ea9ef4', '2553188198_da1123a723', '105342180_4d4a40b47f', '1193116658_c0161c35b5', '1286408831_05282582ed', '3171035252_dba286ae5c', '1475046848_831245fc64', '1445754124_647168f211', '241346146_f27759296d', '3626689571_5817f99c0e', '2510029990_7014f907cb', '527272653_8a5bd818e5', '3453544202_3855ab34b6', '1003163366_44323f5815', '582899605_d96f9201f1', '3440724965_03d6ca5399', '374176648_ba4b88c221', '2866696346_4dcccbd3a5', '2419591925_1038c6c570', '3404408360_430f73b034', '356929855_6bbf33d933', '3583065748_7d149a865c', '3677239603_95865a9073', '3089742441_d42531c14f', '3695949492_27ca3892fd', '1813777902_07d1d4b00c', '95151149_5ca6747df6', '2613993276_3c365cca12', '3396153660_f729d9f9b9', '537390477_7dd3407f96', '524360969_472a7152f0', '3477681171_b1bb8b211d', '3125158798_0743dae56e', '1650280501_29810b46e5', '3704431444_f337ec2b90', '2532294586_4cd76a837d', '3028404926_2bd27e3e83', '3652572138_34d6b72999', '491964988_414b556228', '2194495372_bdac7d9e71', '1350948838_fdebe4ff65', '2319808437_bbbdc317c0', '3562470436_6e193643ce', '2970183443_accd597e0a', '3213622536_31da7f6682', '242558556_12f4d1cabc', '308956341_642589e9cc', '472535997_0dbf42b9f3', '3534668485_6887629ff0', '3667157255_4e66d11dc2', '3475005101_6f6e437459', '3561130207_d1ed166daa', '1398613231_18de248606', '3458434150_2b0d619244', '3587009091_37188fd07e', '3346289227_198fced308', '2157003092_eaeb977789', '811662356_f9a632b63c', '3446347599_0ecc49a9d5', '2277081067_d2b4c98bce', '3224578187_749882c17f', '2462702522_1b25654762', '3048461682_e89f81b1c7', '3174431688_ae84778db0', '2651915425_7a58e862e9', '2299427360_422a3fb8b0', '1799188614_b5189728ba', '2503629305_055e9ec4b1', '2102581664_5ea50f85c6', '1620397000_3883e3ecd3', '2804851816_9aae9071ca', '3039675864_0b7961844d', '374103842_17873ce505', '3541141771_67d305c873', '2144050118_3e7d2e05b1', '3029472296_d429b1586c', '3439331800_e71e1d808f', '2342478660_faef1afea8', '3426962078_13e87e10de', '3274879561_74997bbfff', '2862481071_86c65d46fa', '3214151585_f2d0b00b41', '3271178748_630d269811', '1240297429_c36ae0c58f', '2942094037_f6b36fd3db', '3078229723_2aa52600de', '209605542_ca9cc52e7b', '3401548798_3a93f2caa5', '3476451861_5b9c9ce191', '3498482871_4e02f31c35', '488352274_9a22064cb3', '2423550887_ffc9bbcf71', '3550763985_800cfee7e4', '3156113206_53c2a7b5d8', '2218519240_cac5aab53c', '210839948_bbd5bfa3b6', '2211593099_4a4f1c85d2', '3203742047_6a55065411', '102455176_5f8ead62d5', '479807115_3a484fb18b', '2929669711_b2d5a640f0', '3415165462_e1cb536d08', '2307807200_91fa29cba1', '3547647914_4dd56a8c1b', '3372215826_b3e6403b2e', '3356642567_f1d92cb81b', '513116697_ad0f4dc800', '2101808682_0d66ef4a08', '2939007933_8a6ef2d073', '2249865945_f432c8e5da', '1356543628_c13ebe38fb', '1141739219_2c47195e4c', '2567812221_30fb64f5e9', '3081734118_6f2090215c', '3498417123_3eae6bbde6', '3323498985_fd9d2803fd', '2508313118_524e93d48c', '3143765063_a7761b16d3', '3524914023_4e96edb09f', '3285180819_a9712fd2bc', '399679638_d3036da331', '897406883_f09f673d94', '382701159_f98c1988cd', '2676015068_690b0fb2cd', '1191338263_a4fa073154', '3447007090_08d997833a', '1434005938_ad75c8598c', '3627679667_0e3de9fc90', '2798880731_4f51634374', '3569667295_6e51db08ef', '1273001772_1585562051', '2173312932_269f9786fc', '615916000_5044047d71', '3157039116_d82da4e66b', '319851847_7212423309', '2075041394_0b3ea1822d', '2787276494_82703f570a', '3183519385_311555d5f5', '224702241_05af393148', '3104909823_0f41dd8be6', '58363928_6f7074608c', '241109594_3cb90fe2a3', '3497237366_366997495d', '2278110011_ba846e7795', '3490517179_76dbd690de', '3561734666_344f260cce', '1489286545_8df476fa26', '2561319255_ce5ede291e', '2930616480_7fd45ca79b', '2638981862_6b23833f37', '2103361407_4ed4fc46bf', '3703413486_3c682732a0', '434433505_966e50e17d', '3225478803_f7a9a41a1d', '3262475923_f1f77fcd9f', '3578981202_efef47e264', '2432038587_5e4148e277', '241347150_5ff37818c2', '3621741935_54d243f25f', '2830309113_c79d7be554', '3463034205_e541313038', '2730819220_b58af1119a', '3245266444_2e798096e6', '2892413015_5ecd9d972a', '2785115802_137fa30000', '2713554148_64cd465e71', '2922807898_b5a06d5c70', '3547600292_6f8aac7f2e', '2477623312_58e8e8c8af', '2217728745_92b6779016', '3057497487_57ecc60ff1', '2562166462_b43b141d40', '3098714492_19939e3b19', '341665272_80d4d61376', '3024022266_3528c16ed8', '3084001782_41a848df4e', '1368338041_6b4077ca98', '2029280005_a19609c81a', '3666324102_18ecdf8253', '2156131463_5b53636cf0', '1332208215_fa824f6659', '445148321_9f2f3ac711', '3463523977_f2ed231585', '485738889_c2a00876a6', '3182996527_70d9c323d5', '3613030730_0b28b079ba', '2619267133_53a5904ef4', '3226254560_2f8ac147ea', '2937942758_712be5c610', '3086526292_f799d237c7', '2632366677_43dee456a5', '2338627102_6708a9b4fd', '2674784195_704f6b79d0', '3710674892_857b8056f7', '2975018306_0e8da316f5', '2229177914_3308fe7d20', '2877159456_ea4a46b0d2', '613030608_4355e007c7', '3103587323_7f093d5b90', '2930622766_fa8f84deb1', '3429465163_fb8ac7ce7f', '2909811789_ed8f3fd972', '3468130925_2b1489d19a', '2745441424_5659f6acc8', '467858872_f3431df682', '281754914_bc8119a0ed', '2696636252_91ef1491ea', '3172369593_eb4d787ffb', '431282339_0aa60dd78e', '3018467501_a03d404413', '3029928396_99ac250788', '2696394827_7342ced36f', '3126681108_f88128699c', '3613705104_46d854134e', '3726590391_bc6e729bb6', '3651107058_d84d4c3c25', '210686241_b8e069fff3', '2102732029_9ae520914d', '3602676311_824b2c04ba', '216172386_9ac5356dae', '3271084924_4778d556cc', '2234702530_a265a4df22', '3669564923_8fcb1a6eff', '3679341667_936769fd0c', '515755283_8f890b3207', '1457762320_7fe121b285', '3455419642_894d03f153', '2661437618_ca7a15f3cb', '2367317953_503317493e', '3461437556_cc5e97f3ac', '2991993027_36ac04e9a0', '294549892_babb130543', '2531837969_6f28637811', '3212625256_685bc4de99', '241346260_f50d57b517', '1801874841_4c12055e2f', '47870024_73a4481f7d', '1361420539_e9599c60ae', '524031846_28b11bc0e5', '3665987581_5e6b0a65f2', '3608400551_d6f7965308', '2090327868_9f99e2740d', '3541162969_68fa4a60df', '2071309418_1d7580b0f0', '3625957413_e475943aa3', '3352531708_a65dd694b1', '3476381830_3751dd9339', '3378553508_e37e281d25', '2260560631_09093be4c6', '3401437960_7da856e004', '3452341579_0147d2199b', '2445442929_8c81d42460', '947969010_f1ea572e89', '1131804997_177c3c0640', '2497608431_8dfefc7a1a', '1522787272_5a31497ef2', '278002875_d011ae9dc5', '109260218_fca831f933', '2856456013_335297f587', '3413973568_6630e5cdac', '3473534758_1ae3847781', '2079152458_40712c3b40', '3484842724_ef1124c87a', '3418504074_083f0bb68d', '1418019748_51c7d59c11', '3286406057_a1668655af', '3568219100_dfbffddccd', '213216174_0632af65a2', '1087168168_70280d024a', '2121357310_f8235311da', '3638688673_176f99d7fd', '3439560988_f001f96fc9', '3163477256_073605e06e', '1980315248_82dbc34676', '3139393607_f0a54ca46d', '1527297882_dededc7891', '3657209354_cde9bbd2c5', '2369452202_8b0e8e25ca', '3259222980_04fb62df97', '152029243_b3582c36fa', '2721656220_5f4cda8bc1', '324355356_859988a710', '2868668723_0741222b23', '2966190737_ceb6eb4b53', '2393911878_68afe6e6c1', '3487261028_30791528ec', '311619377_2ba3b36675', '3264350290_f50494e835', '2085403342_a17b0654fe', '2423292784_166ee54e0b', '3636491114_ab34dac833', '241347460_81d5d62bf6', '2962977152_9d6958fdd5', '2866529477_7e0c053ebc', '501520507_c86f805ab8', '3283897411_af9d0b497d', '3399312265_9c74378692', '3606846822_28c40b933a', '2596876977_b61ee7ee78', '3495490064_8db40a83af', '3425414048_fa14d33067', '485566887_57eac33bd1', '1798209205_77dbf525b0', '2486364531_b482d7f521', '271770120_880e8d8e52', '2377460540_8cfb62463a', '397601572_9587a39291', '2659554389_ed3d15093f', '310260324_7f941814bc', '2552816307_c7c8e7f6b4', '2855727603_e917ded363', '783353797_fdf91bdf4c', '3518608016_46453d8b18', '2294688426_96c8614f1d', '3069937639_364fc11e99', '3691670743_0ed111bcf3', '2483993827_243894a4f9', '2466495935_623b144183', '262681159_e5fed3acf0', '2108799322_e25aa6e185', '3271061953_700b96520c', '3647826834_dc63e21bd0', '2521938802_853224f378', '3334953664_a669038795', '3099965396_2a0018cb9e', '590445887_4d4fa43923', '2467850190_07a74d89b7', '369360998_ba56fb436f', '2687328779_b4356dab16', '247619370_a01fb21dd3', '3347701468_bb0001b035', '583087629_a09334e1fb', '2587106431_1cc0e719c6', '3445296377_1e5082b44b', '3224560800_8fefd52510', '950273886_88c324e663', '3364797223_1f0b2f98ed', '50030244_02cd4de372', '3656104088_a0d1642fa9', '2111360187_d2505437b7', '3662871327_b128d25f04', '3239480519_22540b5016', '2364096157_eb7970a69a', '3500342526_393c739e2f', '771366843_a66304161b', '536828916_b763b82949', '211277478_7d43aaee09', '2788628994_61123c03d2', '2437266971_b91a8f9a00', '3545427060_c16a8b7dfd', '2451988767_244bff98d1', '3417037373_67f7db2dd2', '3534046564_4f8546e364', '3301754574_465af5bf6d', '2953861572_d654d9b6f2', '2848571082_26454cb981', '262439544_e71cd26b24', '3202360797_2084743e90', '370442541_60d93ecd13', '3416013671_98b5c75046', '3717531382_e1e05e22c5', '2201951969_0d7520d648', '2291485126_b8d41a63f4', '109823395_6fb423a90f', '3052104757_d1cf646935', '3204081508_0e7f408097', '3462512074_2b4db1ffd6', '2097420505_439f63c863', '3487419819_e3f89444ce', '2864634088_d087494dff', '3001612175_53567ffb58', '377872472_35805fc143', '247617754_4b1137de8c', '3707990914_843e8f15f1', '489865145_65ea6d1c14', '2255266906_8222af18b9', '1002674143_1b742ab4b8', '2540757246_5a849fbdcb', '2711075591_f3ee53cfaa', '3497485793_e36c1d2779', '3606942887_1159d92548', '3573436368_78f0ccdf01', '3697675767_97796334e4', '2504764590_cf017c2a6e', '2899374885_f3b2b1a290', '2139519215_8ca16dd192', '3424934891_69f18da66e', '2865564810_5c63328cd4', '3426144752_28d63615ca', '3018847610_0bf4d7e43d', '12830823_87d2654e31', '442594271_2c3dd38483', '3412249548_00820fc4ca', '3549006919_3604bc813e', '3432495898_a5859f06b6', '1858963639_4588cd4be9', '3683185795_704f445bf4', '308014594_f1d5e75507', '1007320043_627395c3d8', '2074244690_82e30ff44b', '501684722_0f20c4e704', '3256603992_67312b5a36', '3275627207_0b41e44597', '3712008738_1e1fa728da', '967719295_3257695095', '3319020762_d429d56a69', '987907964_5a06a63609', '2466171100_5e60cfcc11', '99679241_adc853a5c0', '3397259310_1ed1a346b5', '468141298_3154d717e1', '464116251_1ac4bc91f8', '2666078276_f7b3056997', '3474912569_7165dc1d06', '3400385314_a5bc062e97', '2385146732_d1c67c790e', '2512876666_9da03f9589', '3478591390_b526580644', '3111402233_6285bcba7a', '412056525_191724b058', '532999240_1409d073be', '3484019369_354e0b88c0', '260231029_966e2f1727', '3046429283_08de594901', '69710415_5c2bfb1058', '3214579977_fa9fb006a6', '3666056567_661e25f54c', '242064301_a9d12f1754', '2759211664_d21393b668', '3228793611_8f260ea500', '2471297228_b784ff61a2', '3512791890_eb065b460a', '3054989420_3e755ca352', '2149982207_5345633bbf', '3534183988_3763593dfb', '3141440149_00becbbb93', '2867736861_43c9487a65', '425088533_a460dc4617', '2744600462_5804577296', '2613021139_4b0dc3d4c8', '2446315531_7c9704eec0', '2622517932_57c52c376f', '3247168324_c45eaf734d', '3240048764_acce8af2a5', '3351360323_91bb341350', '2158247955_484f0a1f11', '3432637363_3ba357e2da', '3516267455_ca17cc1323', '3464871350_3f2d624a9c', '485312202_784508f2a9', '3195188609_01afbe46e6', '3443030942_f409586258', '3107463441_7c68606450', '3517124784_4b4eb62a7a', '3677613006_4689cb8e4e', '2596475173_58f11fc583', '2079554580_f18d5c181b', '3329858093_0ec73f2190', '2990977776_1ec51c9281', '2546667441_bbe87a6285', '3176072448_b84c99cf7f', '3500399969_f54ce5848f', '3090593241_93a975fe2b', '3273325447_81c94000da', '2856252334_1b1a230e70', '330849796_c575c3108a', '2929006980_9f9f8f3d21', '3474985008_0a827cd340', '479807833_85eed6899c', '3400082864_9c737c1450', '393810324_1c33760a95', '1430154945_71bbaa094a', '3041348852_872c027c16', '2266901263_4324af1f03', '3377570617_d2f2225a74', '3336361161_c06cdd160e', '2848266893_9693c66275', '3088322308_b0c940b3a3', '320093980_5388cb3733', '2394919002_ed7527ff93', '3314517351_69d70e62bd', '2448393373_80c011d301', '3354075558_3b67eaa502', '3259160693_067ec7ebc3', '3223606402_bb2aa6db95', '1472053993_bed67a3ba7', '270263570_3160f360d3', '3326273086_e09e845185', '3568505408_4e30def669', '485741580_ab523fa657', '1075867198_27ca2e7efe', '3611672054_45edd3e08f', '1121416483_c7902d0d49', '3278811919_d5a3432af6', '3440104178_6871a24e13', '2934325103_e9b8d7430f', '3308488725_f91d9aba27', '1084104085_3b06223afe', '2114739371_83aa8bdb0e', '365584746_681f33fa46', '3456579559_b5c8927938', '3156406419_38fbd52007', '2655647656_ee450446ed', '2967630001_cdc5560c0b', '504385521_6e668691a3', '3662909101_21b9e59a3e', '1130017585_1a219257ac', '2337919839_df83827fa0', '2940594396_20c40947b0', '537225246_dd0e2158a7', '510510783_b2cf5d57bb', '2619454551_c4bb726a85', '3730011219_588cdc7972', '3215695965_69fbeba3d5', '3057770908_3fd97f79f9', '405970010_8cebaa77d3', '3259229498_2b5708c0c6', '2344412916_9a5a9b1c82', '2819254573_9ecb5f4d5e', '3628043835_9d9bd595a7', '1405221276_21634dcd58', '2600883097_aca38cc146', '160566014_59528ff897', '3374384485_751f719be4', '3431194126_ca78f5fde6', '2528489543_546c1ca81f', '3015898903_70bebb8903', '3392293702_ccb0599857', '2990563425_2f7246f458', '2473293833_78820d2eaa', '1794818900_e0ffdd268e', '2460134050_06de9f5c4a', '3446191973_1db572ed8a', '3320154278_c67e01b8d1', '470887791_86d5a08a38', '3582689770_e57ab56671', '3175849727_bf30b892cb', '3578477508_b7d839da16', '3619806638_7480883039', '241346709_23204cc2bc', '241347441_d3dd9b129f', '2805873509_4f68afc4b4', '207930963_af3a2f1784', '3373481779_511937e09d', '358114269_96fdb5f7c3', '1499495021_d295ce577c', '2497074804_b4f3e7fd90', '3691729694_2b97f14c1e', '3273091032_98f724b36b', '3025334206_76888792e5', '3353962769_ba48691bc6', '2205088706_d7e633e00d', '3687995245_624b54090d', '315436114_6d386b8c36', '2330536645_2d36b516e1', '3520617304_e53d37f0af', '3672057606_cb6393dbd9', '2752809449_632cd991b3', '2822891602_ff61df2ece', '3547368652_0d85c665d3', '3638992163_a085cc0c24', '3444974984_963fb441a0', '2287887341_663bfa15af', '241347547_902725b9f8', '3217909454_7baa0edbb2', '2171154778_8189169336', '378453580_21d688748e', '2066271441_1f1f056c01', '2540884723_03d60ef548', '3148193539_de9dd48fc8', '429174232_ddd4ff5e0b', '2629402527_6dfc5c504b', '2460126267_0deea8b645', '3086523890_fd9394af8b', '3143574389_8a4048fbe2', '3307563498_e2b4f19272', '2861100960_457ceda7fa', '365274901_576b0f8241', '3279025792_23bfd21bcc', '448257345_ce149c2ea6', '3304511635_113beaf458', '3367851138_757d6bd2ef', '2694178830_116be6a6a9', '3656206975_09e6ce58bd', '3178371973_60c6b8f110', '3097776588_312932e438', '2637959357_dd64a03efa', '3585495069_33cba06d0a', '2766630484_ce73f47031', '2874728371_ccd6db87f3', '3003011417_79b49ff384', '2596100297_372bd0f739', '2137071442_1c9658c81a', '336460583_6c8ccb7188', '2968135512_51fbb56e3e', '2252299132_14ca6e584b', '146577646_9e64b8c2dc', '2208055895_37cd8e1edf', '2451285022_59255e7fd9', '436013859_793d870b6f', '3280672302_2967177653', '3211289105_e0360a9c7f', '3360823754_90967276ec', '3442540072_b22ca2410f', '3420064875_0349a75d69', '3407317539_68765a3375', '1287931016_fb015e2e10', '3264397357_72f084cac1', '1932161768_996eadac87', '3164423279_9b27cb6a06', '2130986011_47cb05c8c9', '3249125548_700d874380', '2551632823_0cb7dd779b', '2324917982_f3db8c11e9', '408748500_e8dc8c0c4f', '3109136206_f7d201b368', '3582465732_78f77f34ae', '54723805_bcf7af3f16', '3219065971_702c4e8c34', '3155361712_2cbf59c78e', '2393410666_b8c20fff61', '954987350_a0c608b467', '3300019891_8f404d94a1', '2522540026_6ee8ab4c6a', '3047144646_2252ff8e04', '3677927146_1696f0b075', '2882743431_c3e6cd1b5c', '383223174_7165a54c30', '2950393735_9969c4ec59', '1463638541_c02cfa04dc', '2900048238_74bd69d87d', '2999162229_80d17099b6', '3484576025_a8c50942aa', '3084149186_4bc08b0752', '1516714577_7d1c35a8d8', '1511807116_41c3645e8c', '1429814475_0b592b9995', '468911753_cc595f5da0', '19212715_20476497a3', '306318683_5f1f875191', '480200554_6155e9dfeb', '2392460773_2aa01eb340', '2472678549_67068a1566', '3561537309_e271d57492', '2642475077_69d19deb74', '3690883532_d883f34617', '3533470072_87a5b595ba', '1355833561_9c43073eda', '3245504245_27931f5ec1', '956164675_9ee084364e', '2337809114_899ba61330', '3524975665_7bec41578b', '2869253972_aa72df6bf3', '3443351431_7b4061df5c', '244774022_a12c07afdb', '460350019_af60511a3b', '2070831281_dc04b3e15d', '3737711435_113ccd0a52', '286660725_ffdbdf3481', '3659090958_a56913ca68', '2892992529_f3335d0a71', '134894450_dadea45d65', '2321865325_79b0954a5d', '3317333893_9d0faa8d30', '540604040_bec822c144', '3202255152_08973fa3d7', '3500115252_9404c066a8', '3436418401_b00ceb27c0', '3584406900_039f30b34c', '2144049642_070cf541b4', '3381392182_db2c42430e', '2064792226_97e41d8167', '3576060775_d9121519cc', '3106782647_b078830a9e', '2472574160_8ce233f396', '2863180332_372510aa49', '3134586018_ae03ba20a0', '3638459638_ec74e3ff89', '2129430111_338a94f8fb', '3540241710_a4f49cde52', '166654939_80ea4ddbcc', '3070713991_8696796937', '2428751994_88a6808246', '3296226598_1c892c4351', '2862931640_2501bd36c5', '3422394336_e465f60b7c', '3163273640_8d3ef22eaf', '441817653_fbdf83060b', '2445783904_e6c38a3a3d', '2846785268_904c5fcf9f', '3421131122_2e4bde661e', '2055646179_169807fed4', '3439982121_0afc6d5973', '3170551725_1276644eab', '3127614086_9f1d3cf73d', '3456251289_c4ae31d817', '3717845800_ab45e255b8', '3476709230_6439305bf2', '3038941104_17ee91fc03', '478750151_e0adb5030a', '1777816180_08d7e8063b', '3705688385_47651205d3', '312156254_ef31dca5ed', '3463922449_f6040a2931', '3107059919_0594269f72', '447800028_0242008fa3', '350529848_9569a3bcbc', '2746910139_77ba5be2c5', '3593556797_46b49a02a8', '1466307489_cb8a74de09', '2471447879_6554cefb16', '3030823649_3b7b6c728d', '256292144_b53aadae27', '3241726740_6d256d61ec', '3128514681_a51b415c31', '3530504007_3272c57e21', '3124549928_10904a5a83', '3655773435_c234e94820', '3639684919_cb6fbf5638', '2064417101_3b9d817f4a', '2752043092_f48ebfeaa2', '3302804312_0272091cd5', '3533775651_9d7e93dacf', '2873070704_2141a7a86a', '95783195_e1ba3f57ca', '1975171469_84e425f61b', '2276499757_b44dc6f8ce', '512550372_438849ce19', '1937262236_cbf5bfa101', '1295669416_21cabf594d', '452416075_60b2bb5832', '3377344932_6dfce93248', '2326730558_75c20e5033', '2597737483_6518a230e4', '1417882092_c94c251eb3', '3468346269_9d162aacfe', '3260768565_2b725be090', '3143991972_7193381aeb', '940973925_a2e6d7951c', '3081182021_22cfa18dd4', '2363100645_c3423a0433', '398413603_166896900f', '3051125715_db76cebd1e', '2046222127_a6f300e202', '2148695079_9ae6a9b1c7', '262570082_6364f58f33', '181157221_e12410ef0b', '418357172_bdddf71d32', '2911919938_6bb6587a36', '3321516504_5ee97771cb', '2089122314_40d5739aef', '1473250020_dc829a090f', '3019609769_c7809177f6', '2443512473_6f5a22eb42', '3520321387_710ab74cda', '1303335399_b3facd47ab', '3301935788_2bb7bbc515', '492802403_ba5246cfea', '386160015_d4b31df68e', '3341477531_4e37450f35', '256439287_990ac4a761', '498957941_f0eda42787', '3626642428_3396568c3c', '446138054_d40c66d5f0', '487071033_27e460a1b9', '3196995975_3e38eabf01', '2228167286_7089ab236a', '942399470_6132d3e5d2', '3453313865_1ebff5393c', '1810651611_35aae644fb', '500678178_26ce0f4417', '241374292_11e3198daa', '3547000169_40191e02ca', '3622216490_1314a58b66', '2441354291_b32e00e5a6', '3701226275_952547ba0f', '259314892_a42b8af664', '3318564834_4ccea90497', '179829865_095b040377', '133905560_9d012b47f3', '3123770450_cedc16d162', '468871328_72990babd4', '581419370_30485f3580', '35506150_cbdb630f4f', '394463341_5311c53783', '1187593464_ce862352c6', '2315867011_fc5fc9fa6d', '3349309109_4024a09a17', '469617651_278e586e46', '3436074878_21515a6706', '641893280_36fd6e886a', '411011549_1298d2b4d2', '3147758035_e8a70818cb', '3569284680_44fef444ef', '3237760601_5334f3f3b5', '549520317_af3d5c32eb', '2255338013_566127590b', '3597924257_d0da3c5fe6', '3726700898_c50494b8bd', '2998277360_9b4c0192f1', '2102315758_a9148a842f', '2439813616_c9ac54cc9f', '3384742888_85230c34d5', '1159574340_99ba8c3c59', '2174206711_11cb712a8d', '3459492423_c881f12c9f', '3543600125_223747ef4c', '2054308369_f9c6ec7815', '2937697444_2367ff0e28', '2662890367_382eaf83bd', '304408047_98bab3ea64', '3700346840_bb80d622f7', '2700147489_f1664f2b61', '447733067_09cfac3286', '3514184232_b336414040', '284441196_8ebb216d0d', '497579819_f91b26f7d3', '2873522522_829ea62491', '3251234434_d01e25a50a', '3207775692_bb897d9afd', '446286714_dcec7f339e', '263216826_acf868049c', '2991771557_d98fa0a69f', '3433470650_a8b1c27173', '757133580_ba974ef649', '3419238351_ac18b440c0', '1368383637_614646cc4a', '1797507760_384744fb34', '534200447_b0f3ff02be', '2807209904_389d81f33a', '3564157681_03a13b7112', '2302747917_aa0300eb68', '207237775_fa0a15c6fe', '3124838157_7ef96745b7', '427082246_5bf1c3676f', '410422753_de506155fa', '3558251719_3af5ae2d02', '2880051254_e0ca96b6be', '537359971_6e28f5e66e', '654130822_4aeb1f1273', '3304556387_203b9d4db0', '3215117062_6e07a86352', '2367318629_b60cf4c4b3', '799199774_142b1c3bb2', '407678652_1f475acd65', '848293676_98e73c52c1', '3526150930_580908dab6', '1305564994_00513f9a5b', '413737417_b0a8b445e9', '584484388_0eeb36d03d', '3151492269_28d8edaa68', '2313230479_13f87c6bf3', '3411022255_210eefc375', '3225880532_c8d5d1d798', '2173677067_9d0732bcc2', '2172526745_649f420569', '2812590023_50182bc417', '526955751_f519d62b58', '1348113612_5bfc5f429e', '2339516180_12493e8ecf', '2557129157_074a5a3128', '3019857541_3de3e24f54', '2501968935_02f2cd8079', '752052256_243d111bf0', '2249141510_f534708374', '129599450_cab4e77343', '3084011028_d1e2c40d7d', '2278776373_fe499a93be', '2998504949_1022fec53b', '3565021218_d2bc1aa644', '3639704469_fe83e1c9b7', '478208896_90e7187b64', '278388986_78ba84eb8f', '2850719435_221f15e951', '3437107047_715c60e9c8', '1288909046_d2b2b62607', '2887103049_a867e74358', '270809922_043e3bef06', '3049649128_d83d847168', '1523800748_a59e980eee', '2787868417_810985234d', '3343197133_9256848fa9', '3054200086_657d4398e8', '3287236038_8998e6b82f', '3197247245_9c93b60b8a', '2899622876_b673b04967', '1294578091_2ad02fea91', '2899594400_61b4f6c114', '2565657591_6c1cdfc092', '3131160589_dc73c209b7', '2939475047_84585ea45c', '3017656907_c3b137e070', '2698614194_b4e6e11dff', '519754987_51861fea85', '1428681303_04213524e3', '2444339090_bf7b3211f4', '2085255128_61224cc47f', '2903617548_d3e38d7f88', '3259694057_fae7484b0a', '3376014640_ff5b00769f', '354999632_915ea81e53', '3151860914_46e30cd5ea', '3425127583_611200619a', '689776124_07f560a920', '1676601498_7d59327523', '2789688929_9424fceed1', '2436160351_108924a65b', '2390778197_4d9d03d4b9', '2053006423_6adf69ca67', '485921585_1974b1577a', '2089350172_dc2cf9fcf6', '3349307529_c1a516b9dc', '3343900764_2a4c0405f9', '1001773457_577c3a7d70', '649596742_5ba84ce946', '2555521861_fc36fd3ab0', '2661567396_cbe4c2e5be', '3127629248_a955b5763b', '3697003897_d8ac13be9a', '1234817607_924893f6e1', '2685752892_9d5cd7f274', '2578395598_6982734d46', '1594038143_57f299aa8a', '3589368949_0866846949', '3046949818_245b05f507', '2081446176_f97dc76951', '292780636_72e1968949', '2714699748_c9270dd5aa', '957230475_48f4285ffe', '1312954382_cf6d70d63a', '2971298546_dd595cf297', '3461114418_c27b4043a2', '3644142276_caed26029e', '1428641354_f7453afbea', '3593538248_dffa1a5ed4', '3433259846_800a6079f0', '3189251454_03b76c2e92', '3286017638_c688c83e3d', '241347214_5f19e7998c', '297285273_688e44c014', '3712923460_1b20ebb131', '109823397_e35154645f', '2795352290_9209b214f3', '224702242_a62aaa6dff', '2537197415_af7c30dfc8', '3581451227_618854cea4', '313051099_1bb87d6c56', '3612825666_54f5a2bc06', '2537119659_fa01dd5de5', '2812125355_5e11a76533', '2603334363_cfa32c4482', '2522230304_1581d52961', '3533660418_f3a73a257c', '2267819545_446c5a3e18', '3683644335_b70bed1d83', '2597873827_a5cb3e57ba', '3394586927_eae7732b64', '3344632789_af90d54746', '3126225245_96cd2c053f', '2709536455_2a6046e38a', '2315807231_6948b3f3a5', '516725192_c9cdd63878', '1308617539_54e1a3dfbe', '3705976184_53ae07e898', '3371567529_606fa3452b', '3640104986_5d8c9a9948', '3169777863_d745865784', '3484625231_5b1a1a07b8', '2157173498_2eea42ee38', '317641829_ab2607a6c0', '521658170_a837af87e9', '3122888809_9ae9b4b9b2', '2649850541_59a6c7f01c', '3350614753_5624e181b3', '2519594430_551225e5bd', '3515665835_22e6fb1193', '3429142249_d09a32e291', '3091338773_9cf10467b4', '3244586044_205d5ae2ba', '2150564996_d173a506d7', '143688895_e837c3bc76', '2483993772_f64e9e4724', '275401000_8829250eb3', '1112212364_0c48235fc2', '2679851489_a58780291e', '3527261343_efa07ea596', '535529555_583d89b7f2', '214543992_ce6c0d9f9b', '2710280476_dcccb8745a', '3326376344_3306bf439e', '3673878924_506c9d767b', '3628698119_5566769777', '2303016989_0deb96c8d9', '1016887272_03199f49c4', '2714878018_1593c38d69', '57417274_d55d34e93e', '397451339_76a84bd310', '3585117340_73e96b6173', '970641406_9a20ee636a', '3694071771_ce760db4c7', '1819261140_6c022f4b1d', '366713533_bd6d48cf02', '3211437611_bd4af3730b', '2363419943_717e6b119d', '2960422620_81889a3764', '2444821454_22a346c996', '3556037801_3992ce6826', '3630102841_b4c3e00b2c', '2456030728_d3d147e774', '264928854_d9e61f3a8e', '2447972568_1e9b287691', '443885436_6e927e6c58', '449352117_63c359c6e7', '3379839396_0cd84b55f1', '1552065993_b4dcd2eadf', '1386251841_5f384a0fea', '2102724238_3cf921d7bb', '2176364472_31fcd37531', '2584412512_6767593f24', '3713177334_32f3245fd8', '2982881046_45765ced2c', '3634785801_4b23184a06', '2525232298_cf42d415ab', '2873648844_8efc7d78f1', '2374570771_c395fc224a', '72964268_d532bb8ec7', '3668900592_a84b0c07db', '2531942624_c3c072064e', '2501942587_e59b91d1da', '1401961581_76921a75c5', '2857558098_98e9249284', '1425069590_570cc7c2d8', '3723690961_729dd5d617', '2314722788_6262c3aa40', '69710411_2cf537f61f', '3649387275_75295baa28', '3168841415_c0705a327a', '3606909929_90a1a072b7', '2066048248_f53f5ef5e2', '3494723363_eaa6bc563b', '3700554247_9824ae6f3a', '3107592525_0bcd00777e', '347543966_b2053ae78c', '2512682478_b67cc525c7', '2423856014_8df0e7f656', '3560977956_e08d2cd531', '1362128028_8422d53dc4', '3031263767_2e3856130e', '3085973779_29f44fbdaa', '952171414_2db16f846f', '3707738261_777075e885', '3492180255_0bd48a18f8', '1244306891_8e78ae1620', '2576878141_87f25a10f0', '1124448967_2221af8dc5', '3084010872_cbc3ea8239', '1075881101_d55c46bece', '318667317_108c402140', '2438085746_588dce8724', '235065283_1f9a3c79db', '381052465_722e00807b', '2678798732_2998f9969c', '707941195_4386109029', '3643684688_2f7157b23d', '3456862740_7550bcddc2', '3204712107_5a06a81002', '3648081498_76ec091495', '3415578043_03d33e6efd', '2198484810_50a893824a', '2912476706_9a0dbd3a67', '123889082_d3751e0350', '3590654365_fd4819f48b', '3517127930_5dbddb45f6', '1341787777_4f1ebb1793', '2244171992_a4beb04d8e', '2231847779_1148d1c919', '3204686006_88f04547b9', '3219210794_4324df188b', '386656845_4e77c3e3da', '3282925526_535ff9f2b2', '3662406028_29b9e46a6f', '3594029059_cee1f4c59a', '2337757064_08c4033824', '3387630781_f421a94d9d', '2766765386_4c0beb939d', '3171250845_5ae0d2a8bc', '3486324591_9f5eeb24b9', '3051341320_1d0166e775', '637342973_89f6fac1f7', '2393971707_bce01ae754', '2298283771_fb21a4217e', '3556571710_19cee6f5bd', '2330843604_b8d75d6ac7', '303795791_98ebc1d19a', '3628103548_2708abcda2', '3631136463_53ff624b82', '539667015_fd0a3bea07', '2358447641_10f1e9d21f', '2436398074_8737f40869', '2186367337_0ce9ce2104', '3562816250_6e14d436b1', '2872806249_00bea3c4e7', '2550011909_6b95f11330', '344841963_8b0fa9784c', '3680218298_582e6a2289', '2908859957_e96c33c1e0', '3312096605_f458757418', '2752084369_52e7867da7', '3189964753_a95536ced9', '428485639_a82635d6ee', '44129946_9eeb385d77', '3368671163_0171259581', '322103537_184367bf88', '2942133798_e57c862a90', '3260191163_6c1551eee8', '3638318149_b60450bfbe', '1921398767_771743bf4e', '241345942_ea76966542', '3106223494_52d4d2d75d', '294353408_d459bdaa68', '3038045802_93f2cd5fbc', '2852982055_8112d0964f', '2963672852_c28043bb2c', '278105206_df987b0ca0', '2925242998_9e0db9b4a2', '445861800_75fc6a8c16', '2612949583_f45b3afe33', '490044494_d2d546be8d', '3025438110_40af7e6a80', '3471117376_40585c3fd1', '3696246123_99d4d10140', '2332986053_864db84971', '106514190_bae200f463', '3015891201_2c1a9e5cd7', '2586532797_dcf22a5021', '2974501005_346f74e5d8', '875731481_a5a0a09934', '3451345621_fe470d4cf8', '3030223792_02b6f2be99', '3268443910_b36dbc1e5c', '753578547_912d2b4048', '2911107495_e3cec16a24', '2465691083_894fc48af6', '2449518585_113dc4a8e5', '1072153132_53d2bb1b60', '480607352_65614ab348', '2837799692_2f1c50722a', '3509611207_7645b1d28d', '745966757_6d16dfad8f', '2921430836_3b4d062238', '1540631615_8b42c1b160', '930126921_1b94605bdc', '502671104_b2114246c7', '2921578694_a46ae0d313', '2732625904_4fbb653434', '3614542901_29877fc342', '2140747429_62cfd89ae9', '2466093839_33bbc8cbd9', '1928319708_ccf1f4ee72', '334737767_7f344eee16', '636503038_17ca82b50f', '3159569570_dff24e7be9', '422756764_e7eaac76bf', '2193223202_4d908c0450', '3554210976_fbd0ef33a3', '3532587748_7e64bb223a', '3461583471_2b8b6b4d73', '3376942201_2c45d99237', '2855594918_1d1e6a6061', '2077346067_0a3a5aae65', '143237785_93f81b3201', '3433567526_00b5a70319', '3325578605_afa7f662ec', '3251906388_c09d44340e', '2972929655_04233b5489', '436015762_8d0bae90c3', '1397923690_d3bf1f799e', '859620561_de417cac1e', '3601533527_6c2439113c', '2955099064_1815b00825', '2992808092_5f677085b7', '3724623861_2bb6c23641', '2374179071_af22170d62', '3501206996_477be0f318', '3339319023_5dcc3ef81a', '2949762776_52ece64d28', '1079274291_9aaf896cc1', '2855417531_521bf47b50', '2050067751_22d2763fd2', '451597318_4f370b1339', '3621649810_cca783b777', '3218889785_86cb64014f', '3522076584_7c603d2ac5', '551664516_78a5131dc4', '2661489896_cc3425777e', '2332540384_4cf26406a9', '1213336750_2269b51397', '798343627_7492fe0c12', '1141718391_24164bf1b1', '3174726084_c108de0a64', '3085357792_efcf297c71', '239807547_4923efc821', '2244024374_54d7e88c2b', '2823575468_15f6c345fc', '2831215155_07ba8f1805', '3298233193_d2a550840d', '365128300_6966058139', '389643437_9a9830a3ba', '2971211296_2587c3924d', '450596617_ed37ec0fe4', '3562169000_6aa7f1043d', '478209058_21e2c37c73', '3547313700_39368b9a2f', '1089181217_ee1167f7af', '2765029348_667111fc30', '1259936608_e3f0064f23', '888517718_3d5b4b7b43', '2045928594_92510c1c2a', '3449846784_278bc1ba92', '2245618207_fa486ba2b7', '2844846111_8c1cbfc75d', '311267421_e204e643cf', '2546959333_23b957988f', '3218481970_1fa627b3da', '2355578735_286af5b202', '3336808362_c17837afd8', '2824401212_8da8ab99d6', '3389448506_7025e7cc12', '2279980395_989d48ae72', '3019923691_3b3c5a4766', '3335547029_74d620fa6c', '2412390588_a89cab30f4', '2870194345_0bcbac1aa5', '3671262694_29fbeb9d95', '1479513774_70c94cf9d3', '1895768965_43cd9d164f', '3587449716_3bf1552c36', '2698487246_e827404cac', '1342766791_1e72f92455', '2604305843_ebe3e8a328', '2790909995_8b7a03d9d1', '302241178_a582c1b953', '2930580341_d36eec8e3c', '2860041212_797afd6ccf', '3004291289_c4892898ae', '3182258223_5b9c8a8c55', '2076906555_c20dc082db', '107318069_e9f2ef32de', '3039214579_43ef79f931', '3319723910_af5b5f1fae', '3441511444_b031585b45', '3674521435_89ff681074', '3258472448_75cfab5e6f', '3372022051_132b8e6233', '2720985888_8f5920e8cf', '2746839158_4195210d27', '2707933554_f6dc5e0e3c', '3294717824_3bb7b5d1c8', '3154813159_58a195236d', '977856234_0d9caee7b2', '3543378438_47e2712486', '3383491811_fd9d3a891d', '2592019072_a6c0090da4', '2435166927_28b8130660', '3497069793_2d4baf5b4b', '2205328215_3ffc094cde', '3082934678_58534e9d2c', '3661072592_2e693cd5a0', '2755952680_68a0a1fa42', '506478284_7cf8bdbe36', '3183195653_11b66acb34', '3301021288_95935b7a74', '3574244361_715ac347cd', '639120223_7db6bdb61f', '3643074723_94d42b7a0c', '3082196097_2d15455b00', '3641456303_c50c33337b', '895502702_5170ada2ee', '3541915243_956c1aa8ef', '2070798293_6b9405e04d', '527968666_1fcddf81ab', '3551447084_becc6a4666', '2784625888_71a421e171', '3658733605_fbcf570843', '2578003921_e23b78e85f', '3441399292_60c83bd5db', '2064780645_8f28a1529f', '254527963_3f5824b0e8', '3730457171_e66dde8c91', '1468429623_f001988691', '3565749152_7924d15b04', '2119302248_72493d458c', '2500354186_0836309cc9', '1304100320_c8990a1539', '2685139184_4ff45e0f76', '3304712466_18cbdb85fe', '3672105509_53b13b2ed4', '3297272270_285b8878b2', '3496983524_b21ecdb0c7', '534655560_dc1c335b3f', '3240094420_a9eea11d39', '2689163361_4939875be5', '2994104606_bc2df6c1f4', '3582814058_564776f26c', '3490597800_8f94f7d353', '3107558821_f3b205d4ed', '3177799416_5bd0382370', '2763601657_09a52a063f', '610590753_cd69ce081a', '3587781729_bd21ce7b11', '2698197294_ccd9327ef6', '3084731832_8e518e320d', '541063419_a5f3672d59', '3358380484_b99b48f0c9', '512634877_d7ad8c8329', '3475111806_f0d2927707', '2120571547_05cd56de85', '551403320_dfdcf9fc3b', '3093970461_825b0cac2f', '1338523142_57fce8229b', '1436760519_8d6101a0ed', '2260649048_ae45d17e68', '1234293791_6566284bcd', '1295671216_cde1b9c9d1', '3264650118_be7df266e7', '421932359_edbf181f44', '267325341_1a96ef436e', '2690702549_cf81da8cf6', '2672354635_3a03f76486', '2885912662_a3a2dfde45', '3384528359_e920154177', '2676649969_482caed129', '3609999845_faf5d2fe74', '3535056297_e16f014cb7', '3646970605_d25c25340b', '155221027_b23a4331b7', '2845845721_d0bc113ff7', '273248777_eaf0288ab3', '1795151944_d69b82f942', '3677302645_8cd3fac70d', '3668518431_43abb169eb', '3488512097_e500cb499f', '693785581_68bec8312a', '401476986_73918145a3', '894928353_002a3d5f06', '1024138940_f1fefbdce1', '2557922709_24d2a9655a', '788126442_086334f0cf', '146577645_91b570c0d0', '3675685612_3987d91d92', '337793983_ac5b2e848e', '2897832422_0cbdb1421e', '3187117682_986ffd6b67', '2661294969_1388b4738c', '1308472581_9961782889', '518251319_40e031e818', '3643684616_9d2be87a5a', '3424851862_0f51c42922', '3227594168_3351722aae', '3665569615_9a71c4b6e4', '2294516804_11e255807a', '3014080715_f4f0dbb56e', '2314732154_83bc7f7314', '3356938707_d95ba97430', '3083016677_5782bc337c', '3534548254_7bee952a0e', '1718184338_5968d88edb', '3265578645_4044a7049a', '2282260240_55387258de', '1466307485_5e6743332e', '2428797297_7fc3c862db', '3074265400_bf9e10621e', '2656749876_e32495bd8c', '3265209567_b3b9c8e0fe', '3372214646_cc2ceb182f', '2255332561_3375897ff0', '2511762757_bd0ab0a017', '3076052114_233f42ae5b', '1488937076_5baa73fc2a', '232193739_ed5f348c7a', '3404012438_9baf8dcbaf', '2367139509_1ee4530b28', '3159092624_66af4e207e', '1187435567_18173c148b', '3619630328_2d0865b6f4', '407569668_19b3f8eaf6', '3246773992_89bf86937b', '2547785434_f227bd3680', '2417623030_afdc1024b5', '3641999223_942f8198cc', '2876994989_a4ebbd8491', '2183967273_d182e18cf6', '2692635048_16c279ff9e', '3381038951_225bb163af', '2892467862_52a3c67418', '2594336381_a93772823b', '3706653103_e777a825e4', '3713324467_104d72f7db', '3454315016_f1e30d4676', '2269961438_cae7a9c725', '2824922268_3fafb64683', '2976946039_fb9147908d', '2715155329_1ed1756000', '3016726158_4d15b83b06', '336551615_a01418bc53', '2230067846_74046b89d3', '708945669_08e7ffb9a7', '1093716555_801aacef79', '3382679230_baef3d1eaa', '3401039304_424ffc7dbf', '3060519665_4d6b9a51b2', '3535284878_f90f10236e', '3259225196_750c4ce0f9', '3048211972_db71d104c2', '3371887001_44ab0c2f17', '3555231025_73fa54fa29', '3017203816_5dc2a6b392', '3690189273_927d42ff43', '1713248099_d860df4e10', '462198798_89e2df0358', '2855910826_d075845288', '3283626303_8e23d4a842', '2585141045_b496a7b7c4', '1311132744_5ffd03f831', '2514612680_b0d2d77099', '1398873613_7e3174dd6c', '3708748633_e7e3cf4e84', '3217056901_fe2c70377d', '2204277704_f1c8c741ed', '2558911884_856dfc3951', '3224904543_679fe05c41', '2994205788_f8b3f2e840', '3621647714_fc67ab2617', '3293753378_7a8ddb98b2', '344078103_4b23931ce5', '3633396324_c4b24b1f51', '2848977044_446a31d86e', '3516521516_9950340b96', '3737492755_bcfb800ed1', '3595408539_a7d8aabc24', '3284899112_f11ab3cfe6', '2882483779_73c171ac19', '3664297064_a4d45cbbbc', '264859622_f3a00ab409', '475980315_b8ecd50094', '3404978479_8a81843e17', '2741051940_89fb6b2cee', '2415265825_fbfe0c8556', '3672940355_47f30e2b28', '2171891283_dedd9cf416', '255091927_2eb643beb2', '3459419203_cd7c68ce4d', '318070878_92ead85868', '1491192153_7c395991e5', '3165826902_6bf9c4bdb2', '269898095_d00ac7d7a4', '673806038_0a3682a83f', '2095478050_736c4d2d28', '297169473_d3974e0275', '905355838_3a43fdfd4e', '3250589803_3f440ba781', '2249264723_d08655d9f2', '2686432878_0697dbc048', '2938875913_0ed920a6be', '262963190_a78b799e89', '3008370541_ce29ce49f0', '3638783120_f600ceb19d', '3425061393_d093edb8da', '1290894194_8a4ffdc7eb', '2895403073_906768cafa', '3107368071_724613fc4f', '2206594874_5e0087c6b7', '2276314067_7ee246f859', '1770036088_08abe4f6e9', '2063277300_f7ff476914', '2043427251_83b746da8e', '3097196395_ec06075389', '191003287_2915c11d8e', '3721881082_afe9fc734e', '3677954655_df4c0845aa', '3369354061_2bab79f91f', '2273028514_d7b584f73d', '2218334049_e649dbdb1a', '2384401298_e389c01abc', '872512911_ca383b40e4', '3643684044_a131168127', '3268175963_113d90d178', '2995935078_beedfe463a', '241346434_0527ea1c07', '2991375936_bf4b0a7dc0', '3229282764_a4a515f4e2', '3053785363_50392f2c53', '237547381_aa17c805e0', '3738789925_7d17dbdf25', '3533484468_0787830d49', '2884092603_786b53a74b', '341430859_4519802e8f', '697778778_b52090709d', '1277743944_f4e8c78403', '2862509442_4f5dc96dca', '3636418958_f038130bb2', '3516312179_f520469038', '2555622234_3e531e4014', '2628331789_c7f7d90e5d', '2878705136_609dfbf318', '248858242_1c33c54ada', '1956944011_c5661d3f22', '3374722123_6fe6fef449', '2056042552_f59e338533', '3506869953_802f463178', '2993167183_2bda95fa3d', '369047365_35476becc9', '2662816021_ac474e0fde', '3244734844_c318c29c23', '2251992614_0c601fae2c', '241346317_be3f07bd2e', '2878578240_caf64c3b19', '3147913471_322ea231d9', '272156850_c4445a53f4', '3298175192_bbef524ddc', '3583704941_611353857e', '252578659_9e404b6430', '2456615908_59cdac6605', '3636543173_15f56515e5', '755326139_ee344ece7b', '3549464203_8ab9c6160b', '3726730085_2468ee9220', '3348208268_6d97d951eb', '1508269285_6c5723f67d', '640506101_ae1145b6d1', '2065875490_a46b58c12b', '3399906919_bc8562b257', '3416246113_1745559b6b', '2147199188_d2d70b88ec', '2662262499_3cdf49cedd', '3502459991_fdec2da131', '3106791484_13e18c33d8', '2466420387_86fe77c966', '3138746531_f6b816c126', '1351315701_6580b51c41', '2214847438_4993210d4c', '3182405529_7692256746', '2800758232_d7fa598065', '2769731772_18c44c18e2', '404890608_33f138aefa', '1357689954_72588dfdc4', '336551609_1385ab139e', '2076865206_53918c820c', '509241560_00e5b20562', '3501313414_ae865b6fdf', '3054997030_797096dd12', '1439046601_cf110a75a7', '2114126343_a0f74ff63b', '3346711367_5e7b29e20f', '2965604928_435dc93bf7', '2876848241_63290edfb4', '2735290454_1bd8bc5eac', '2433175169_da939372f2', '1515883224_14e36a53c7', '425706089_f138118e12', '3110614694_fecc23ca65', '2823200990_7b02b7cc36', '3542418447_7c337360d6', '2265100168_175f8218af', '2279945145_8815c59217', '2837127816_24441e5f7c', '3388094307_5a83be64a5', '378170167_9b5119d918', '2115849046_2aa9fa8d13', '3242354561_54e5a34925', '3550253365_27d4c303cf', '2393924525_1bf45ca217', '3014546644_d53db746ec', '102351840_323e3de834', '3557148230_7fc843e5de', '2701603045_6cbdc4ce7c', '2574084102_f2be3f73cb', '2856524322_1d04452a21', '2396100671_3a9d67f03d', '1463732807_0cdf4f22c7', '509200598_171a1ab6c8', '3206999917_e682672cbc', '3497106366_d1a256e723', '3760400645_3ba51d27f9', '3268191118_ba25fabab6', '3677329561_fa3e1fdcf9', '2461372011_ebbf513766', '361183669_52be9662b9', '751074141_feafc7b16c', '298920219_9a3f80acc5', '2449289139_08fc1092c1', '2633201394_ee4a7666ed', '2084157130_f288e492e4', '2362377137_9528692825', '2394763838_99d1435b85', '2921198890_6f70dfbf4c', '237277765_9e6fa5b99a', '543603259_ef26d9c72d', '172092461_a9a9762e13', '1809758121_96026913bb', '3027365101_3818be6e16', '494907021_321e82877a', '2346189044_546ed84aa9', '2888732432_7e907a3df1', '2136992638_098d62a3c5', '3708266246_97a033fcc7', '3130093622_362f32f2bb', '2467856402_0490413d38', '3546891929_f31a99cd0d', '1402641725_5e027ecaa7', '3326204251_2f9e446a2f', '310728631_155c3bbeea', '2828583747_8cfb7217af', '2289096282_4ef120f189', '364213568_7f83e7d144', '487487795_54705c406e', '3581538034_783b7d0d09', '760138567_762d9022d4', '3631671718_d712821757', '3546027589_253553252a', '1414820925_3504c394e1', '2088120475_d6318364f5', '2518094853_dfce24ce8c', '2441629086_52f68eb316', '724702877_f2a938766b', '1357724865_4faf4e1418', '3118425885_f0cc035032', '1055753357_4fa3d8d693', '440184957_267f3f3a2b', '3283913180_7d4e43602d', '276699720_fe6718fd03', '697582336_601462e052', '3487979741_5f244c0c4b', '3673035152_da7ed916d9', '361092202_3d70144ebd', '206087108_d4557d38ee', '2215165918_2bf5b659dd', '3382303178_69b6d1bdd2', '2943079526_e9033a6556', '225909073_25c3c33a29', '3527184455_1a9c074ff2', '3339586622_a7676b30e1', '3207676216_48478bce97', '3678100844_e3a9802471', '278559394_b23af734b9', '2730994020_64ac1d18be', '3584603849_6cfd9af7dd', '3361411074_83f27d2a1c', '1053804096_ad278b25f1', '2918653119_f535fc25c4', '3439414478_8038ba9409', '3506216254_04d119cac7', '3431671749_e8e3a449ac', '3119903318_d032141839', '489773343_a8aecf7db3', '2650620212_0586016e0d', '3366904106_e996320d20', '1151466868_3bc4d9580b', '561179884_8b6b925ef9', '3184891327_8785194e3c', '441921713_1cafc7d7d2', '2420730259_86e7f8a815', '2354456107_bf5c766a05', '3286045254_696c6b15bd', '3538686658_30afc75f02', '3346614841_698f9aa486', '3484070900_3e76d7fd30', '2448270671_5e0e391a80', '2306186887_0bd8ed3792', '326585030_e1dcca2562', '1020651753_06077ec457', '3417672954_46b75dea8d', '3542771548_fcb8fa0cba', '424506167_01f365726b', '2555638166_2f0847d57d', '3079341641_f65f6b0f8b', '1118557877_736f339752', '2805822564_6dee48e506', '2924483864_cfdb900a13', '2360194369_d2fd03b337', '1814391289_83a1eb71d3', '95734036_bef6d1a871', '2718049631_e7aa74cb9b', '2429272699_8a9699775e', '3180806542_49b6de312d', '1352398363_9cc8ffcce9', '439049388_3dcee2d30b', '2665461736_595c87f0a3', '2978271431_f6a7f19825', '2885382946_f541ea5722', '542269487_5d77b363eb', '2507182524_7e83c6de82', '2739332078_13d9acce59', '362316425_bda238b4de', '2272548482_0b4aec5cdd', '1057210460_09c6f4c6c1', '3000428313_8a1e65e20e', '2293424366_7b5fcd2398', '1396703063_e8c3687afe', '1303550623_cb43ac044a', '2527303359_6c3dc3f282', '319847657_2c40e14113', '3726120436_740bda8416', '2593695271_4d9cc9bd6f', '860928274_744d14f198', '260162669_c79a900afb', '2331510788_986809bbb4', '371364900_5167d4dd7f', '3632258003_6a0a69bf3a', '2508249781_36e9282423', '2533010184_ef2fd71297', '576075451_5e0f6facb3', '2949337912_beba55698b', '3446762868_06e9d9d899', '3601803640_5f3cb05acf', '3497255828_f27e009aac', '2882893687_1d10d68f2b', '3590653633_495de5f288', '3725353555_75c346d7ec', '1189977786_4f5aaed773', '2241768909_3d96d48417', '2978024878_a45b282bf4', '3699522388_2333f01f40', '2423894412_d952d5d103', '2087640654_1a84577a44', '3304030264_da3dd18c7b', '2699426519_228719b1db', '3726019124_f302b3d48a', '3173976185_8a50123050', '2518853257_02f30e282e', '1355703632_5683a4b6fb', '2447035752_415f4bb152', '3528251308_481a28283a', '2636514498_01fcc5f501', '3126981064_1e803c3d7f', '3580741947_cc64a83648', '3319405494_58dee86b21', '3060594966_030658d318', '527288854_f26127b770', '3693297007_94512e861e', '244910177_7c4ec3f65b', '3558683579_8fb36b55a6', '3677734351_63d60844cb', '1235580648_7eebaed9bc', '287999021_998c2eeb91', '3606093421_eddd46c2c7', '2783620390_02c166c733', '2844963839_ff09cdb81f', '2915538325_59e11276dd', '795081510_53fd17d101', '2923475135_a6b6e13d26', '502115726_927dd684d3', '3215847501_c723905ba4', '1301140633_046e4e8010', '2557507575_b247f145bc', '2919459517_b8b858afa3', '2327088022_478dbd2c17', '1573017288_4d481856e2', '2893515010_4a3d9dcc67', '3444982197_0ff15cc50b', '3247341210_5d1e50df23', '3209350613_eb86579ee8', '1625306051_7099519baa', '2769605231_dae8b30201', '3238654429_d899e34287', '456299217_b2802efbc2', '2303356248_65dd6aba6f', '3407357681_5aeaab5b59', '3323952123_deb50b0629', '3690159129_93ba49ea18', '3583516290_1c87a13770', '3666537170_c4ecda4be8', '639865690_d66d480879', '2538423833_d1f492d1fb', '3183195185_cd0ff994a1', '3601569729_bf4bf82768', '2623939135_0cd02ffa5d', '3101796900_59c15e0edc', '2088532947_c628e44c4a', '3475092236_cf45d383c7', '2607383384_d9ce9de793', '2299859649_07ca44a222', '2826030193_4278ccb833', '2570365455_41cc9a7d2b', '3144705706_391d7b77c7', '1550772959_9ca9fa625f', '2404692474_37da774368', '701816897_221bbe761a', '3251460982_4578a568bb', '3309082580_7228067ee0', '3690107455_0fdb4ecee7', '455611732_d65bf3e976', '2922512807_d382528a93', '325005410_e1ff5041b5', '3531811969_49af4c22f0', '2504277798_936a09c74d', '3733074526_82aa8d5f8d', '3033210806_3ffc0a231a', '2911658792_6a6ef07e3a', '1402843760_d30f1dbf0f', '2363540508_9dd1ccf7c7', '3048380686_732db55281', '2815788792_d226215d10', '2256218522_53b92bcbb2', '3593220756_5c416c3ceb', '247618600_239eeac405', '3708172446_4034ddc5f6', '2833560457_24aedf3bef', '2039457436_fc30f5e1ce', '2592711202_55f8c64495', '143684568_3c59299bae', '3210705660_2b14b7fb36', '3475581086_a533567561', '94232465_a135df2711', '3151365121_e2a685a666', '2583001715_1ce6f58942', '2998185688_8d33e4ce38', '244910130_e1f823a28a', '2603125422_659391f961', '2942798367_022df04b49', '399246804_b4b5dc70e1', '3087095548_6df7c2a8ed', '3249891874_6a090ef097', '3028095878_07341efc9c', '2993388841_6746140656', '3607489370_92683861f7', '190638179_be9da86589', '2067362863_59577f9d4d', '3530087422_7eb2b2c289', '3676561090_9828a9f6d0', '1009434119_febe49276a', '3169591322_d0b6d0cd04', '272283076_2d4aa1d5cf', '3308171165_20f93d2fba', '2264316030_600e55748d', '3676788491_01e9bc5f15', '3283368342_b96d45210e', '2364394224_c17b09e035', '2199793371_343809ff70', '511282305_dbab4bf4be', '1248734482_3038218f3b', '1459032057_97e73ed6ab', '2883950737_3b67d24af4', '3070130228_67dcfee9ae', '2528552898_9e49a7033f', '3701509233_a2275a4e57', '765298136_7805fbb079', '3459858555_c3f0087a72', '2618866067_07cbc83dc5', '393284934_d38e1cd6fe', '2891924845_92f69b0f18', '515335111_c4afd5b903', '540873795_ae62ae6f60', '2476214153_99a3998509', '2896640216_761a47f006', '2359784186_36c9746d02', '3355494822_61353a224d', '2324979199_4193ef7537', '2916586390_664f0139ea', '397547349_1fd14b95af', '495341977_b27279f962', '3545779287_8f52e06909', '148512773_bae6901fd6', '1332492622_8c66992b62', '2481490320_7978c76271', '3371279606_c0d0cddab2', '2525666287_638ab5e784', '2935703360_4f794f7f09', '2805101709_1c8916f63a', '3386375153_20c56d0aae', '1536597926_c2e1bc2379', '3525417522_7beb617f8b', '2781296531_f6f0f6c0f5', '2698119128_62b4741043', '432167214_c17fcc1a2d', '1429723917_6af585e4c0', '3014773357_f66bd09290', '448590900_db83c42006', '766346887_a9a9d0637a', '2301867590_98c0ecb0cb', '2766854400_640e2abe08', '3173014908_b3e69594b6', '3091916691_b1c96669c6', '244867897_d00369a779', '1478606153_a7163bf899', '3065560742_f6e266ccd9', '384465575_31294122c0', '2916009941_34a0013803', '3337332770_5eda5cceb7', '2247138288_7355861203', '2675190069_d5c3b2c876', '2808870080_4ea4f3327e', '222878446_32c6fc4bc9', '832128857_1390386ea6', '436608339_f1d1298770', '3004290523_d1319dfdb4', '890734502_a5ae67beac', '2187904131_96ea83b9b5', '242324909_06d5a6c44b', '3183883750_b6acc40397', '2988244398_5da7012fce', '475313618_bdb2f72be5', '2297471897_3419605c16', '1798215547_ef7ad95be8', '2474918824_88660c7757', '2281075738_230892b241', '539744890_85e63f5854', '221973402_ecb1cd51f1', '462288558_b31a8a976f', '3621623690_0095e330bc', '2657663775_bc98bf67ac', '2337377811_8c81b40a64', '3103264875_2a8d534abc', '2238166082_140f8b01b8', '3471571540_b4ab77f20d', '2127031632_77505e4218', '2578161080_e007c9177a', '3091912922_0d6ebc8f6a', '1211015912_9f3ee3a995', '421808539_57abee6d55', '3069037969_bb7319e0dc', '3432586199_e50b0d6cb7', '507758961_e63ca126cc', '2663248626_f000f2661d', '1104133405_c04a00707f', '2856923934_6eb8832c9a', '2543247940_083f1b7969', '495116214_f1df479fb0', '3090398639_68c0dfa9a5', '746787916_ceb103069f', '3106562372_e349a27764', '254901702_67ada9867c', '3511890331_6163612bb9', '333031366_a0828c540d', '2427558437_3e839056d7', '543264612_c53cc163b4', '296873864_4de75de261', '2987576188_f82304f394', '3521201948_9049197f20', '3626998066_3ae11ee278', '300500054_56653bf217', '3402081035_a54cfab1d9', '327621377_0bc3b7fd26', '2116316160_d5fa7abdc3', '2836864045_9a093cfd65', '447722389_4b51b7e13d', '2774581025_81a3074e2e', '3293751640_d81a6f3a0c', '3007214949_a4b027f8a3', '512026551_ba63ddbd31', '3621717946_d96f8a6012', '2560278143_aa5110aa37', '2426215757_e008a91fcb', '3254640083_eb34b8edfe', '2664102751_d5a737a566', '3359587274_4a2b140b84', '197924859_f6e39a7dfa', '150582765_bad8dec237', '2894850774_2d530040a1', '3014986976_0e7b858970', '2220175999_081aa9cce8', '2521983429_33218366bd', '2860035355_3fe7a5caa4', '544301311_5e7d69a517', '197142902_f05ff198c2', '260850192_fd03ea26f1', '118309463_a532b75be9', '3092370204_029b6bc10a', '2229509318_be3fef006b', '3257107194_f235c8f7ab', '3374054694_fa56f29267', '408573233_1fff966798', '2330062180_355ccbceb5', '2348491126_30db0d46ef', '2925577165_b83d31a7f6', '3478084305_9e1219c3b6', '3529721084_4b405baf54', '3611603026_9112b0c53f', '3273163189_dece7babf4', '3163563871_cef3cf33ea', '3580082200_ea10bf2f68', '3337461409_e4e317853d', '3212085754_35fdc9ccaa', '3442272060_f9155194c2', '3497502407_ec566442c9', '2682194299_92005b26c6', '2977246776_b14be8290d', '3106883334_419f3fb16f', '2470519275_65725fd38d', '3556792157_d09d42bef7', '172097783_292c5413d8', '2600170955_bf30c5d5c0', '2591486448_48d5438343', '2990471798_73c50c76fb', '2272426567_9e9fb79db0', '532036676_e88b13e0a1', '1042020065_fb3d3ba5ba', '2846843520_b0e6211478', '2192026581_b782d1355a', '1969573381_5ecfae4c80', '2975807155_5a8610c297', '2271890493_da441718ba', '2927878881_90b42fc444', '3451085951_e66f7f5d5c', '3497236690_a48bf7ac42', '950411653_20d0335946', '3143978284_ac086be9a3', '750196276_c3258c6f1b', '2709648336_15455e60b2', '3119887967_271a097464', '3372167201_f7f909d480', '2086678529_b3301c2d71', '2954525375_9d5ca97341', '2866820467_ae699235a7', '3544233095_4bca71df1d', '241345596_91e0e2daf5', '2396669903_5217a83641', '3558438174_d8f41438a4', '2584020755_14e2b3e8fc', '3014169370_fc4059352e', '3338217927_3c5cf3f7c6', '3659686168_49c3abcee1', '2751567262_e089b33ed9', '3143953179_1c08c023a5', '3556485995_9cd40269e9', '2775744946_1ab5d500a2', '299612419_b55fe32fea', '3648988742_888a16f600', '2955673642_4279b32097', '3342309960_c694b2cce9', '2719102611_fef453bf30', '3564738125_10400f69c0', '3205754736_32c29b5208', '549887636_0ea5ae4739', '3434452829_62cee280bc', '3681575323_433d007650', '3125041578_c1f2d73b6d', '468930779_8008d90e10', '3286222970_1fa445e38f', '2380765956_6313d8cae3', '326334188_8850b7bfd4', '2540326842_bb26cec999', '3301744710_b51280eb56', '1454678644_7e5a371301', '2504056718_25ded44ecb', '2369248869_0266760c4a', '3597715122_45878432ec', '2308108566_2cba6bca53', '3493844822_c315a11275', '3653462288_bfe2360a64', '2068403258_2669cf9763', '343073813_df822aceac', '3514194772_43ba471982', '3355827928_c96c0c3e88', '1510669311_75330b4781', '688210930_85c5675d5b', '2252403744_148fc11f68', '3442138291_3e75f4bdb8', '2186087673_c7a73da7ce', '3165936115_cb4017d94e', '3421928157_69a325366f', '3361882891_6e610ffdbb', '3613242966_a1c63a0174', '1313693129_71d0b21c63', '525968880_82623392d1', '3474176841_cde2bee67c', '2232518012_8cb0bbc43b', '337647771_3b819feaba', '2394922193_310166d6af', '1346529555_e916816cfe', '2224995194_518859d97d', '3703960010_1e4c922a25', '3560771491_2a18b6241e', '3178489390_13a6ae7524', '2818735880_68b3dfe1f5', '3176498130_52ab9460b2', '1252396628_eb81d3905b', '446291803_2fd4641b99', '1479124077_17dcc0d5d7', '873633312_a756d8b381', '2929405404_1dff5ab847', '1067790824_f3cc97239b', '2453990033_df53f0d8c8', '3051754615_3d6494c2ae', '2711720095_0b98426d3c', '1397887419_e798697b93', '3139238055_2817a0c7d8', '3727740053_3baa94ffcb', '3724150944_fc62e8d5e0', '3484820303_7be0e914b4', '2489602993_896c1ea40a', '3627290893_561e176e80', '3166578139_33500f7e8a', '1827560917_c8d3c5627f', '3555729342_cc7a3b67fd', '3344526059_4a097af285', '2371749487_d80195a2e7', '3149038044_c7c94688c6', '2322327298_7948338390', '3537201804_ce07aff237', '514222285_aa0c8d05b7', '3058627443_1d57ff0a2c', '2254913901_569f568926', '2751466788_4fab701cc3', '2911245290_b2c79f328a', '2844747252_64567cf14a', '3474330484_a01d8af624', '270864951_1737ae5479', '2422302286_385725e3cf', '3484365373_98d5304935', '195962284_e57178054a', '1262077938_8b9516c273', '3289433994_4c67aab384', '3098707588_5096d20397', '2876494009_9f96d7eaf2', '556568556_bc5124dc8e', '121800200_bef08fae5f', '2259336826_0cb294e1f7', '2355880294_8f78a6fea6', '265223847_636ba039c1', '3409506817_775e38d219', '571130875_30051ac02d', '2760371526_63f3d01760', '539705321_99406e5820', '2867937005_91c092b157', '1482960952_95f2d419cb', '1812525037_528465037c', '3582066525_e9d6377f56', '2691966747_cfa154982b', '2603033456_3584d95116', '3377117696_af91f13058', '958326692_6210150354', '2273871383_1ddb3562ea', '2541701582_0a651c380f', '381239475_044cbffa2b', '2355819665_39021ff642', '3368865171_597d51cdd5', '3562282690_cd2a95fe9e', '3069786374_804e1123ac', '2836703077_fa9c736203', '2528547068_7d37479b9b', '963730324_0638534227', '2169951750_495820a215', '3599124739_b7e60cf477', '1529044279_4922ead27c', '3563871276_c8b2a00df5', '3756150099_50882fc029', '3246190363_68d903bfcb', '3252985078_c4ee2aca4e', '217583047_5e93e1e119', '272988646_1588bde6a8', '3522749949_fb615cee47', '1414779054_31946f9dfc', '33108590_d685bfe51c', '3065468339_4955e90fd3', '2473737724_355599a263', '608257195_6ec6f48e37', '3043266735_904dda6ded', '2847514745_9a35493023', '3608567609_aae96d4a5e', '1562392511_522a26063b', '3688797852_89ed3cb056', '1363843090_9425d93064', '241347823_6b25c3e58e', '2934000107_d2ff15c814', '2987195421_e830c59fb6', '3051998298_38da5746fa', '2705947033_5999147842', '3429391520_930b153f94', '3169276423_6918dd4da1', '275516348_cbccebc125', '359173181_a75c950aeb', '892340814_bdd61e10a4', '226531363_33ac01d931', '173020287_230bfc4ffc', '756909515_a416161656', '2704257993_d485058a5f', '3523972229_d44e9ff6d7', '400562847_e15aba0aac', '661546153_9d30db6984', '2956895529_ec6275060e', '285306009_f6ddabe687', '533713001_2d36e93509', '469969326_4b84073286', '3565655045_8eb00b7423', '3540515072_8c951b738b', '3386060324_b98fdfa449', '1937104503_313d22a2d0', '3682038869_585075b5ff', '2180886307_5156460b2c', '3603301825_5817727be2', '1253264731_e7c689eca5', '2348924378_47e556d81a', '3235542079_2fcf4951a1', '2531531628_b4a5041680', '3271468462_701eb88d3b', '3587077732_0933f1677b', '251586160_a31b187a37', '2665904080_8a3b9639d5', '3560891822_7d4c1e3580', '3329793486_afc16663cc', '2853811730_fbb8ab0878', '3185662156_c877583c53', '3250593457_9049a73b61', '1801063894_60bce29e19', '3266406566_d64e57e65a', '3459570613_3932816d3f', '720208977_f44c2bba5b', '252846811_7b250935a7', '3016759846_062663f8ab', '2747436384_9470c56cb9', '3526018344_450c517a72', '3653837067_94050699ec', '109823394_83fcb735e1', '2845691057_d4ab89d889', '481632457_7372f18275', '3677693858_62f2f3163f', '3595216998_0a19efebd0', '469021173_aa31c07108', '3399028417_50a621274c', '3277162496_dff7eeb59e', '1052358063_eae6744153', '2553024095_735bc46267', '310715139_7f05468042', '244760301_5809214866', '3043685748_130db75e3b', '41999070_838089137e', '1813597483_3f09d2a020', '3606355203_1260f43ec0', '477204750_d04d111cd4', '2058472558_7dd5014abd', '2685788323_ceab14534a', '812196663_0c969970b5', '3424927725_c4d1fcfac3', '3716277216_c04002be81', '3154528397_89112faf4b', '3451344589_6787bd06ef', '765929807_de381cc764', '1505686764_9e3bcd854a', '3582920844_2742804f3d', '2201978994_c444e64810', '455856615_f6361d9253', '314685044_da4390728e', '2755362721_368cbde668', '565605894_8f0bed0438', '1461653394_8ab96aae63', '1351764581_4d4fb1b40f', '247778426_fd59734130', '3474985382_26e1560338', '3656030945_fa003bd696', '3352871762_c9e88592d3', '2832033116_1677ea1e2e', '3667404919_b273df57e4', '2137789511_69a6c6afa8', '2429729667_42effc165d', '109202801_c6381eef15', '2999735171_87ca43c225', '3042173467_14394234da', '2773400732_5b65a25857', '3111502208_71e2a414f5', '3691622437_f13644273c', '3107889179_106d223345', '3351667632_00f586a30c', '2353119813_685bace18e', '2554531876_5d7f193992', '3533922605_a2b1e276f6', '2629334536_11f2d49e05', '2138487671_5b89104043', '1881494074_1bebd93089', '3373243733_9aba7740ed', '255091930_aa2b5c0eb9', '1299459550_1fd5594fa2', '3016178284_ec50a09e8c', '246041128_bedb09ed74', '49553964_cee950f3ba', '3247423890_163f00a2cb', '503717911_fc43cb3cf9', '3714551959_66ece78f27', '1355945307_f9e01a9a05', '3707283973_5cdaa39340', '2856699493_65edef80a1', '3758787457_1a903ee1e9', '3451984463_37ac1ff7a8', '244443352_d7636e1253', '2747640247_b54bfa6886', '2344875609_8e172d682b', '3181599388_68559cfc17', '2268729848_d418451226', '3561639055_5ac66ae92f', '3726170067_094cc1b7e5', '3643087589_627a0a9e01', '3291587911_81fc33300e', '475042270_719ebe6c48', '2745663684_650f84e1e6', '3148647065_2d6cd88cf6', '369802520_9825f2cd84', '2281768510_9cc5728c55', '1370615506_2b96105ca3', '2453318633_550228acd4', '566794440_f9ec673a2f', '3417231408_6ce951c011', '3019199755_a984bc21b1', '2324779494_5e72d29171', '3616525288_9c19223de6', '3625049113_554d82c2a1', '3729405438_6e79077ab2', '483841513_e660391880', '2315418282_80bd0bb1c0', '2730938963_c4ed3e2258', '1342780478_bacc32344d', '2661294481_b86058b504', '1952896009_cee8147c90', '1445123245_c7b9db0e0c', '2273105617_7c73d2d2d3', '3269895626_7b253c82ed', '2943384009_c8cf749181', '404702274_fa8b3fe378', '2688902319_52ceaf4a2a', '2545363449_1985903f82', '2394003437_184a838aa9', '3076928208_5763e9eb8c', '3042405316_ba3a01926b', '3399944164_ec24123945', '2505360288_c972bd29c4', '3620492762_7f6a9b4746', '2935986346_29df6cf692', '508958120_afe274f726', '2178064851_bb39652d28', '2409312675_7755a7b816', '3489774350_a94e6c7bfc', '3534824784_7133119316', '3490044563_8eb551ef59', '2490863987_715383944a', '3405720825_b6991005eb', '3132619510_7dfc947d25', '3041689520_c481bdb20e', '3704995657_e2e114083d', '3668259129_e073af1533', '3357194782_c261bb6cbf', '2090723611_318031cfa5', '2616561200_ea079f285a', '2127209046_94711c747b', '2934121315_4969eeda1b', '2480664591_e6d22ed61c', '1067180831_a59dc64344', '3577309234_c952c2af86', '2573141440_28a762d537', '528500099_7be78a0ca5', '2764732789_1392e962d0', '2502079538_10ef2e976b', '2074146683_7c83167aa1', '160585932_fa6339f248', '488416045_1c6d903fe0', '2867968184_908d87cf2c', '3289817083_4e78e1c05a', '2220612655_030413b787', '2847859796_4d9cb0d31f', '2973638173_0dc21fd443', '3132760860_3e743a935d', '2789350645_96a2535b4d', '3498240367_cbd8c6efbf', '1799271536_6e69c8f1dc', '530888330_a18343e38d', '3222250187_ef610f267e', '2939197393_93dc64c4bb', '2465441099_a1761a1757', '2496236371_61dec88113', '3153067758_53f003b1df', '3135826945_f7c741e5b7', '537628742_146f2c24f8', '418667611_b9995000f4', '3254662117_b2e7dede6e', '299181827_8dc714101b', '3111482098_11c0f4f309', '3626475209_f71cdd06bd', '3398745929_8cd3bbb8a8', '2279496715_8ef3ee6edb', '1501811302_5e723fc529', '2205336881_d9ee4179d3', '2752329719_868545b7d2', '3119696225_b289efaec8', '3294202771_e8ee78a439', '2258662398_2797d0eca8', '485357535_b45ba5b6da', '1818403842_553a2a392c', '514431934_9cf78f05a9', '2256231539_05c27179f1', '2470588201_955132a946', '3648160673_0c783236a6', '2069279767_fb32bfb2de', '3320756943_9d004f9824', '1251558317_4ef844b775', '3025546819_ce031d2fc3', '467960888_6943257534', '295433203_8185c13e08', '3134385454_4f1d55333f', '2624457062_89efc497a8', '381976882_0063d16d88', '2053777548_108e54c826', '1807169176_7f5226bf5a', '2924908529_0ecb3cdbaa', '2083778090_3aecaa11cc', '3467282545_273a97b628', '3276895962_c053263d01', '3485599424_94de8ede51', '3351596152_bf283f03d1', '3580375310_46ec3e476c', '2004674713_2883e63c67', '3262760716_1e9734f5ba', '3718076407_0b4588d7bc', '1332815795_8eea44375e', '2328106090_b7c2725501', '465859490_b077219424', '387078972_514a38dc33', '394161692_2576920777', '3435653630_3b6cca2c40', '3336682980_1082a66878', '311196733_03966b4836', '2759813381_73303113d9', '2544246151_727427ee07', '1400424834_1c76e700c4', '3524436870_7670df68e8', '2133650765_fc6e5f295e', '2335619125_2e2034f2c3', '454686980_7517fe0c2e', '3660826540_481d25fbb0', '3134644844_493eec6cdc', '2742426734_291df6da08', '3248408149_41a8dd90d3', '3121482932_f77ca12c01', '2270483627_16fe41b063', '1075716537_62105738b4', '2274602044_b3d55df235', '3259222690_69737f2a6e', '883040210_3c4a10f030', '397725001_e51f7c391c', '1597557856_30640e0b43', '2699125097_c6801d80ed', '762947607_2001ee4c72', '3629664676_36bcefe6b7', '1859726819_9a793b3b44', '2753531542_ace2c870b7', '3569329986_1f468729b2', '2684489465_32ba1d0344', '3598447435_f66cd10bd6', '2052202553_373dad145b', '72218201_e0e9c7d65b', '2728486640_cc2a31d2b0', '1334892555_1beff092c3', '2602679255_785b851b46', '792362827_5ab5281b99', '3635911776_dbc2763f2c', '349889354_4b2889a9bd', '3210419174_d083a16f77', '293151893_ee7249eccb', '2095435987_1b7591d214', '2704379125_9c35650d16', '2976155358_b4dd4407cf', '2579268572_d78f8436cb', '2339946012_06bd480ab8', '319185571_56162796da', '2042009399_afad34e7c1', '2371809188_b805497cba', '3004291093_35d6fd8548', '3210359094_ee51285301', '2522809984_2e8a7df4fb', '3510218982_318f738b76', '2860040276_eac0aca4fc', '2548777800_d7b9cf1c2b', '1763020597_d4cc8f0f8a', '3364258732_9942c557e5', '2726301121_95a2fbd22b', '3136404885_f4d8f1d15a', '1307635496_94442dc21a', '774009278_8e75b7d498', '3110174991_a4b05f8a46', '3610687607_895fdc94bd', '1419385780_1383ec7ba9', '3628994466_a12065d29b', '3134092148_151154139a', '521186251_e97d1f50f8', '2896298341_92d718366a', '3189002057_3ef61b803e', '2646615552_3aeeb2473b', '1403414927_5f80281505', '2502856739_490db7a657', '2978735290_7464b12270', '3255737244_1f8948fc07', '3417102649_5c0b2f4b4d', '417577408_eb571658c1', '2744330402_824240184c', '3131632154_098f86f4cb', '1048710776_bb5b0a5c7c', '2914737181_0c8e052da8', '390987167_2d5905b459', '2894229082_ddc395f138', '1253275679_e955fb7304', '1348891916_ebd4413033', '1469358746_2a879abaf3', '2708634088_a4686be24c', '459284240_5a4167bf92', '3400186336_37043a2f5b', '290650302_ade636da35', '717673249_ac998cfbe6', '3437315443_ba2263f92e', '2465497494_43d74df57c', '3425846980_912943b4f9', '2464259416_238ef13a2e', '508261758_78fb8ae067', '420355149_f2076770df', '2176147758_9a8deba576', '2814406547_a237ef0122', '2632381125_de32bdfdf6', '3272541970_ac0f1de274', '3262386960_14f5d857db', '3719461451_07de35af3a', '3229442620_fd47d01b59', '1235685934_be89b231fb', '2766148353_70b2e8070f', '539750844_02a07ec524', '1998255400_0cd086908f', '2738077433_10e6264b6f', '3537474810_cf676b3259', '3671933270_d124e9a1a4', '3406409018_03de95181e', '3421129418_088af794f7', '2696060728_3043cfc38c', '2354829523_9542fc74ba', '470887785_e0b1241d94', '2059842472_f4fb61ea08', '2894008505_a445ccaaff', '3109124656_626b596d5e', '2418191216_82711d5c5c', '2518219912_f47214aa16', '3258395783_2de3a4ba27', '269630255_c3ec75c792', '3427023324_f1f6504bf4', '1206506157_c7956accd5', '2304444199_05386d2e9c', '3204354161_caf89ec784', '1655781989_b15ab4cbff', '3758175529_81941e7cc9', '3527590601_38d56abc29', '3255620561_7644747791', '381275595_b429fd1639', '1977827746_4e13d7e19f', '3482474257_a88bfe5c57', '125319704_49ead3463c', '2378356400_f6bde5d9b3', '506808265_fe84ada926', '3349258288_5300c40430', '3399843227_3b9d2a8dbf', '2774705720_1cb85812dc', '2994107810_af56326389', '3397803103_8a46d716f4', '3442978981_53bf1f45f3', '3092200805_dd1f83ddbe', '3710468717_c051d96a5f', '2098174172_e57d86ea03', '3084380974_268a0f9236', '2707835735_6537b27e8f', '3166969425_b5ace2f9c2', '2456907314_49bc4591c4', '3396036947_0af6c3aab7', '534313000_4ad39c7ee0', '3721082512_8277087f3f', '138705546_be7a6845dd', '3057862887_135c61816a', '1572286502_64e5c4b920', '219843859_94b6d0a580', '2913972180_547783dd3d', '2385744837_8780f6731a', '3216085740_699c2ce1ae', '2085078076_b9db242d21', '1443807993_aebfb2784a', '3590294974_4ef98f013e', '2084103826_ffd76b1e3e', '3477672764_7f07657a26', '3454355269_6185e29f95', '246508774_1e9885f1b7', '2559638792_a803ff63d1', '3036033157_522a43a550', '3415589320_71a5bf64cf', '429270993_294ba8e64c', '3225296260_2ee72b4917', '248174959_2522871152', '3690431163_1d81e19549', '1473618073_7db56a5237', '1333888922_26f15c18c3', '3414734842_beb543f400', '3050114829_18bc5a6d7c', '3147217787_ed21cd4990', '234241682_51d9fabb27', '3527926597_45af299eee', '2333816000_7105d0ffac', '2190227737_6e0bde2623', '3687062281_e62f70baf3', '3211316116_a2462e327d', '2304374703_555195d8d5', '3335375223_b4da8df523', '98377566_e4674d1ebd', '3152317129_177b4678b7', '3153828367_5fc2c37c07', '535249787_0fcaa613a0', '1418503947_953d373632', '3582914739_bef2828a06', '3537520829_aab733e16c', '2126950128_74a4882658', '3443161359_65544fd732', '2599903773_0f724d8f63', '3701544312_b2e4e9813d', '1096097967_ac305887b4', '3293642024_e136b74a55', '2441313372_6a1d59582b', '3500505549_d848209837', '3491013009_572cf2c18a', '2780087302_6a77658cbf', '124195430_d14028660f', '3579842996_3a62ec1bc7', '2880874989_a33b632924', '3352791995_8db4979aca', '250892549_1e06a06a78', '3482314155_bd1e668b4e', '2470493181_2efbbf17bd', '314904143_5a216a192b', '3724759125_2dc0e1f4a3', '3616638478_641d02183d', '3675742996_02ccef16a3', '2662570182_350baa020f', '3091594712_2166604334', '2737609659_efce872c24', '1019604187_d087bf9a5f', '2868324804_5cc8030484', '3721799573_2f470950e0', '1095476286_87d4f8664e', '824782868_a8f532f3a6', '3614582606_16bd88dab2', '2097407245_c798e0dcaf', '2595713720_30534e8de2', '3757598567_739b7da835', '1918573100_d31cbb6b77', '1805990081_da9cefe3a5', '502783522_3656f27014', '2826647354_650ff5eb03', '347186933_880caaf53b', '3348811097_0e09baa26f', '2624044128_641b38c0cf', '2845246160_d0d1bbd6f0', '2596514158_c516e57974', '2587017287_888c811b5a', '2045023435_181854c013', '3162095736_cc41dd41ff', '3631344685_ed0f3e091b', '3050976633_9c25cf6fa0', '3236677456_75821e3583', '1423997242_ea2189ec5e', '1184967930_9e29ce380d', '1169307342_e7a4685a5c', '2281054343_95d6d3b882', '3047749814_621ed0786b', '2519812011_f85c3b5cb5', '3148571800_c5515e6c3d', '816084977_21c1811c9a', '2458006588_754c4aa09c', '3293018193_e4e0c8db7c', '404216567_75b50b5a36', '1476002408_4256b7b2fa', '3467843559_a457ce37b6', '3249278583_95cd8206da', '3374759363_d6f7a0df41', '3670075789_92ea9a183a', '3277824093_299cbb3138', '3268407162_6274e0f74f', '453473508_682c0a7189', '2766291711_4e13a2b594', '3442844140_15aa45e9b8', '3278777548_290b881018', '431018958_84b2beebff', '2801851082_8c3c480c0f', '1321949151_77b77b4617', '531152619_6db02a7ed9', '263233914_d25004e4cd', '635444010_bd81c89ab7', '3257103624_e76f25ff9e', '2746072388_b127f8259b', '3316046339_8e504be038', '3715559023_70c41b31c7', '3084018061_df66d98325', '2346629210_8d6668d22d', '182493240_40410254b0', '2644920808_f5a214b744', '537758332_8beb9cf522', '978580450_e862715aba', '3139837262_fe5ee7ccd9', '3587941206_36769c3f1d', '1056359656_662cee0814', '3257207516_9d2bc0ea04', '2267682214_e1434d853b', '3260214530_7179346407', '1478294229_7e1c822fea', '3306212559_731ba9bd05', '1449625950_fc9a8d02d9', '2257294002_0073263c54', '3725177385_62d5e13634', '319869052_08b000e4af', '2257798999_d9d1b9a45a', '3426789838_8771f0ed56', '743571049_68080e8751', '181415975_2627aa6668', '2402462857_7684848704', '742073622_1206be8f7f', '1923476156_e20976b32d', '2842849030_89548af61c', '3225998968_ef786d86e0', '1580172290_e19067e0dd', '514073775_56796be990', '69189650_6687da7280', '504904434_889f426c6e', '3711030008_3872d0b03f', '2110692070_8aaaa1ae39', '42637987_866635edf6', '3344531479_03c69750e9', '2453891449_fedb277908', '3451523035_b61d79f6a8', '2904129133_e6ae5a1ec6', '2934022873_3fdd69aee4', '294709836_87126898fb', '2379150102_157d718d1d', '3068945309_ff0973e859', '512991147_dc48e6839c', '3286111436_891ae7dab9', '3604383863_5e387cb8e6', '2354792215_eef2bdc753', '2428959030_bdffc2812e', '500308355_f0c19067c0', '3125628091_25a31709df', '2877088081_7ca408cb25', '3112821789_1f7c3bbb99', '3073579130_7c95d16a7f', '824923476_d85edce294', '2561481438_447b852e4d', '3612249030_e2829ffa31', '1000268201_693b08cb0e', '3629492654_619d7b67ee', '1032460886_4a598ed535', '3566111626_9a35a7b2c0', '2643263887_a32ffb878f', '473988700_570422001b', '256283122_a4ef4a17cb', '2403544744_cba152f5c1', '3600221224_945df01247', '1359101233_16c2c150e3', '1932314876_9cc46fd054', '3338474677_7376e426c2', '1394927474_0afdd82fc4', '101669240_b2d3e7f17b', '2893238950_8a027be110', '3220140234_e072856e6c', '529101401_ab1f6b1206', '3324375078_9441f72898', '2655183854_5852790214', '2297744130_f571f3a239', '3417143124_6feb8290cc', '2226587791_66e29dd01d', '766061382_6c7ff514c4', '2073756099_7e02c0110c', '388386075_9ac3a89ada', '3417788829_cfdbc34d2c', '2862469183_a4334b904a', '2310108346_e82d209ccd', '2907244809_07ab2c6b6c', '2065309381_705b774f51', '2068960566_21e85ae0dc', '3649802021_8a689bc153', '3682277595_55f8b16975', '128912885_8350d277a4', '2591603141_33d6397e0a', '241345656_861aacefde', '3576250302_14779632bd', '3146232740_df3da0163b', '3259231890_16fe167b31', '3667492609_97f88b373f', '2414384480_096867d695', '241347689_d0b1ac297d', '1394599090_fe0ba238f0', '3041170372_c4376cd497', '2565618804_8d7ed87389', '241346580_b3c035d65c', '3610836023_3a972b10b0', '466956675_a2fb6bf901', '3352199368_b35f25793e', '367964525_b1528ac6e4', '3618525295_d32d634b2e', '3475552729_a3abd81ee6', '861608773_bdafd5c996', '3208188198_2b271d2a2e', '3726025663_e7d35d23f6', '1095980313_3c94799968', '759015118_4bd3617e60', '3373069977_bc73e9e409', '146100443_906d87faa2', '2416964653_db3c2b6a0e', '3391209042_d2de8a8978', '543940240_a54a3c7989', '3343106500_27176fc544', '167295035_336f5f5f27', '2601612082_4b9be27426', '2540750172_070250ece5', '3639428663_dae5e8146e', '2854234756_8c0e472f51', '1439282131_3814d6ae04', '2867026654_38be983b44', '534056823_0752303702', '3510695264_ef460fa6cc', '2524003134_580e74328b', '3258397351_1a70f1993d', '3009018821_ba47396e24', '1579287915_4257c54451', '2426303900_0a8d52eb14', '2378127945_8dc9da82d7', '385186343_464f5fc186', '2604825598_593a825b5b', '1527333441_af65636a74', '539493431_744eb1abaa', '3425662680_41c7c50e8d', '1448511770_1a4a9c453b', '3493479159_609ebe1b35', '1204996216_71d7519d9a', '3549408779_4d453db080', '111537222_07e56d5a30', '3249597269_935e0a375a', '3182161610_4d349b257f', '2219805677_7b7cc188c7', '1685463722_55843b6d3c', '3465606652_f380a38050', '3341084434_db5e7d1fdc', '282116218_7fd7583d6e', '3157622277_9f59b4f62f', '3544312930_3a0b8d70c1', '3349194268_0ee555c9a2', '539676201_c8f1f04952', '262642489_f5c6b9e65b', '3435233065_3411f2d29d', '2683985894_167d267dcb', '2172493537_128bc8b187', '3680031186_c3c6698f9d', '3375534917_62350bd06b', '3460458114_35037d4d4c', '2623982903_58ec7c5026', '3529211822_1dabdb3a9c', '3241892328_4ebf8b21ce', '3223809913_ae15d14d9a', '3332248667_617606714b', '2917057791_3d68a055ca', '1479028910_3dab3448c8', '2393298349_e659308218', '3339558806_b4afdc8394', '2776029171_5abdd5a22f', '1432342377_3e41603f26', '2695085862_2ed62df354', '3370085095_6abbb67c1d', '482098572_e83153b300', '3353328134_dd9ed0edab', '2797188545_aeb26c54c0', '2522467011_cc825d89ac', '3425853460_bfcd0b41f6', '267836606_bbea2267c8', '3183777589_460a4f445b', '3338291921_fe7ae0c8f8', '2637510448_4521cf6f29', '948196883_e190a483b1', '2181846120_3744ca3942', '2269021076_cefc9af989', '2896668718_0c3cff910f', '58368365_03ed3e5bdf', '2410040397_1a161a1146', '3638577494_fe55f7b4cb', '2058124718_89822bc96e', '3609026563_9c66f2dc41', '3425887426_bf60b8afa3', '3367758711_a8c09607ac', '2727051596_be65bfb3d3', '2420546021_4a59790da6', '481054596_cad8c02103', '3188036349_8e4e2d6ca8', '2635938723_11b85e6763', '3089842255_359ccf5c40', '2247192427_5e106f24a9', '3229821595_77ace81c6b', '1347519824_e402241e4f', '854333409_38bc1da9dc', '2480820830_bdec1f5b76', '2151300603_248a9fe715', '3225037367_a71fa86319', '571507143_be346225b7', '2756636539_cc1eacbf4a', '3208553539_2bf6c6d162', '3247598959_5b2348444c', '1354318519_2f9baed754', '522700240_d9af45e60d', '297724467_e8918a6f90', '1808007704_ee8a93abb4', '2825668136_107223182c', '1557838421_a33f2a4911', '2344898759_5674382bcd', '2563578471_9a4e4c2ecc', '3209564153_077ed4d246', '3604314527_5077cd9d43', '3494105596_f05cb0d56f', '3043501068_be58ac47e1', '2355763034_9fb61a8165', '3227111573_c82f7d68b1', '36422830_55c844bc2d', '2446601467_a35841cb1d', '2513260012_03d33305cf', '2728276857_3f83757ef2', '2658360285_a0ec74ef48', '238512430_30dc12b683', '3038760935_9a713510eb', '375171241_0302ad8481', '3150659152_2ace03690b', '3036641436_d6594fc45f', '2390369143_6523253a73', '3590557969_d0270d518b', '2298097636_c5de0079de', '3331190056_09f4ca9fd2', '241347580_a1e20321d3', '2836325261_a3bf5c59be', '2804374083_311f98f5f2', '3722507770_0d6cb7420e', '1806580620_a8fe0fb9f8', '3070274658_fc39fd4f84', '523327429_af093fc7cf', '118187095_d422383c81', '3343116398_59a5341f7f', '2934573544_7ffe92a2c9', '219730733_6a55382dd2', '3321334180_8f764e0e0f', '3134387513_ceb75bea0a', '3319338707_892ae2a660', '2351762979_0941aecced', '2375924666_fee50f1cba', '1207159468_425b902bfb', '2419797375_553f867472', '3285298241_9b1ed98d19', '430964917_022995afb6', '2086534745_1e4ab80078', '478592803_f57cc9c461', '1480712062_32a61ad4b7', '2688102742_885e578a3f', '2875583266_4da13ae12d', '300594071_3450444752', '3707077198_efd6aa808d', '3120189281_1938460e85', '2125216241_5b265a2fbc', '2162469360_ff777edc95', '1449370354_380c4123c9', '862054277_34b5a6f401', '2887614578_ed7ba21775', '3170856184_efabfd0297', '2040941056_7f5fd50794', '3604384157_99241be16e', '2729685399_56c0e104b1', '3591170729_406fdb74e5', '3009047603_28612247d2', '3443460885_46115463b4', '3117336911_a729f42869', '2072574835_febf0c5fb9', '2908512223_7e27631ed4', '3513265399_a32e8cfd18', '3519155763_045a6a55e2', '2656688132_d93be870e0', '2159447283_fab8c272b0', '2125454445_5c5c4bf906', '2766926202_4201bf2bf9', '3263946591_a1558b77d3', '505955292_026f1489f2', '976392326_082dafc3c5', '2376694294_9a4ecc3b90', '3113769557_9edbb8275c', '300274198_eefd8e057e', '923550133_ac9d7a2932', '2467803152_70eeca1334', '3326454455_960e5442e9', '241046599_28b0ca7b9f', '3291255271_a185eba408', '2449552677_ee78f01bae', '2875658507_c0d9ceae90', '410413536_11f1127c46', '1082252566_8c79beef93', '3017373346_3a34c3fe9d', '3472270112_0a7cb7b27c', '2716251485_d6113f4c8a', '1394396709_65040d97ab', '3697153626_90fb177731', '3279524184_d5e2ffbaed', '2712352554_1cafd32812', '3198231851_6b1727482b', '3557316485_574a5f7a89', '3105929913_94a6882e25', '2410562803_56ec09f41c', '300539993_eede2d6695', '3487015378_2e90a79f4b', '433855742_c2a6fda763', '3474958471_9106beb07f', '3502563726_30d1ce29c8', '3241487502_f4f0cc4a8a', '2932519416_11f23b6297', '1515025681_999199cb79', '1616016569_673de1d678', '1117972841_2b9261f95f', '3293596075_973b0bfd08', '3411595210_8e0893b266', '275002371_5b200e6a92', '3188044631_ca3a9cc737', '2998945968_86f236d1e8', '1936215201_d03a75cbba', '3710176138_fbfe00bd35', '2265367960_7928c5642f', '3290465391_258429e2f9', '3334057289_68ece38a85', '2756591658_3ca6db1595', '985067019_705fe4a4cc', '3564148252_aa4cb36a32', '2218743570_9d6614c51c', '846085364_fc9d23df46', '3317960829_78bbfafbb6', '2797185895_4d9e1e9508', '498794783_cc2ac62b47', '3670918456_68631d362a', '1164765687_7aca07bbe7', '271177682_48da79ab33', '3216829599_366a43f05e', '1144288288_e5c9558b6a', '2881441125_b580e3dd4b', '3245939062_8ffe1d2be5', '3376435746_1593d9b243', '2282043629_91b7831352', '2561212119_1af8cb9b5d', '3328247381_a9f7fb4898', '1924234308_c9ddcf206d', '2428086758_bce4733f7e', '160541986_d5be2ab4c1', '2877637572_641cd29901', '181777261_84c48b31cb', '237953705_cfe6999307', '3313232606_4ce7e16b87', '3349968447_b5d4a477b2', '3679405397_bb130ea3c2', '2659606300_bea3feaf8b', '3212456649_40a3052682', '233242340_09963100a3', '1280320287_b2a4b9b7bd', '3635177305_bfbe1fc348', '3260975858_75d0612a69', '2968216482_ede65b20a8', '143680966_0010ff8c60', '2527713011_b0ec25aa54', '2656890977_7a9f0e4138', '288880576_818b6ecfef', '3534952095_975cca0056', '536537638_f5ee42410b', '3439128755_84409b8823', '3477778668_81ff0a68e0', '3326249355_e7a7c71f06', '1989145280_3b54452188', '3725814794_30db172f67', '3150380412_7021e5444a', '3315033940_e91f87b7f2', '305199420_89f6ddd778', '2394267183_735d2dc868', '333973142_abcd151002', '824123145_59243e504e', '3724718895_bd03f4a4dc', '140377584_12bdbdf2f8', '236474697_0c73dd5d8b', '3381788544_2c50e139dd', '2826769554_85c90864c9', '2937497894_e3664a9513', '248646530_03c6284759', '2676648667_cb055b4fc6', '3420260768_26a600b844', '2830755303_2b5444ab4c', '3073535022_4af81f360c', '3122938209_2b2c6c1fab', '3544803461_a418ca611e', '483136916_16976f4902', '1526181215_c1a94325ae', '2192802444_b14bb87b95', '3086790344_9487c58624', '3123526484_02952e40fc', '3096918227_f9d26a7db2', '3458379941_657182bb09', '288177922_b889f2e1fe', '391020801_aaaae1e42b', '424869823_7aec015d87', '2825540754_5e0c13e6b8', '2073174497_18b779999c', '305749904_54a612fd1a', '1287982439_6578006e22', '2681215810_00b0642f7b', '2034553054_b00c166895', '3019917636_4e0bb0acc4', '224766705_b77996527f', '1269470943_ba7fc49b4d', '104136873_5b5d41be75', '2492258999_5764124bba', '2673148534_8daf0de833', '2562377955_8d670ccec6', '3130064588_6d1d3fa2dd', '482353373_03a9d5e8bc', '3242718240_3358f2d6e6', '2797511323_bf20acab45', '2366421102_2d60d53a0e', '3204525212_d548c7fca7', '783994497_4f6885454d', '2384626662_67cdd87694', '1865794069_6e3a1e57bb', '471402959_0b187560df', '3595398879_13e33b8916', '3457364788_3514a52091', '536721406_884ab8fece', '439492931_a96d590e40', '2067833088_04e84e5bf2', '390671130_09fdccd52f', '1837976956_3c45d0f9b8', '2458862292_466a920ee2', '548751378_c657401312', '1434607942_da5432c28c', '42637986_135a9786a6', '3603870481_1ebc696d91', '3537218226_478d2e4f26', '380034515_4fbdfa6b26', '3422219732_3d0be52cc3', '782017931_75d92bb7a4', '2519483556_2b1632a18c', '2268115375_69884e958d', '2192475933_d779bf42eb', '191592626_477ef5e026', '696663662_232edd58af', '2980118787_2099de53ec', '140526326_da07305c1c', '3612484827_0e479f9ee8', '2426828433_ce894d1c54', '1225443522_1633e7121f', '279550225_d64d56158a', '1096165011_cc5eb16aa6', '1460352062_d64fb633e0', '3618908551_7fd2de5710', '632608471_a70461f123', '3528902357_be2357a906', '537230454_1f09199476', '3234719720_5bb2fc5ffa', '268704620_8a8cef4cb3', '2236016316_f476cbbf06', '3157744152_31ace8c9ed', '160805827_5e6646b753', '1581822598_0ae23074f1', '2507312812_768b53b023', '1659396176_ced00a549f', '3330654550_3efe9a71af', '3266399073_40820596d5', '543291644_64539956e9', '3694555931_7807db2fb4', '3660361818_e05367693f', '3177298173_78cea31d64', '2534652796_c8a23288ab', '1296770308_3db2022f5a', '3441531010_8eebbb507e', '308307853_5a51fbdecc', '3650188378_cc8aea89f0', '2434074318_e35a567220', '3665549027_d7fb05d157', '3738685861_8dfff28760', '578644583_da3ff18dd1', '2800004913_c8394ba332', '3284955091_59317073f0', '3158680604_c1f99b3946', '3364796213_b8948913b5', '2839532455_36a7dc4758', '2550109269_bc4262bd27', '2923891109_ea0cc932ed', '3532192208_64b069d05d', '2956562716_5aa3f6ef38', '477768471_d7cd618fdb', '2561751298_320eef38ec', '1659358133_95cd1027bd', '3452411712_5b42d2a1b5', '3559781965_d4ec00e506', '3600403707_527aa0596e', '2964438493_413667c04a', '3197891333_b1b0fd1702', '3616771728_2c16bf8d85', '3405113041_4b72c24801', '510791586_3913ade6a7', '2705793985_007cc703fb', '2479553749_f7ac031940', '141755290_4b954529f3', '3359563671_35b67898e7', '2076428547_738e0a132f', '2561295656_4f21fba209', '412082368_371df946b3', '2782850287_1408f7ec43', '3649307685_60c1294d2a', '408627152_1feaa4b94e', '3033686219_452b172ab0', '3154886184_ac842655b6', '2442243868_abe8f74fb4', '2509824208_247aca3ea3', '2395967330_7e6ea404f6', '3105315670_5f86f73753', '3516653997_98ec551a67', '3326086533_23a0a54a8e', '2414710960_a4cde4af60', '2934837034_a8ca5b1f50', '3372251830_baa3665928', '1925434818_2949a8f6d8', '3621652774_fd9634bd5b', '498492764_fe276e505a', '2195620255_6693479734', '2285741931_07159a21f2', '252802010_3d47bee500', '1679565118_d36f0d6d52', '2430860418_fd0726f414', '3171451305_f87b9e09ee', '3492734013_e6b177ed99', '3166366760_e43cf66eda', '3469711377_bc29d48737', '3455920874_6fbec43194', '3309042087_ee96d94b8a', '3569126684_a68b29a57f', '576093768_e78f91c176', '407008823_bdd7fc6ed5', '3427614912_b147d083b2', '3527524436_a54aca78a9', '3128856481_86e5df4160', '3688005475_d200165cf7', '1263801010_5c74bf1715', '3634032601_2236676cdd', '3154709407_9b0778cbeb', '3381584882_341ee3092f', '2986620935_e97763983d', '3457315666_b943111dec', '3221815947_76c95b50b7', '1277185009_06478dd457', '3043908909_bb54d2c08e', '3640661245_c8c419524d', '3335773346_ac0d97efeb', '2298077331_f9a1488067', '2696951725_e0ae54f6da', '3199460792_deef518c01', '2275372714_017c269742', '3597146852_3d000a5d5f', '300371487_daec5d11ab', '2848895544_6d06210e9d', '3394750987_a32ecc477e', '133189853_811de6ab2a', '1312020846_5abb4a9be2', '3214100656_80cda1b86b', '2840344516_8e15fe2668', '566921157_07c18a41e2', '539761097_5c6c70425b', '454691853_cc1e0fa6a1', '3639547922_0b00fed5cd', '2255685792_f70474c6db', '215876547_fa584c5ec3', '475778645_65b7343c47', '2516317118_10ae66b87a', '3594822096_e1144b85d6', '3339751521_7a8768be27', '871290666_4877e128c0', '2855695119_4342aae0a3', '2873431806_86a56cdae8', '272940778_a184dbea42', '3243233886_235a80e8c7', '315125146_d9a8e60061', '1142283988_6b227c5231', '1449692616_60507875fb', '449287870_f17fb825d7', '2743709828_a795a75bfc', '3627676364_1dc9294ec5', '2750867389_4b815f793a', '437917001_ae1106f34e', '2707244524_d57120d74a', '3675825945_96b2916959', '2937178897_ab3d1a941a', '3006926228_cf3c067b3e', '2559114800_17310f3015', '3339916063_63b960ed46', '1481062342_d9e34366c4', '3551003620_0b02d76f65', '2116444946_1f5d1fe5d1', '157139628_5dc483e2e4', '434938585_fbf913dfb4', '554526471_a31f8b74ef', '3493000349_81c540e828', '2784408839_53a25a21eb', '1413956047_c826f90c8b', '3681651647_08eba60f89', '3487820317_3728e7569e', '2868776402_aef437e493', '241347243_c751557497', '2940366012_1ef8ab334e', '961189263_0990f3bcb5', '229978782_3c690f5a0e', '421706022_1ddb6a7a78', '2626158969_ac09aeb88d', '2789937754_5d1fa62e95', '3098824948_23c31df031', '733965014_1a0b2b5ee9', '2502007071_82a8c639cf', '96399948_b86c61bfe6', '2925760802_50c1e84936', '861795382_5145ad433d', '468918320_9c275b877f', '3296715418_29542dcdc2', '2261346505_302c67951d', '3398276602_c7d106c34f', '2856700531_312528eea4', '3666574371_317b008d2a', '392467282_00bb22e201', '3486340101_ff01d8f3f9', '190965502_0b9ed331d9', '3465791729_5bf9bd8635', '3655326478_4472c5c630', '1412832223_99e8b4701a', '2756765580_9e57e10f0d', '3500829879_a643818d84', '3571193625_835da90c5e', '3657503733_9888ccf05e', '3272002857_ace031f564', '2959737718_31203fddb5', '3532593368_be10432e92', '1397295388_8a5b6b525d', '537479916_c033897fac', '3354474353_daf9e168cf', '3077166963_fe172c709d', '640409060_6af18fdd54', '3699318394_6193f2c8e0', '3538527033_df13112d51', '3242808166_8638150274', '2888702775_0939a6680e', '3349308309_92cff519f3', '2301379282_5fbcf230d1', '3167379087_927ff05a35', '95734038_2ab5783da7', '3356494271_6103d0b556', '1454841725_4b6e6199e2', '2814028429_561a215259', '747242766_afdc9cb2ba', '2882589788_cb0b407a8d', '2587696611_db0378710f', '2310233145_910cb5b4c8', '3259228898_cefd04580b', '2992999413_018f48aabc', '3708839890_ed448012cf', '488089932_c3a5fa4140', '242559369_9ae90ed0b4', '3632842482_482f29e712', '3296500180_0d7a6650dc', '3526897578_3cf77da99b', '3189307452_aebc12380b', '2921793132_ef19f1dd44', '554774472_b5d165ff69', '2271671533_7538ccd556', '3320411267_df70b90501', '2672588619_3849930e99', '1132772170_600610c5df', '3263141261_db3a4798b5', '2426724282_237bca30b5', '505062117_a70b4e10ab', '3258391809_38fc6211f7', '2300920203_f29260b1db', '1236964638_1808784a3c', '1057089366_ca83da0877', '3480379024_545e8ec818', '3138562460_44227a35cf', '3315110972_1090d11728', '2272823323_3b7291cd47', '2212472643_80238475b5', '1260816604_570fc35836', '3339768802_8ab768558a', '3256274183_4eab3b2322', '3094064787_aed1666fc9', '3263215700_e27f81f8b9', '2768972186_92787cd523', '2429978680_1e18a13835', '316833109_6500b526dc', '2233426944_0959835ced', '3517466790_17c7753a1a', '2471493912_2d4746b834', '2833582518_074bef3ed6', '3362592729_893e26b806', '319847643_df7c2a1d25', '2540751930_d71c7f5622', '3539817989_5353062a39', '276356412_dfa01c3c9e', '3549011001_26cace3646', '3547524138_4157f660b0', '1296412797_85b6d2f8d6', '3571675421_7e07ac07c5', '3710971182_cb01c97d15', '3194134352_bc1b2a25d7', '836828001_af98d16256', '2521938720_911ac092f7', '1271960365_e54033f883', '2982928615_06db40f4cd', '538825260_a4a8784b75', '3266306177_7994dc2865', '3454149297_01454a2554', '514222303_cb98584536', '3375843443_8d9b242aa5', '528498076_43f0ef36b5', '3687996279_05b5a2a706', '2823075967_be4c350e9e', '3535304540_0247e8cf8c', '3342487512_fd33971dea', '2405599120_ec5f32af6f', '3234375022_1464ea7f8a', '2748435417_ea7bbcc17c', '2593406865_ab98490c1f', '3068994801_b2bc079e67', '2094543127_46d2f1fedf', '3207264553_8cd4dcde53', '411216802_aead9e67e3', '3163323414_d1ce127aa6', '1263126002_881ebd7ac9', '2319087586_919472310f', '3122606953_a979dd3d33', '3701878677_8f2c26227b', '3525841965_7814484515', '2194806429_ca4c3770c1', '3344411431_6f4917bb2f', '3042381160_ffe2b16808', '3526431764_056d2c61dc', '477254932_56b48d775d', '3319388517_5609ae9805', '257588281_39e1c9d929', '1012212859_01547e3f17', '2216568822_84c295c3b0', '3509575615_653cbf01fc', '3325974730_3ee192e4ff', '241347700_ef2451d256', '1507563902_6ec8d5d822', '2460823604_7f6f786b1c', '3454199170_ae26917dcd', '3640329164_20cb245fd5', '1398606571_f543f7698a', '2271667421_7b21fc23b8', '285586547_c81f8905a1', '3453284877_8866189055', '2905948395_ca3e6b3c9a', '390360326_26f5936189', '3124964754_2e8a98fb09', '481827288_a688be7913', '1606988704_fe330878a3', '3217893350_57be430d06', '1119418776_58e4b93eac', '3262647146_a53770a21d', '1402859872_0fc8cf8108', '3103185190_eb8729c166', '2896483502_6f807bae9e', '2549452277_873cb80d3e', '997338199_7343367d7f', '97406261_5eea044056', '542405691_0594b1ce72', '103195344_5d2dc613a3', '3115354165_44dbeec6c1', '3067971348_69af5bb309', '3363836972_c87b58c948', '2615623392_ab2b9759ae', '2541901399_0a57f4cc76', '881725588_efabbcd96a', '442918418_0f29c97fa9', '3179952488_c1c812a03b', '2385871317_44cde2f354', '3618115051_41b5a7706c', '2452334314_a7c443a787', '3415287719_3c776f370e', '2860667542_95abec3380', '3462165890_c13ce13eff', '2368266191_87d77750f1', '3279228339_71deaa3d9b', '3684518763_f3490b647a', '3096163135_584901a5ae', '3415311628_c220a65762', '3276448136_0d9f5069c5', '1321723162_9d4c78b8af', '3591457224_88281dd04f', '3018304737_0a46fc5f1d', '162152393_52ecd33fc5', '3323419265_7fefaa9d5d', '3028561714_83fb921067', '3674565156_14d3b41450', '3497238310_2abde3965d', '3221128704_d1205db79b', '3461106572_920c8c0112', '2911238432_33ec2d8cec', '749840385_e004bf3b7c', '3084711346_fda0f5a3e6', '3336374196_f6eaca542f', '2853743795_e90ebc669d', '186348874_75b2cf1ec5', '3307978046_92fef4dfa9', '2949353587_64c54e9589', '2472634822_7d5d2858c0', '3490867290_13bcd3a7f0', '2708582445_5e5999b956', '3405942945_f4af2934a6', '3208032657_27b9d6c4f3', '2286032269_8ba929709c', '2141065212_463a6997e1', '2657301826_aab4c36e6c', '1562478333_43d13e5427', '2543679402_9359e1ee4e', '2984704498_29b53df5df', '1859941832_7faf6e5fa9', '527946505_a51ade1578', '1425485485_d7c97a5470', '2051194177_fbeee211e3', '3136043366_b3f8607a0e', '3394070357_cb2a3243fc', '3547704737_57d42d5d9d', '3159447439_c1496cbaea', '2092870249_90e3f1855b', '3104400277_1524e4f758', '494329594_6e751372a0', '2094810449_f8df9dcdf7', '365759754_6cf7068c9a', '2090386465_b6ebb7df2c', '283428775_a3665bee7c', '3330680118_4e541889c1', '3155501473_510f9c9f6b', '1015118661_980735411b', '101654506_8eb26cfb60', '2086532897_b8714f2237', '2085400856_ae09df33a7', '2629295654_59ea1472a1', '2749124446_d4432787b5', '2701042060_92508ea8fa', '1383698008_8ac53ed7ec', '3559429170_3183c404b9', '271637337_0700f307cf', '2427490900_5b7a8874b9', '181103691_fb2f956abd', '2327240505_e73cc73246', '3172283002_3c0fc624de', '3405759441_fb31c80240', '2455528149_6c3477fd33', '2640153227_57cf1a3d92', '503794526_603a7954d3', '3564436847_57825db87d', '3514188115_f51932ae5d', '3564385317_1bf5094068', '3458577912_67db47209d', '3306951622_93b82cac21', '953941506_5082c9160c', '2322334640_d4d22619ff', '3723903586_e98d3d8ec7', '3262793378_773b21ec19', '3679707139_1cc1e71237', '2056041678_d6b5b39b26', '3335997221_254366c400', '2808098783_c56b44befa', '1525153022_06c48dbe52', '3171188674_717eee0183', '3547499166_67fb4af4ea', '2860372882_e0ef4131d4', '3374223949_90776ba934', '3538021517_b930dc76fc', '2510560080_1439fe32f2', '765091078_a8a11c6f9e', '248994078_a9257f448b', '3215315009_47577bf8f7', '2810412010_f8b3bc1207', '2500826039_165e75b20c', '927420680_6cba7c040a', '2854291706_d4c31dbf56', '3258396041_69717247f7', '2288315705_5f4c37d932', '2871962580_b85ce502ba', '3163281186_e2f43dfb5f', '3087485737_cb09bc80b6', '2762702644_2aa3bf9680', '2061397486_53a61e17c5', '3532761259_14026c1e96', '3472066410_065b4f99d3', '2842609837_b3a0b383f7', '3030793171_55cd646eed', '3053415073_5b667230ed', '946051430_8db7e4ce09', '3477683327_d9e6a2a64f', '3620343911_64a862904e', '2622624460_207dbcc4cf', '2520255786_b70a3ec032', '428408242_b32faf2240', '2647593678_1fa3bb516c', '2250555512_71670078f5', '3258394043_a0b6a94dce', '3352697012_751b079bbb', '2272491304_cb7c7ed16f', '1057251835_6ded4ada9c', '934375844_dd149fed18', '233327292_3bcbc3783f', '3035785330_2fd5e32bb1', '3274375509_4fe91a94c0', '2591455200_2319651f2f', '3544669026_1b5c0e6316', '3533394378_1513ec90db', '281419391_522557ce27', '2367816288_7c2d11d3c5', '3403797144_53e49412ec', '432248727_e7b623adbf', '3155657768_b83a7831e5', '3042483842_beb23828b9', '2798651021_2566f2a47e', '3640020134_367941f5ec', '524036004_6747cf909b', '1685990174_09c4fb7df8', '3066338314_2c3fb731d1', '825918657_d92f1761f4', '2917843040_7c9caaaa8a', '3041384194_04316bd416', '3275065565_9e2a640fbc', '1517340899_ee1c74a8f6', '3328397409_092de2bd32', '2271468944_3264d29208', '460973814_5eacd1ced4', '2676651833_3bb42bbb32', '3330019493_fd36fbc2ea', '3503011427_a4ee547c77', '446514680_ff5ca15ece', '3726629271_7639634703', '3647283075_3005333222', '2410618963_fb78307d18', '3297323827_f582356478', '3647446816_bd4383c828', '1721637099_93e9ec2a2f', '3646453252_5ebbbaa6cc', '3236447445_eecafdf4f0', '3454988449_1de1ef4f20', '289616152_012a9f16c6', '2089442007_6fc798548c', '292887910_f34ac101c8', '2706023395_ac9eba0e42', '2947172114_b591f84163', '3724113279_99b6e5bf41', '84713990_d3f3cef78b', '3677860841_3aa9d8036c', '3330007895_78303e8a40', '3319058642_885d756295', '3139389284_f01bd4c236', '58357057_dea882479e', '405253184_5f611f3880', '530454257_66d58b49ee', '489551372_b19a6ad0ed', '2369840118_a1c4240ab7', '1030985833_b0902ea560', '878758390_dd2cdc42f6', '3606084228_6286a52875', '252504549_135b0db5a3', '3601508034_5a3bfc905e', '2662537919_18a29fca8a', '1235681222_819231767a', '2130851544_d36f4f2ea6', '2643309379_2cde08516c', '1304961697_76b86b0c18', '3296584432_bef3c965a3', '3039209547_81cc93fbec', '2860202109_97b2b22652', '1813266419_08bf66fe98', '2612040125_0a93889f06', '2920516901_23d8571419', '2954584849_3c2899f319', '2199250692_a16b0c2ae1', '2252635585_b48b3485b0', '172092464_d9eb4f4f2f', '2352414953_10f3cd0f1f', '2841449931_84a05850ec', '506412121_67ecc7ec05', '1094462889_f9966dafa6', '330325191_63e11d9c93', '380537190_11d6c0a412', '95728664_06c43b90f1', '2894576909_99c85fd7a7', '1285874746_486731a954', '1022454428_b6b660a67b', '837919879_94e3dacd83', '3325910784_5ecb88310c', '3403370354_5d266873b4', '56494233_1824005879', '195962790_3380aea352', '2098646162_e3b3bbf14c', '319938879_daf0857f91', '3532028205_9ddd7599f8', '3175446111_681a89f873', '2851304910_b5721199bc', '2723929323_70b93a74ea', '219843860_332e5ca7d4', '2616673985_fa4354cc53', '3046286572_d2050ab0d9', '284279868_2ca98e3dcd', '1598085252_f3219b6140', '3111897772_5211a37a02', '1732217138_aa0199ef87', '2831313661_1a328acb70', '241346794_4319f8af67', '3351493005_6e5030f596', '3198237818_cb5eb302f0', '516761840_842dabc908', '633456174_b768c1d6cd', '3386893620_5f0bb4e794', '3468275336_61936db92d', '3113682377_14fc7b62b0', '3116039960_54d1d68145', '498748832_941faaaf40', '2881468095_d4ce8c0c52', '1716445442_9cf3528342', '3063544435_10516c6937', '2930514856_784f17064a', '368212336_bc19b0bb72', '3632225464_612d7b4c0f', '2562483332_eb791a3ce5', '3759230208_1c2a492b12', '458004873_f084c47a88', '2252264255_03fefc25af', '195084264_72fb347b0f', '3589156060_3ed8d6bbc3', '2148013097_6a4f495bc5', '3162442331_c9711857c6', '2295894587_2fd8faf550', '278608022_4175813019', '2261169495_98254e2e66', '1167908324_8caab45e15', '1569687608_0e3b3ad044', '3211453055_05cbfe37cd', '2837640996_0183db8d93', '314940358_ec1958dc1d', '489372715_ce52da796a', '2665264979_df9c284bf8', '472860064_a96a228796', '282960970_574aa1ba49', '2251447809_2de73afcdf', '2214132302_80064fd79d', '3195701071_81879257f5', '3132006797_04822b5866', '437054333_5c2761b8cd', '3091921457_83eee69591', '2261257940_449b6e6c91', '3520079657_b828d96d50', '3624076529_9793655a21', '3201666946_04fe837aff', '3383388869_a14552e551', '3259119085_21613b69df', '3681324243_b69fa90842', '1542033433_5453d4c466', '2932498509_27cb0038ec', '2561849813_ff9caa52ac', '2422018883_336519b5c6', '3325157569_8084ab3293', '3281611946_f42deed2e1', '3607969989_68cc411493', '2079110798_ad1370a646', '435054077_3506dbfcf4', '2579460386_94c489028d', '444047125_66b249287c', '345684566_235e8dfcc1', '1418266617_b32143275b', '1670592963_39731a3dac', '2251418114_2b0cd4c139', '3062273350_fd66106f21', '2885111681_dc328ecfff', '3469585782_e708496552', '2831846986_5534425cfa', '481732592_b50194cb89', '836768303_d748df5546', '2687539673_d54a8dc613', '3174228611_6cf9d2266b', '2474047296_fd9179d438', '3188319076_71724fcc07', '2272750492_91e8f67328', '17273391_55cfc7d3d4', '2176874361_2b4149010b', '2857372127_d86639002c', '1019077836_6fc9b15408', '3280644151_3d89cb1e0e', '3150440350_b0f2a9e774', '3081330705_7a1732e12c', '3599568766_9e96def0ef', '3164328039_2c56acf594', '484896012_7787d04f41', '340667199_ecae5f6029', '3427301653_4ff0d6fd93', '3178300150_d4605ff02c', '870710405_51e507b31a', '1093737381_b313cd49ff', '2472896179_245e7d142f', '3636796219_9916c0465a', '3359636318_39267812a0', '3486831913_2b9390ebbc', '3099264059_21653e2536', '191003284_1025b0fb7d', '3329777647_5e1fd503ac', '496129405_b9feeda1ab', '3613585080_36629d8157', '2082005167_a0d6a70020', '3244171699_ace4b5d999', '3366105287_49a4bf71c6', '2949497756_be8e58e6bd', '2295447147_458cfea65a', '3269380710_9161b0bd00', '3229730008_63f8ca2de2', '3639845565_be547c38ba', '482047956_9a29e9cee6', '3455898176_f0e003ce58', '2565703445_dd6899bc0e', '2561341745_2d77d3ff7d', '3423802527_94bd2b23b0', '3392019836_c7aeebca1c', '1287064529_aa4e4f3c31', '2975073156_7543ed326f', '3553374585_25b1bd6970', '241346215_037e18403a', '3479423813_517e93a43a', '2641288004_30ce961211', '374103776_0de490c1b0', '246901891_4c4ea49c3a', '2203449950_e51d0f9065', '2534194182_ac53035cf4', '837893113_81854e94e3', '486720042_b785e7f88c', '2768021570_46bc6325e3', '3048821353_83d4c0cbb9', '2679926555_b11cf45595', '2335634931_7e9e8c2959', '3323528927_7b21081271', '3628059004_5c3529b120', '3706356018_28f62290e8', '2795866891_7559fd8422', '938162709_21443d352f', '2273038287_3004a72a34', '350176185_b8c5591e36', '2268596214_ca532f5c63', '2644916196_16f91dae54', '3485816074_363cab4bff', '3634281981_d9cf1d1a33', '3286193613_fc046e8016', '3607405494_0df89110a6', '241346402_5c070a0c6d', '2524084967_a5e011b73d', '1271210445_7f7ecf3791', '3171066023_ec60ba30f3', '2588456052_8842b47005', '3478176372_7c510a0cef', '3663307538_468739e4c3', '2188192752_09d9fc5431', '2469351714_d72becd21e', '1814086703_33390d5fc7', '2161799386_27aa938421', '3415809168_af9dabdba5', '2312747482_20a81b2230', '470887795_8443ce53d0', '3522000960_47415c3890', '2380740486_8cd5d4601a', '3183060123_ea3af6278b', '2385871165_9438c9fe84', '3724487641_d2096f10e5', '3358621566_12bac2e9d2', '2892395757_0a1b0eedd2', '3583903436_028b06c489', '2971478694_79e46ea7e5', '3148811252_2fa9490a04', '2788652511_4f10060e07', '1247181182_35cabd76f3', '539493423_9d7d1b77fa', '3462396164_ba9849c14b', '3654338683_13b2f95a9a', '857914283_270d7d1c87', '2602415701_7674eb19e4', '3739833689_a0038545bd', '3612538549_2828b45867', '2687529141_edee32649e', '3627076769_3b71e73018', '3116985493_04b1dc3345', '763577068_4b96ed768b', '2947452329_08f2d2a467', '486300784_2cc7a770ff', '3613264553_97b687f172', '930748509_8ca5cf5c24', '3351667846_ac43118ae5', '3309578722_1765d7d1af', '3327487011_1372c425fb', '2350400382_ced2b6c91e', '2191329761_3effd856c5', '3608849440_e7d2bed29f', '523249012_a0a25f487e', '3397633339_d1ae6d9a0e', '406901451_7eafd7568a', '3227499174_07feb26337', '2735158990_56ff6bf9b0', '3360876049_9047edeab9', '574274795_57e0834e7d', '2089555297_95cf001fa7', '2851931813_eaf8ed7be3', '3404552106_f516df0f5b', '2222498879_9e82a100ab', '496380034_d22aeeedb3', '3638631362_af29bbff01', '3273403495_fcd09c453e', '3429194423_98e911a101', '3516960094_87fb4889de', '103205630_682ca7285b', '3427402225_234d712eeb', '3389321512_b11f499dab', '3672109677_8caa992671', '3402638444_dab914a3de', '3272071680_648a99f7d2', '2976350388_3984e3193d', '3185787277_b412d7f5b7', '3596459539_a47aa80612', '3027399066_ca85495775', '2046778775_0dd7cac6ab', '3421104520_6a71185b3c', '3157220149_cc3c8cc84d', '2488795251_c108c77b13', '3562302012_0cbcd01ff9', '3573202338_f43dd22d28', '835415474_7b7f2a9768', '1115679311_245eff2f4b', '2921112724_5cb85d7413', '1732436777_950bcdc9b8', '2866686547_0a67eb899d', '3508882611_3947c0dbf5', '2607099736_8681f601d9', '2831672255_d779807c14', '3581818450_546c89ca38', '419116771_642800891d', '356143774_ef3e93eede', '1198194316_543cc7b945', '145721496_687af9bb18', '3634828052_3b6aeda7d6', '1424775129_ffea9c13ab', '1358089136_976e3d2e30', '1420060020_7a6984e2ea', '2612608861_92beaa3d0b', '3400135828_0ac128b6eb', '2057306459_2f52ce648e', '258476074_f28f4a1ae6', '544122267_e9e0100bc5', '1324816249_86600a6759', '2510197716_fddca0ac75', '2021671653_567395c7cf', '1453366750_6e8cf601bf', '2178306830_6af49375b4', '3187364311_4c2a87083b', '3636055584_65a60426f8', '1129704496_4a61441f2c', '2789238858_14261dd25a', '3447155358_5b5b59b15e', '3176278670_195eea071c', '3225025519_c089c14559', '432490118_54a9c0e500', '2738255684_0324ed062d', '3109780402_dbae082dc5', '2836553263_b1a08c25ea', '109671650_f7bbc297fa', '3576312396_799c873f3e', '10815824_2997e03d76', '2934379210_4e399e3cac', '3556390715_65c6d1e88b', '3321956909_7b5ddf500f', '3376898612_41c91de476', '543363241_74d8246fab', '3248752274_96740ed073', '2858439751_daa3a30ab8', '3532194771_07faf20d76', '3490874218_babb404b39', '2533076864_d799996433', '543326592_70bd4d8602', '261737543_b8fdc24671', '3431487300_0123195f9b', '2372572028_53b76104a9', '3640870001_acbd1d5ceb', '2107837987_ffecfc367a', '2865409854_afedf98860', '613900608_2e49415772', '2922981282_203f04bf9b', '3588417747_b152a51c52', '3126795109_73920ed5dc', '3322389758_394c990b6a', '3131107810_7e9b96cddc', '3523950181_414978964e', '2381102729_12fc4d4c76', '2258951972_92763fddab', '3353400143_8b9543f7dc', '518610439_b64ab21c02', '3650986674_3e101c606b', '3350671534_2a5d45a961', '3042484940_0975a5e486', '3410215754_5d5caeffaf', '460781612_6815c74d37', '2853205396_4fbe8d7a73', '3173928684_4ea0ee5114', '531261613_f1a045cd75', '2144846312_d4c738dc6c', '2862676319_a9dab1309f', '662606040_8cc8cd9f1b', '3472540184_b0420b921a', '426920445_d07d1fd0f7', '415657941_454d370721', '772212710_f5fc22ed35', '2294598473_40637b5c04', '3227423095_5049951eab', '2407470303_6fd5e3600d', '241345427_ece0d186c2', '3145869775_85dfae43bd', '3656906086_7034f69ab6', '3204922011_185e48949a', '2620113705_a8fa89b8f6', '512045825_1be2083922', '3322443827_a04a94bb91', '1433577867_39a1510c43', '3638374272_444f5e0457', '1303727066_23d0f6ed43', '2423085253_6c19149855', '2223382277_9efa58ec45', '1309330801_aeeb23f1ee', '2824004868_1fc0a81173', '3019667009_20db160195', '405534993_5158644f98', '3518334317_bc40bae18d', '3408130183_f038bdaa4f', '778885185_3f6905370b', '944374205_fd3e69bfca', '642987597_03b21a1437', '3009383694_e045c6169e', '3703035378_c6034cac51', '2981372647_2061278c60', '2506892928_7e79bec613', '1236951314_0308dc4138', '3095137758_bdd1e613dd', '3211029717_2affe6bbd5', '799431781_65dc312afc', '367673290_f8799f3a85', '3178005751_fca19815ac', '250406927_a5028a31d4', '2768248810_06d543c080', '2839789830_89668775a4', '2260369648_e21ae6494a', '3426964258_67a0cee201', '3150252702_828a570d46', '2443229844_277cded27d', '2656987333_80dcc82c05', '278002947_3fd22a2cb6', '444845904_a4531c811a', '2707969386_94dde00ce4', '2792409624_2731b1072c', '3673970325_4e025069e9', '3666188047_e81e1d97a7', '2744705147_acd767d3eb', '3445428367_25bafffe75', '433810429_a4da0eac50', '3249014584_21dd9ddd9d', '2097398349_ff178b3f1b', '2699342860_5288e203ea', '1466479163_439db855af', '2873188959_ff023defa9', '2708744743_e231f7fcf9', '2825483885_3f7c54db3e', '2599131872_65789d86d5', '3718892835_a3e74a3417', '3520922312_e58a6cfd9c', '3312779887_7682db7827', '2570559405_dc93007f76', '3252588185_3210fe94be', '3512033861_a357bb58b6', '2478929971_9eb6c074b6', '3424605029_53078d3505', '2650568697_ffb79bf2ea', '3249891130_b241591e89', '3759492488_592cd78ed1', '2992658871_ac786d37a6', '2797438951_88a3ed7541', '3453019315_cfd5c10dae', '2319175397_3e586cfaf8', '3634400263_c6fcaa48e1', '3263741906_6e4508d1c8', '397982550_cf9f5cdb74', '1470061031_4cb59c12a8', '418616992_22090c6195', '2075493556_b763648389', '2751602672_ca5e1f6447', '3560726559_4c4bed9f2d', '3563059800_c073081ce3', '1564614124_0ee6799935', '3536561454_e75993d903', '2766325714_189bbff388', '3220151692_d398ef9779', '2899501488_90d5da5474', '2460477085_088e25f857', '1417941060_2a0f7908bc', '3613375729_d0b3c41556', '456512643_0aac2fa9ce', '3503471307_464a8f588c', '2298946012_22de913532', '386470686_1ae9242878', '1160034462_16b38174fe', '3591094476_b61acd63d6', '3201594926_cd2009eb13', '3576840040_9356b5b10a', '3357416302_fcfcdd7b86', '2457052334_b5a1d99048', '426805536_d1d5e68c17', '3627216820_4952bacbcb', '3141613533_595723208d', '3080891382_edf83dde18', '3640241166_b1ab7a8e7a', '2384728877_48c85d58af', '3271495320_bca47795fb', '1302657647_46b36c0d66', '3747543364_bf5b548527', '218342358_1755a9cce1', '386655611_1329495f97', '1335617803_4fbc03dab0', '2182050469_1edac0bc60', '3193335577_9bdbaf9f70', '2861413434_f0e2a10179', '3026102616_3cf350af9e', '519059913_4906fe4050', '2615811117_42b1838205', '2095078658_c14ba89bc2', '2879241506_b421536330', '3299418821_21531b5b3c', '2694426634_118566f7ab', '350588129_6aef7b7fe2', '597543181_6a85ef4c17', '3559425864_0462d7613f', '479807465_cf42f39d00', '2100909581_b7dde5b704', '3242263536_a436f19257', '3116731299_6139b25c18', '300222673_573fd4044b', '524698457_77ba13840a', '1776981714_5b224d0f7a', '3090386315_87ed417814', '2968885599_0672a5f016', '2115631346_9585a479b0', '2479180530_7ebba2d8bf', '2654943319_d17fee7800', '2439031566_2e0c0d3550', '2469620360_6c620c6f35', '3595412126_4020d4643b', '278496691_c1fd93e2d8', '3697379772_40d831392b', '3616846215_d61881b60f', '2609847254_0ec40c1cce', '2635023078_6dae04758f', '2089542487_b4c1ee7025', '3126773489_7ae425af17', '2708176152_1634cb754d', '823697339_aadbeef495', '236095034_c983bdfbbf', '288025239_5e59ba9c3b', '781118358_19087c9ec0', '3601491447_a338875b51', '2381583688_a6dd0a7279', '2743652730_d909c7ae82', '3171347658_f0d5469c56', '3301438465_10121a2412', '3647170476_0fd71a4c9f', '2256138896_3e24b0b28d', '2578834476_118585730d', '3368819708_0bfa0808f8', '2318502106_33f2e4b4fc', '1388373425_3c72b56639', '2560388887_55abc9083d', '3050606344_af711c726c', '207584893_63e73c5c28', '3524519277_bd0c3e7382', '3441104823_33cdae5a56', '451326127_2d95a2e1c2', '1131340021_83f46b150a', '2855667597_bf6ceaef8e', '3003612178_8230d65833', '3353950389_1153d5e452', '2884252132_5d8e776893', '2343879696_59a82f496f', '408233586_f2c1be3ce1', '3099504809_565e17e49d', '561179890_af8e31cb2e', '3285214689_f0219e9671', '2257631407_1529b9db39', '3342855466_44038a8aa3', '897621891_efb1e00d1d', '3428038648_993a453f9e', '1541272333_1624b22546', '3640407952_bb38fb9d55', '2831656774_36982aafdb', '1394620454_bf708cc501', '534669139_1a4f8ab9d5', '2219805467_370ee1b7aa', '2490365757_b869282cb3', '1965278563_8279e408de', '2857473929_4f52662c30', '169490297_b6ff13632a', '2287023569_fd7a9c60b8', '412101267_7257e6d8c0', '3041487045_b48ac7ed08', '3264464625_c711cc40c6', '2088460083_42ee8a595a', '380527679_574749123d', '2387197355_237f6f41ee', '2181117039_c4eea8036e', '444872454_9f51e07f88', '491564019_1ca68d16c1', '2690538407_7ca157be85', '3457856049_2de173e818', '109738763_90541ef30d', '2883324329_24361e2d49', '3579686259_b1fe6aefc9', '491600485_26c52c8816', '3136674757_57406c305c', '2554570943_122da6438f', '2870426310_4d59795032', '3373946160_1c82d54442', '2564888404_b57f89d3c7', '460195978_fc522a4979', '3582914905_f58db879ae', '2741380826_cfe0ddf0a9', '3688839836_ba5e4c24fc', '3387661249_33e5ba0bc5', '3467073304_aefe553c4d', '2226534154_cbcab7ba32', '1947351225_288d788983', '2346523971_d3f1e12ce4', '3016200560_5bf8a70797', '652542470_60e858da64', '2778290592_1910bb0431', '2203286182_b453e9d176', '3081363964_d404eccae8', '3430287726_94a1825bbf', '3406802138_ef77bbddd0', '3619381206_5bc8b406f9', '295258727_eaf75e0887', '1055623002_8195a43714', '3687222696_85bf6f78f7', '2298661279_016d87ba2f', '3501083764_cf592292a6', '3222749441_3bdfe088e3', '2834752476_3177e617f1', '3692746368_ab7d97ab31', '2444134813_20895c640c', '3382105769_b1a4e4c60d', '2633082074_32c85f532c', '409327234_7b29eecb4e', '2911928620_06c3fa293e', '3474265683_43b1033d94', '2642350864_099c0f2152', '303607405_f36edf16c6', '217838128_1f0a84ddc1', '3710353645_8fbfaa4175', '1688699579_2f72328c7e', '616045808_0286d0574b', '241347635_e691395c2f', '3681056426_fbd6c0c92c', '3649224118_abe73c672c', '3535879138_9281dc83d5', '2831314869_5025300133', '3318995586_c2bc50b92e', '2565685680_c30972455d', '143680442_2f03f76944', '3385956569_a849218e34', '2695001634_127fe2f0d7', '3182558164_488b819f14', '3467510271_0f57e52768', '805682444_90ed9e1ef3', '2752175795_c9def67895', '514036362_5f2b9b7314', '2089539651_9e518ec7de', '280932151_ae14a67be5', '358559906_d5f3f584f4', '3320680380_b0d38b3b4a', '426191845_1e979e9345', '3429351964_531de1bf16', '2056930414_d2b0f1395a', '2623560640_0445c9a138', '2414352262_005ae90407', '2782480767_064c95eff2', '3229519418_040f05ced1', '822836318_21544f0f78', '3506607642_40037b3fbf', '2939464283_fc1a834976', '3056530884_27766059bc', '3563668905_689ed479c5', '2888658480_e922a3dec2', '2259203920_6b93b721ce', '2080033499_6be742f483', '1904112245_549e47c8aa', '2867845624_22e4fe0a23', '520491467_54cbc0a866', '3493255026_5fdaa52cbe', '143688205_630813a466', '251958970_fa6b423f23', '416650559_cd08d3cd96', '557601144_50b8c40393', '421153376_d1d325568f', '2255342813_5b2ac6d633', '2777021428_0b2ac3e987', '3023178539_836b50cd43', '384465370_9918873f9a', '511844627_0ec78e01e9', '3492383096_5bbc08f0da', '2837908308_8bc25c6b02', '3303797949_339bb969ba', '2839807428_efe42423f2', '3232030272_b2480a5fe7', '2036407732_d5a0389bba', '3552796830_2dd2aa9c2c', '242109387_e497277e07', '2947274789_a1a35b33c3', '3671851846_60c25269df', '530950375_eea665583f', '2276120079_4f235470bc', '2967549094_d32422eb01', '2187222896_c206d63396', '3333675897_0043f992d3', '2789648482_1df61f224a', '3590593467_be497a6139', '2220185725_45d4fa68d9', '664470170_6a1ad20c45', '393987665_91d28f0ed0', '3417662443_2eaea88977', '241345864_138471c9ea', '2887798667_ce761d45e8', '3105623068_392b767a7b', '1130401779_8c30182e3e', '493507605_48fe8e3739', '3426966595_c8c4e1e872', '2533414541_362bf043bb', '2903469015_a1e7d969c2', '2561334141_0aacefa5e7', '3396817186_b299ee0531', '2568656919_6e49d2a82b', '3220200084_3ea129336e', '3271252073_0a1b9525fc', '3305895920_100a67d148', '119534510_d52b3781a3', '3564007203_df2b8010f1', '1143882946_1898d2eeb9', '2284894733_b710b9b106', '3645080830_1d9ee2f50a', '3295452057_0c987f895f', '2273591668_069dcb4641', '2695085632_10c4e6ea78', '3184112120_6ddcd98016', '162743064_bb242faa31', '3526805681_38461c0d5d', '3254645823_a7c072481c', '3572346664_e1e6c77f11', '3638783842_af08dbb518', '452363869_cad37e609f', '472661386_723aae880b', '781387473_208ba152b3', '3460551728_63255cec18', '3523920786_0eb63993fd', '3527682660_c5e9fa644a', '3029715635_43ab414dfb', '2676184321_858eff416b', '3327563443_870a33f748', '529198549_5cd9fedf3f', '2952141476_fc9a48a60a', '2277299634_e14bdb7ff7', '380590140_25b9889772', '3326024473_4c16e4fbfc', '496555371_3e1ee0d97d', '689359034_4a64c24ca4', '254475194_3d8f4dfd53', '2467821766_0510c9a2d1', '3474999131_788cbf253f', '3610189629_f46de92ab3', '1835511273_790eaae6e6', '3413669228_ec64efeb34', '1809796012_a2dac6c26b', '2325258180_6217dd17eb', '3279988814_d3693dcb6c', '544257613_d9a1fea3f7', '3700322513_50f0d45bfa', '3412036192_d8cd12ed3f', '469259974_bb03c15c42', '2451114871_8617ae2f16', '2985439112_8a3b77d5c9', '382151094_c7376cf22b', '517094985_4b9e926936', '390992388_d74daee638', '1313961775_824b87d155', '3473320907_3884a7203b', '233270519_d60d4518fa', '2773011586_6f4cd41e84', '2226440063_c085b30558', '3303648823_53cf750acd', '2066241589_b80e9f676c', '3415646718_f9f4e23a66', '2656039837_f46b29af92', '3544673666_ffc7483c96', '1026685415_0431cbf574', '444803340_fdcaab86f9', '3360730513_211e1a4db6', '166321294_4a5e68535f', '2754898893_95239c1f19', '3471066276_fb1e82e905', '557101732_32bbc47c12', '2744705574_519c171ca0', '3203707977_cc9448fecb', '1095580424_76f0aa8a3e', '2638369467_8fc251595b', '694496803_f2a05869cf', '428483413_b9370baf72', '3106857210_07a92577fc', '2715337869_e4fe36db50', '1622619190_d0b51aff28', '3014015906_fdba461f36', '2339140905_9f625f140a', '3264337159_e1680a35ba', '3351357065_a6a9b3d485', '3659769138_d907fd9647', '3340575518_137ce2695f', '2838125339_3dd314e315', '3046916429_8e2570b613', '315021440_122d56ebd7', '1917203130_fcaff8b10e', '3713922357_e0a013fb97', '3329169877_175cb16845', '3321063116_4e5deeac83', '1095590286_c654f7e5a9', '2512683710_991c9d466d', '3320209694_db579cb607', '3174417550_d2e6100278', '2204777844_1bcf26bf84', '3425069551_aba046a1b6', '2102030040_2e8f4738f7', '1479679558_d0a01bc62b', '531055369_936fd76a63', '1153704539_542f7aa3a5', '2886837407_a4510ab1ef', '3423225860_16e26eef74', '2836808985_b26e4ca09e', '3307667255_26bede91eb', '2655196158_5c878a4af0', '2914331767_8574e7703d', '2171576939_d1e72daab2', '2552723989_7bc93e0f7b', '2960033435_c20cc7399a', '2720215226_5a98ff2bd3', '2382411771_a16145f345', '2389107995_ec756f3514', '3728164558_52729baefa', '609681901_66809d2dc1', '2873837796_543e415e98', '3292016893_24d14c8b4f', '3603116579_4a28a932e2', '2565350330_c7f305e7f7', '2839932205_3c9c27cd99', '2353088412_5e5804c6f5', '427683329_95d510a087', '3452982513_36f2bc81fa', '2289212650_69de7a20b2', '3420323191_d66e003264', '2807177340_bc85291df5', '848180689_d67a1361ce', '3086810882_94036f4475', '1229756013_94663527d7', '3137061312_eb5fdcf3fd', '526661994_21838fc72c', '3654103642_075f8af4f4', '3284887033_e2e48f1863', '1428578577_82864facae', '3546474710_903c3c9fd3', '1007129816_e794419615', '476760133_c33d2bd83d', '323657582_b6b6d8f7bd', '2774362575_7543b8bf19', '684255145_db3f8e3e46', '3169394115_2193158cee', '1663751778_90501966f0', '3437781040_82b06facb3', '3399618896_9ef60cd32c', '3170897628_3054087f8c', '3544573946_e03aebbfde', '3143159297_6f2f663ea6', '2717686269_80c4b5ac9e', '358607894_5abb1250d3', '2272489996_95b0a62d15', '2225241766_f1e7132e3e', '1022975728_75515238d8', '2425262733_afe0718276', '2598979962_c01811cfca', '110595925_f3395c8bd6', '3732728142_86364a706e', '3211577298_14296db6fd', '290982269_79fc9f36dc', '918886676_3323fb2a01', '3426724811_137855b4f7', '3275537015_74e04c0f3e', '3185695861_86152b2755', '496971341_22782195f0', '2469498117_b4543e1460', '3257277774_aba333a94c', '698107542_3aa0ba78b4', '3088399255_1bd9a6aa04', '2335428699_4eba9b6245', '3485486737_953f9d3be2', '2353102255_67d9d2e40a', '3288839246_fdb00395ae', '2602279427_191773c9e2', '2715289538_d77c8d0a85', '2846037553_1a1de50709', '3467941308_ae6989e29c', '3597210806_95b07bb968', '3120266797_47e7d91614', '3289893683_d4cc3ce208', '3537806062_c50d814aba', '3143980056_7a64a94b58', '2445654384_4ee3e486e1', '2568417021_afa68423e5', '2085726719_a57a75dbe5', '3550255426_4ab03c0d6e', '2384147448_c1869070d3', '2630507245_bea4804288', '2372763106_ddea79d36e', '2629445284_83390e83af', '3431860810_44277cd360', '3348785391_c243faf6bb', '1775029934_e1e96038a8', '2127207912_9298824e66', '114949897_490ca7eaec', '2849194983_2968c72832', '2649705487_4605e879e9', '510197538_0a11b94460', '842961005_692737888e', '1433397131_8634fa6664', '3450776690_38605c667d', '3557295488_600d387347', '2751694538_fffa3d307d', '697490420_67d8d2a859', '533602654_9edc74385d', '2673564214_3a9598804f', '457875937_982588d918', '3695517194_2a6b604cb2', '1348947380_14f0fc1237', '3609027309_af75f773d9', '3350785999_462f333c44', '2724485630_7d2452df00', '979201222_75b6456d34', '2676937700_456134c7b5', '3533145793_5d69f72e41', '735787579_617b047319', '3168796547_0c14b368f9', '2873065944_29c01782e2', '3356901257_83811a19eb', '241031670_e60f59b8e4', '2472720629_d9a6736356', '2201222219_8d656b0633', '2718027742_70a72f99ae', '3145967019_1a83ebf712', '3671777903_6fbf643980', '3349528565_0bc013b70a', '871290646_307cddd4e7', '3019473225_8e59b8ec4e', '485054073_fef8b80b4b', '2817230861_d27341dec0', '2657484970_610e18144f', '3133825703_359a0c414d', '3249738122_decde6c117', '512306469_1392697d32', '3094317837_b31cbf969e', '3110018626_307a123b59', '459814265_d48ba48978', '3568065409_1c381aa854', '3613667665_1881c689ea', '2423138514_950f79e432', '2759596272_e0ce0a965a', '97731718_eb7ba71fd3', '3412822878_5d961492e5', '2328616978_fb21be2b87', '3639617775_149001232a', '3092756650_557c5f2d03', '1358892595_7a37c45788', '972381743_5677b420ab', '3565654691_22b97d3994', '3638908276_b1751d30ff', '3494345896_dd6b32cfa3', '3156991513_3bf03333d8', '2980348138_91cc6f6d0f', '47871819_db55ac4699', '2125626631_a4b63af97e', '1389651420_8d95d8f6ed', '2884400562_e0851014fc', '3173215794_6bdd1f72d4', '3646927481_5e0af1efab', '3260088697_af9b6d2393', '3351111378_b5d80783a1', '2960759328_2d31e4af9b', '3146630574_05d9ebbed1', '185972340_781d60ccfd', '710878348_323082babd', '3626964430_cb5c7e5acc', '3615239961_62b4dbc174', '2261962622_e9318a95eb', '3569755200_cef7ee2233', '327997381_55f90dc834', '2092419948_eea8001d0f', '2924870944_90ff9eca1a', '2517082705_93bc9f73ec', '2837808847_5407af1986', '3334866049_f5933344aa', '109260216_85b0be5378', '229951087_4c20600c32', '1417295167_5299df6db8', '3661239105_973f8216c4', '3365348059_9773165302', '3604391853_b4809fcb8c', '3564742915_5f940b95b4', '3542341321_faa2d2d48a', '453756106_711c20471a', '2109911919_af45b93ef3', '542648687_adf13c406b', '3612485611_12dd7742f7', '2952320230_26601173be', '482907079_22085ada04', '3728695560_00ec1ca492', '3064716525_b8418d4946', '2242863004_3a9f82a31f', '3036596725_541bbe0955', '2660480624_45f88b3022', '2712974062_6d5b6aa7f0', '3428386573_670f5362f0', '3282634762_2650d0088a', '3362189985_fbae8f860a', '174466741_329a52b2fe', '2827964381_408a310809', '3530687486_6e6be53602', '1425013325_bff69bc9da', '3572942419_16ebdc3d46', '3411579899_0f8ed09142', '3543294190_0037c59607', '3287963317_186491ee78', '3609952704_3719ab0524', '3343311201_eeb1a39def', '2181724497_dbb7fcb0a9', '535309053_ec737abde8', '3336065481_2c21e622c8', '2993049054_611f900644', '2043520315_4a2c782c90', '3035118753_69287079dc', '3109688427_d2e702456c', '245442617_407eba1e98', '2558312618_13d362df66', '436393371_822ee70952', '3251088971_f4471048e3', '2564663851_3a9832e4fc', '265528702_8653eab9fa', '3702607829_2b8b3e65ab', '3021780428_497542a072', '300148649_72f7f0399c', '2750832671_4b39f06acf', '3587092143_c63030ed6d', '2312731013_1a3a8e25c6', '2282600972_c22d1e03c7', '55135290_9bed5c4ca3', '2923825744_ca125353f0', '2419186511_f0ce5f9685', '2250870111_8402d2319d', '2706430695_3b5667741c', '2699733386_c346c87ea6', '1142847777_2a0c1c2551', '3432730942_4dc4685277', '3368569524_a9df2fc312', '3604384383_db6805d1b9', '3235076435_1eaa40bd0a', '2209888959_d636b1be0b', '3216901052_269ace7b3c', '1456630952_dd4778a48f', '263522013_d118d46b2d', '1110208841_5bb6806afe', '2865376471_43c5e6b941', '2978394277_4572967b97', '2180356743_b3a3c9a7f6', '1244140539_da4804d828', '241346352_c5a0ea43c6', '3097171315_0ba7d283b1', '3490186050_4cb4193d4d', '96973080_783e375945', '108898978_7713be88fc', '2606433181_f8f9d38579', '3559993787_c49644dcc5', '246094557_e174a5914f', '2716457668_187a6d2b1c', '518144037_9a1754b2a6', '3661659196_6ed90f96c0', '1285067106_2adc307240', '2109479807_eec8d72ca7', '2822148499_eaa46c99d4', '2915183095_4ed4aa4f37', '3127142756_bf0bfcb571', '3168354472_866fe70d36', '3348384389_73b6647017', '1423126855_6cd2a3956c', '3407584080_c6abf71ae3', '1312227131_771b5ed201', '3413019648_e787f0cb88', '96985174_31d4c6f06d', '530661899_94655d7d0e', '3275527950_41aca690a1', '1255504166_f2437febcb', '3178599352_c57fdebcd2', '2832076014_ff08c92037', '1514957266_a19827c538', '268654674_d29e00b3d0', '2924884815_63826aa60d', '1569562856_eedb5a0a1f', '3765374230_cb1bbee0cb', '247652942_29ede19352', '2340919359_f56787d307', '2234910971_80e0325918', '332045444_583acaefc3', '3508051251_82422717b3', '251056963_c8b67f0107', '3339747039_1a8455c210', '2309327462_82a24538d4', '1785138090_76a56aaabc', '2532262109_87429a2cae', '3215238223_29de2b35cb', '3252457866_b86614064c', '3698607223_22fe09763a', '3647693147_0d0434351b', '3576741633_671340544c', '1576185717_f841ddc3da', '112178718_87270d9b4d', '3397310901_cbef5c06ef', '3636632926_09f39f2629', '535399240_0714a6e950', '1781227288_6811e734be', '3324746155_71e14f60ce', '900144365_03cd1899e3', '3685373706_37f2ced9ff', '3164415865_612f9fd8bc', '3331797838_b3e33dbe17', '161669933_3e7d8c7e2c', '2944193661_7b255af9cc', '371522748_dc557bcd6c', '3228517564_74b00a923b', '3165750962_e2e3843679', '2580215443_4e64afe3d5', '3614595423_f9e0ab4fb0', '3185645793_49de805194', '3540155303_08225a4567', '3070485870_eab1a75c6f', '3698944019_825ef54f2f', '3422979565_e08cd77bfe', '3508637029_89f3bdd3a2', '3035949542_cb249790f5', '345284642_77dded0907', '3356284586_21c6f155a5', '111766423_4522d36e56', '2584487952_f70e5aa9bf', '3533451027_b078e4631b', '2414986483_004936f84b', '2906054175_e33af79522', '2508918369_2659db1cb6', '116409198_0fe0c94f3b', '3119887391_212f379797', '3584196366_a4b43d6644', '2200901777_f6c168bd32', '2525455265_f84ba72bd7', '357725852_6f55cb9abc', '3272847211_9e8a4f8308', '2975253472_0f0c2dea70', '2057305043_952b8dc82c', '3069282021_e05e1829f3', '2999638340_75bc8b165d', '2588625139_fdf6610218', '2956413620_d59de03a06', '2590207488_ddd89037ba', '2632111399_b3c1630f8e', '1801188148_a176954965', '3241965735_8742782a70', '222759342_98294380fc', '136639119_6040b00946', '3623331945_df0f51d7dd', '1289142574_2bd6a082dd', '3705430840_e108de78bf', '2333584535_1eaf9baf3e', '3337046794_296bd2c7e0', '1752454466_723790dbd6', '2284239186_c827f4defa', '99171998_7cc800ceef', '1579198375_84b18e003a', '3480126681_52cea26bda', '3301822808_f2ccff86f4', '2502782508_2c8211cd6b', '3667318593_fa1816b346', '2869765795_21a398cb24', '2003663004_5b70920a98', '2180480870_dcaf5ac0df', '1417637704_572b4d6557', '3605100550_01214a1224', '2834103050_512e5b330a', '3067500667_0fce8f28d4', '3282434895_1c1efc1475', '241347611_cb265be138', '3551170666_01df31412d', '3106787167_e5f2312622', '2623247254_3bfc795121', '872135364_8c1e47d163', '3638440337_6d5c19a8f0', '3640348910_fcd627ec66', '3106340185_80d0cb770a', '3353278454_2f3a4d0bbc', '3248352729_ab264b2222', '2392625002_83a5a0978f', '2540360421_f7c2401da8', '186890605_ddff5b694e', '1348957576_c4a78eb974', '445655284_c29e6d7323', '3639105305_bd9cb2d1db', '3335370208_460fc19bfa', '3640743904_d14eea0a0b', '3356369156_074750c6cc', '3251646144_d9f4ccca3f', '411863595_d77156687e', '2735979477_eef7c680f9', '2068465241_3bcabacfd7', '3130970054_04a3865c43', '3614881872_ccf9739b0e', '3516935867_78cf63c69c', '2461631708_decc5b8c87', '512163695_51a108761d', '3457572788_e1fe4f6480', '3681172959_6674c118d2', '2222559267_6fd31e3941', '1876536922_8fdf8d7028', '346253487_687150ab04', '2909609550_070eea49b5', '272546805_536c719648', '3430526230_234b3550f6', '1557451043_f5c91ff6f4', '2030781555_b7ff7be28f', '2933643390_1c6086684b', '3122497129_d08f5729b8', '508929192_670910fdd2', '1662261486_db967930de', '3259992164_94600858b3', '2263655670_517890f5b7', '222369445_5b6af347dd', '2925737498_57585a7ed9', '709373049_15b8b6457a', '3628017876_4ac27e687b', '390992102_67fa31b22f', '2426781076_e3f4d2685c', '412203580_2c7278909c', '1419286010_b59af3962a', '2400958566_4e09424046', '458735196_176e7df6b3', '359082432_c1fd5aa2d6', '3367034082_31658a89bb', '279230262_e541f9b670', '3016741474_72b4355198', '199809190_e3f6bbe2bc', '3426933951_2302a941d8', '495033548_bd320405d8', '3002920707_5d2e6e6aac', '2465218087_fca77998c6', '3392851587_a638ff25e2', '2635483351_bc1a8273aa', '3549614763_42f34f3d1e', '374124237_51f62b6937', '2635905544_dbc65d0622', '2091171488_c8512fec76', '2242178517_2325b85e5f', '3726130458_07df79e969', '2687229880_97cfd8148e', '3635194562_4c1dfa120a', '3184206563_5435f2b494', '3552435734_04da83b905', '684375286_09cc1aa778', '2056377805_e9a9b3bcf0', '2244551043_21b8cca866', '2929272606_2a5923b38e', '3078844565_16e9cdcea2', '2771424045_1fdf9617eb', '2644326817_8f45080b87', '2135360514_7dcb9ed796', '501650847_b0beba926c', '3308018795_68a97a425c', '2534424894_ccd091fcb5', '3546720729_38fff1bbd9', '2101128963_fdf8b2a0d7', '95734035_84732a92c1', '502884177_25939ac000', '458183774_afe65abf67', '3561314880_ea9a7e245f', '2893476169_f38dd32051', '3380643902_7e0670f80f', '1474474514_b3eb492722', '3030824089_e5a840265e', '241345981_1ef4f8109c', '1252787177_4b08625897', '3376809186_4e26d880b7', '112243673_fd68255217', '306315650_e064f5c677', '3249865395_dceaa59f54', '2857609295_16aaa85293', '2081141788_38fa84ce3c', '864290968_eccb46d5ab', '3613027188_1645ca1976', '3516299821_8f0375d221', '1562478713_505ab6d924', '2959500257_3621429a37', '2761599088_8b39cc5f41', '109738916_236dc456ac', '3571039224_b34fa2f94c', '1860543210_47e94cf652', '2873445888_8764699246', '3649382413_58a4b1efe8', '2355093195_87fb7f82cb', '1357753846_6185e26040', '2772532341_c4597a94ed', '506882688_b37d549593', '470903027_489cc507de', '241345446_2e47ae8ddc', '2709275718_73fcf08c23', '2303951441_3c8080907a', '492493570_c27237a396', '3589267801_5a222e3a60', '3295671644_0e10891b6d', '2439384468_58934deab6', '2243904502_2d265fed80', '2208631481_3e4a5675e1', '2195887578_3ba2f29b48', '3567604049_da9e1be4ba', '516394876_8b9b8021bc', '3220009216_10f088185e', '3091177347_58c85c1c3b', '2902844125_4186bf3ab6', '3217240672_b99a682026', '2701487024_e866eb4550', '1563731247_7f21d8bec0', '2045562030_654ddea5e5', '299178969_5ca1de8e40', '2136514643_93d8f75a77', '3597354819_0069aaf16e', '3294964868_16f4f9fa9d', '3416460533_d5819fbf69', '2616009069_82561da2e5', '543102698_38e7e38bbc', '3171651115_e07b9d08f6', '2391269207_d1d2615b1d', '3621177753_1718c30ea0', '518789868_8895ef8792', '2049646140_d0de01e3c4', '3544483327_830349e7bc', '124881487_36e668145d', '2268601066_b018b124fd', '3501386648_e11e3f3152', '267164457_2e8b4d30aa', '3195040792_a03954a19f', '2753506871_dc38e7d153', '3111208043_dbe8e87fa1', '2860400846_2c1026a573', '3002448718_a478c64fb4', '2602866141_be9928408d', '3613005134_bb7f304da1', '78984436_ad96eaa802', '3435648640_b2f68efb78', '3449170348_34dac4a380', '3431121650_056db85987', '3567214106_6ece483f8b', '2636876892_9353521a1c', '3479050296_65bcea69a0', '3301854980_233cc2f896', '2322601965_748d59dc57', '2689491604_d8760f57b4', '3427852996_d383abd819', '3335097235_538f4777c3', '3726076549_0efb38854b', '2320125735_27fe729948', '322791392_aa3b142f43', '2888408966_376c195b3f', '2667783499_3a4f38f636', '3632572264_577703b384', '1299459562_ed0e064aee', '3079786914_fe598b0e54', '2119660490_ce0d4d1f73', '2949014128_0d96196261', '933118213_b35b0b62a7', '1355450069_c0675b0706', '2363006088_b3e3aa5c0b', '3683592946_262e9bfbfd', '2594459477_8ca0121a9a', '566794036_60f7acdf35', '3349955993_a04aea97d8', '842960985_91daf0d6ec', '733172023_5810350af6', '3190677999_60bbd330fd', '1298866571_b4c496b71c', '3464708890_3cab754998', '3437273677_47d4462974', '3665996775_6d7d9a46f1', '3040051410_6205682ba3', '516214924_c2a4364cb3', '3303787342_b258b377b6', '1280147517_98767ca3b3', '307301755_48919ef1b2', '2657643451_b9ddb0b58f', '3046430047_d7b10123d0', '3371567346_b6522efdb8', '2888386138_578d21033a', '2882056260_4399dd4d7c', '2744690159_fe2c89e55b', '733752482_ee01a419e5', '3256456935_664a7a5bba', '2070831523_5035d5537e', '3383545083_1d7c95b003', '1778020185_1d44c04dae', '1446933195_8fe9725d62', '3674168459_6245f4f658', '1148238960_f8cacec2fc', '2988439935_7cea05bc48', '3199645963_a681fe04f8', '2569643552_23696a9ba5', '3413806271_17b7e102aa', '498404951_527adba7b8', '396179143_e1511336e1', '241345522_c3c266a02a', '3060969260_08f43e4f4f', '241347496_1a35fec8dc', '3498423815_5b8fc097f4', '557721978_dfde31bc02', '1379026456_153fd8b51b', '2864340145_d28b842faf', '2325386353_1f1a05e1ce', '3522989916_f20319cc59', '2477121456_1ac5c6d3e4', '3206058778_7053ee6b52', '2713897716_c8cd610360', '240583223_e26e17ee96', '3315353266_70f0bbb1c3', '2754271176_4a2cda8c15', '3667908724_65c7d112f2', '3724738804_f00748a137', '3079917032_3cfacb2fd7', '3223302125_f8154417f4', '299676757_571ee47280', '140430106_2978fda105', '562588230_edb2c071c8', '3595992258_6f192e6ae7', '3476237185_9389c536a3', '3362049454_ea0c22e57b', '3406116788_c8f62e32d1', '3082474922_9c3533eaf6', '2603690144_7a28b1d13c', '506343925_b30a235de6', '3205336477_037d4b6bd9', '3336759846_5220e27deb', '2266061169_dfbf8f0595', '3430100177_5864bf1e73', '2432061076_0955d52854', '2571096893_694ce79768', '3006095077_1992b677f8', '2213113526_beeb4f9bdc', '2312984882_bec7849e09', '3344798356_5cc41f7939', '3253060519_55d98c208f', '3210457502_c6030ce567', '3281580623_8c3ba0fdb2', '3458215674_2aa5e64643', '2918880895_e61f74f2f0', '3669069522_555c97fbfb', '2286236765_2a63eeb550', '267162122_c3437414ec', '3401333624_4b6af8c1d7', '2151056407_c9c09b0a02', '2074764331_90a9962b52', '532131603_c82d454c8a', '3595080592_5fd55570e5', '3520199925_ca18d0f41e', '1176580356_9810d877bf', '3102204862_f1d220230b', '3713882697_6dd30c7505', '414568315_5adcfc23c0', '3357937209_cf4a9512ac', '2186139563_e60c1d4b8b', '2316097768_ef662f444b', '2613920405_e91e6ebd7a', '2282895743_f803f1cf01', '307994435_592f933a6d', '3084011664_76d37c6559', '228949397_9e63bfa775', '2938072630_d641b63e4d', '316577571_27a0e0253e', '3243591844_791cfa62eb', '2495394666_2ef6c37519', '2951092164_4940b9a517', '3578068665_87bdacef6a', '3133044777_8cc930a4ec', '1248953128_24c9f8d924', '2527163162_d0fb802992', '2716903793_fb7a3d8ba6', '391106734_d374bc3080', '3551787566_b5ebbe2440', '578274277_652cae32ba', '2766726291_b83eb5d315', '2471974379_a4a4d2b389', '264141937_585320617a', '961611340_251081fcb8', '3541962817_78bcd3835b', '394136487_4fc531b33a', '472396131_6e97068d93', '3362871440_6c0f27c480', '1499554025_a8ffe0e479', '3537452619_3bd79f24e0', '2586028627_ddd054d8cc', '3000722396_1ae2e976c2', '523991446_65dbc5a4a5', '3021318991_fa28e3bca7', '3376439178_159e4126de', '3211581957_df2f7e2236', '494221578_027f51cdf4', '3412450683_7da035f2de', '3231751379_10ebf7150c', '3498354674_b636c7992f', '427167162_2c99779444', '2245916742_73af13c733', '3519942322_b37d088aae', '3692836015_d11180727b', '2245914678_1f82fc3d80', '1363924449_487f0733df', '1784309115_0ad6791146', '2881087519_ca0aa79b2b', '3713133789_f05e8daffd', '2729147877_c3ec3445bf', '3265964840_5374ed9c53', '3672106148_56cfb5fc8d', '2131762850_5293a288d9', '2832978253_8fcc72da3b', '2695961935_a2a6338f26', '3684680947_f1c460242f', '964197865_0133acaeb4', '3296124052_6f1d1c9f8d', '488549693_a1f51d8c4a', '3415228562_4efa9c9b70', '3562903245_85071bb5f9', '432496659_f01464d9fb', '2810333931_47fd8dd340', '3042488474_0d2ec81eb8', '3380364224_2626d9d354', '403678611_73978faed7', '141140165_9002a04f19', '406642021_9ec852eccf', '3721812313_6000566803', '3108544687_c7115823f5', '244368383_e90b6b2f20', '335588286_f67ed8c9f9', '2785108434_cd4a1c949c', '3454621502_73af6742fb', '3072611047_109bf8b7c3', '241347271_a39a5a0070', '1574401950_6bedc0d29b', '2780105274_52360c4cca', '2853407781_c9fea8eef4', '2970067128_8842ab3603', '2462153092_e3f4d8f6a2', '1463732130_a754441289', '3351586010_7ffaa90ea8', '417966898_a04f9b5349', '268365231_a0acecdc45', '2404488732_ca1bbdacc2', '3108378861_d2214d971e', '3025315215_a5d367971a', '2842032768_9d9ce04385', '3718007650_e5930b4509', '343662720_39e4067cd1', '3015368588_ef0a06076d', '3654869593_c8599a8e20', '3422146099_35ffc8680e', '2290589734_b588471345', '109202756_b97fcdc62c', '2271955077_0020b4ee0d', '3013469764_30e84e9a0d', '708860480_1a956ae0f7', '3176277818_235486a3cd', '2792212974_23b1ef05fa', '3186527735_6e9fe2cf88', '1787222774_d5c68cce53', '3066491113_86569e15be', '3425573919_409d9e15b2', '495014499_8fd065cfd9', '342872408_04a2832a1b', '469029994_349e138606', '431410325_f4916b5460', '667626_18933d713e', '3518755601_cebf11e515', '562928217_21f967a807', '325576658_59f68bdbd6', '2460799229_ce45a1d940', '2930318834_8366811283', '1521623639_4bda3407cc', '2567035103_3511020c8f', '130211457_be3f6b335d', '3259757648_71edb4347b', '3717309680_e5105afa6d', '334768700_51c439b9ee', '3259992638_0612a40288', '2098418613_85a0c9afea', '3341077091_7ca0833373', '2472250097_a3191a94b3', '769260947_02bc973d76', '2629294578_853a08bb43', '2271264741_aa8f73f87c', '2552949275_b8cdc450cc', '2684323357_c7a6d05d05', '2891185857_54942809cf', '489134459_1b3f46fc03', '3017220118_6a9212dfdb', '2286239223_d84ffc4e4a', '3532539748_795d16ef07', '475816542_f5c2736815', '2600442766_e750ec9a56', '1771490732_0ab5f029ac', '3155365418_43df5486f9', '2411824767_4eb1fae823', '405961988_fcfe97f31e', '2286235203_af3cd8f243', '3673032164_6c6843de87', '945509052_740bb19bc3', '380041023_0dfd712ef1', '3230132205_dccfafa5ee', '2672445419_251ce9419a', '3432656291_a6c7981f6e', '2780031669_a0345cfc26', '1115565519_d976d4b1f1', '2891961886_b7a2f0b0fd', '1600208439_e94527b80f', '3362805914_72f60ee8cb', '3229898555_16877f5180', '2995461857_dd26188dcf', '2938316391_97382d14aa', '2275029674_6d4891c20e', '827941668_2e4ac6cb39', '3511062827_cd87871c67', '2562347802_c049a2ba88', '2219959872_988e6d498e', '235074044_c1358888ed', '3072782873_3278f3b3a7', '3380072636_4cd59385fd', '2267923837_ae88678497', '2114355355_9d7e2d8178', '3425071001_e7c9809ef2', '2913818905_8e4d9aa82a', '3091382602_60b9b53ed1', '2974587819_742fb7c338', '2252123185_487f21e336', '2403078014_4b1d6f8bde', '2863848437_f2592ab42d', '3248220732_0f173fc197', '733964952_69f011a6c4', '3090600019_8808fe7a9d', '3569420080_72fbe84751', '2670560883_7e7b563092', '2113530024_5bc6a90e42', '3280173193_98c2d6a223', '2110898123_07729c1461', '210625425_fb1ef5d23b', '2396746868_0727e06983', '3652859271_908ae0ae89', '1994416869_4dd769a806', '3116379964_86986750af', '269361490_a22ae818bf', '2062607137_dac194ad02', '108899015_bf36131a57', '3431101934_99a6c55914', '3104182973_5bb1c31275', '3699763582_f28c5130dd', '3431261634_c73360406a', '2959941749_fa99097463', '2291511815_ac083fddbd', '2504991916_dc61e59e49', '2609900643_c07bcb0bae', '2877511986_c965ced502', '3282897060_8c584e2ce8', '2044063458_fcc76a7636', '753285176_f21a2b984d', '236518934_c62a133077', '3004359992_f6b3617706', '340425915_490293058f', '2710698257_2e4ca8dd44', '515702827_be3c6ce857', '532396029_ce125bda3f', '156967462_72db9b722c', '3268908792_c24529fe88', '3286620180_4b00e93e8e', '495340319_705f2e63d6', '2313822078_282dc07531', '3227140905_1d7e30e4c4', '3568605391_54ec367d88', '1167662968_e466f1e80a', '3348191949_b0b925e5f1', '111537217_082a4ba060', '3666169738_a8c74cf745', '3148286846_40ae914172', '2322593776_e6aaf69e80', '2694890967_7c7a89de16', '2752331711_cb18abba5a', '3391924827_53b31542ce', '3380407617_07b53cbcce', '2923497185_c64004ff2d', '3181328245_7c04ce1691', '566446626_9793890f95', '3127888173_9a9a8ac3bd', '186890601_8a6b0f1769', '856985136_649c0a3881', '374828031_9d087da5cf', '247691240_3881777ab8', '2164363131_6930455d45', '3208571574_6dc1a461c5', '2695085448_a11833df95', '1262454669_f1caafec2d', '3505657604_8899161734', '496606439_9333831e73', '691770760_48ce80a674', '2873252292_ebf23f5f10', '207275121_ee4dfa0bf2', '2904601886_39e9d317b1', '2618322793_5fb164d86a', '3527715826_ea5b4e8de4', '440737340_5af34ca9cf', '3408274796_0dc62225e9', '2521062020_f8b983e4b2', '2199200615_85e4c2a602', '1800601130_1c0f248d12', '307321761_606fc91673', '3351704877_28dea303aa', '392976422_c8d0514bc3', '3347500603_13670ee6bf', '3267644370_f2728d6c7a', '2979914158_5906470b8f', '3549997413_01388dece0', '241347067_e58d05dbdc', '403523132_73b9a1a4b3', '2890731828_8a7032503a', '2195419145_36722e8d54', '3471463779_64084b686c', '2444935470_7b0226b756', '2280354512_c0d035d53f', '374567836_3ae12ecffb', '3388836914_c267cf3a59', '185057637_e8ada37343', '3697378565_7060d9281a', '2281006675_fde04e93dd', '3632047678_f202609e50', '256958382_b9006bfc5b', '3332136681_9aecf101fd', '2000459828_3c9e109106', '177302997_5b2d770a0a', '207731022_988f6afb35', '1683444418_815f660379', '291952021_f111b0fb3d', '512031915_0dd03dcdf9', '2407091303_931c918490', '3118505332_b0792489b5', '3099694681_19a72c8bdc', '3240090389_97a8c5d386', '278002800_3817135105', '3052038928_9f53aa2084', '2891240104_6755281868', '3189941492_a3f4347b1a', '482882719_165722082d', '299572828_4b38b80d16', '2565237642_bdd46d7cef', '3708743823_3e3e0554d1', '95728660_d47de66544', '1337792872_d01a390b33', '366548880_3d3e914746', '2572101672_4d699c8713', '2704362232_7d84503433', '3650111717_346804ec2f', '2318659263_c24005a5cb', '224273695_0b517bd0eb', '3354414391_a3908bd4ff', '2052702658_da1204f6d1', '2755053974_5cc157512e', '2206600240_f65df56a09', '3442622076_c3abe955e5', '3728256505_7f8db8270d', '2410399168_1462c422d4', '3603064161_a8f3b6455d', '2198964806_c57b0534d3', '2863349041_5eba6e3e21', '2490179961_e842fda5eb', '2053441349_a98b5fc742', '2886533440_dfa832f2fa', '3596959859_a7cb1e194b', '3298199743_d8dd8f94a0', '1383840121_c092110917', '2892989340_bb7e0e5548', '1149179852_acad4d7300', '3118534315_cc03e5ddab', '2760716468_b541e9fd0f', '3615730936_23457575e9', '3364160101_c5e6c52b25', '617038406_4092ee91dd', '3671935691_57bdd0e778', '3512033659_7e8a0c2ffa', '3293751136_b0ce285dc3', '1390268323_2c8204e91c', '707972553_36816e53a2', '3510219078_670b6b3157', '269986132_91b71e8aaa', '373219198_149af371d9', '3319489465_c65c91e4f2', '3534512991_f9fd66f165', '2935649082_1ca60180c6', '3040575300_0e4328d205', '3117562746_62f57a02b5', '3653764864_225958c9c1', '2737729252_b3fd9c05b1', '461019788_bc0993dabd', '2949880800_ca9a1bb7e6', '430803349_a66c91f64e', '3648097366_706c8a57a1', '3396043950_12783c5147', '271660510_dd4ba34b35', '3443326696_fe0549c5be', '2496399593_a24954a5ca', '1689658980_0074d81d28', '2528521798_fb689eba8d', '3562001359_65c63aeda3', '3030962048_f71948226c', '3482237861_605b4f0fd9', '429283612_37f6e7fb7f', '2920305300_a5b1b2329a', '3550459890_161f436c8d', '3228960484_9aab98b91a', '532914728_c5d8d56b0b', '3481884992_45770ec698', '3678098428_40c1b74cc2', '2616284322_b13e7c344e', '3074617663_2f2634081d', '3273625566_2454f1556b', '3558796959_fc4450be56', '241345323_f53eb5eec4', '1330645772_24f831ff8f', '3685372942_6ae935b34e', '3315250232_83e24a2d51', '265223843_9ef21e1872', '3709030554_02301229ea', '2245348304_08bc5642f1', '487074671_66db20bf47', '1388346434_524d0b6dfa', '3355756569_b430a29c2a', '1424237335_b3be9920ba', '3195969533_98f5de0fab', '866841633_05d273b96d', '2376878930_dd3e7cc544', '3368207495_1e2dbd6d3f', '1433088025_bce2cb69f8', '1244485675_822e6efe60', '360723732_23199af4bf', '3339263085_6db9fd0981', '3276475986_66cd9cc7e4', '3354200211_35348e47d8', '322050103_145f7233c6', '2191453879_11dfe2ba3a', '2899089320_3e7f6bbaca', '2587846523_b177c9a3e3', '2586911841_41b7a48c91', '3242919570_39a05aa2ee', '1956678973_223cb1b847', '3120648767_812c72eabe', '2689358407_9932f1b20c', '1713248047_d03721456d', '241346885_f519ece460', '2969380952_9f1eb7f93b', '3618932839_acd7d2c2ea', '3613323772_d15cef66d1', '2951750234_a4741f708b', '437527058_189f2a7eef', '3438858409_136345fa07', '1107471216_4336c9b328', '3726168984_1fa2c8965b', '3535372414_4c51c86fc4', '3593222804_c187808ac3', '2545192257_142fe9e2de', '1163282319_b729b24c46', '141139674_246c0f90a1', '3325129757_7a1979ac11', '429205889_ff5a006311', '3331102049_bc65cf6198', '368954110_821ccf005c', '55470226_52ff517151', '3027009366_c8362521e8', '1015584366_dfcec3c85a', '3486154327_8be7c78569', '309430053_cc58bcc36a', '478754346_addb53893c', '516998046_1175674fcd', '760180310_3c6bd4fd1f', '3597921737_3fd1d0665b', '2328104318_5a43ca170c', '310213587_778fe8fb5b', '503090187_8758ab5680', '2045109977_b00ec93491', '3329254388_27017bab30', '374104006_7f32c8c5de', '3638178504_be1ff246bd', '3139118874_599b30b116', '1028205764_7e8df9a2ea', '2272967004_1531726d71', '131632409_4de0d4e710', '3305767464_d64a336f60', '1227655020_b11a1bb112', '3066429707_842e50b8f7', '309238565_2d5d8dc8bf', '3589052481_059e5e2c37', '3332202255_a30c522664', '3259579174_30a8a27058', '3315323307_bd148a8964', '3503544012_1771be9d3a', '3600909823_ce72c26e66', '2678612999_893ed671f8', '3465396606_5ba1574128', '321229104_3cbaf0f51c', '3712742641_641282803e', '3437693401_202afef348', '3457455611_94ee93929f', '2658009523_b49d611db8', '3518118675_5053b3f738', '448916362_17f3f1d0e1', '1884065356_c6c34b4568', '2635908229_b9fc90d3fb', '1389323170_d1c81d6b51', '575636303_b0b8fd4eee', '3472449219_eb927f05b8', '2325816912_b3bb41cdbb', '382090166_be2c2c63e1', '2196284168_76417efbec', '2448793019_5881c025f9', '1042590306_95dea0916c', '965444691_fe7e85bf0e', '1143373711_2e90b7b799', '380515798_c2abbf46b0', '1303727828_d1052ee341', '3329289652_e09b80e2f3', '3691592651_6e4e7f1da9', '687513087_413d4a3a3b', '2095007523_591f255708', '2081615901_13092cac56', '3423249426_02bedf9260', '2452238877_2340609c6e', '508432819_3d055f395d', '1316247213_1d2c726dd5', '3354063643_1d8814eb13', '3397228832_8ce5b1c26f', '2684322797_85406f571d', '2613209320_edf6a2b7e9', '3199895624_4f01798c6f', '2786299623_a3c48bd318', '2697909987_128f11d1b7', '3203872773_6c30f64be3', '2130203183_49bae96b96', '3333826465_9c84c1b3c6', '2946016853_ceca4f5a07', '3243020805_2bafc36c45', '661757041_61e131e913', '2021602343_03023e1fd1', '201682811_105241dee3', '1597319381_1e80d9e39c', '3323661814_1e8e1ae88c', '1500853305_0150615ce9', '3270273940_61ef506f05', '3189293145_35dea42679', '2562463210_d0dfd545ca', '1539166395_0cdc0accee', '2341254813_c53a5ef27a', '3466353172_deb128bbb0', '2246717855_c0c08fe5d2', '351876121_c7c0221928', '3138504165_c7ae396294', '241347114_6273736da8', '3050650135_23f9d9d2f8', '3465000218_c94e54e208', '1056873310_49c665eb22', '2156726763_034ecd2e39', '1387461595_2fe6925f73', '3336211088_4c294a870b', '3461677493_5bfb73038e', '2206403470_8c25aa3cf8', '516648762_0cff84ea97', '3132903412_b4780d0ccf', '241345721_3f3724a7fc', '3639363462_bcdb21de29', '3676432043_0ca418b861', '519061891_320061864e', '405051459_3b3a3ba5b3', '3518443604_6da641f07d', '3341782693_426bf7139b', '328916930_e4d4be1730', '2466171114_3fa51415a7', '1160441615_fe6b3c5277', '1464120327_d90279ca3a', '2813588204_69fe7deb14', '3448855727_f16dea7b03', '2463067409_78188c584c', '2622971954_59f192922d', '3105691757_817083b0a6', '3373870185_f79163fa51', '1287920676_d21a0b289b', '3490528249_6aae9b867b', '3577235421_69e4efb8d1', '3069216757_c419b3898e', '3651476768_2bae721a6b', '143552697_af27e9acf5', '1197800988_7fb0ca4888', '2802337003_56e555cd30', '2839890871_4b7c7dbd96', '2424398046_1a55c71376', '2286270205_16038dec5a', '241345770_9f8aa6723c', '2240539658_dea8db6e55', '3482668767_66004ce736', '255330891_86d65dfdbf', '2380464803_a64f05bfa9', '241345639_1556a883b1', '2801146217_03a0b59ccb', '3350260112_fcb47ff6b2', '3284460070_6805990149', '1406010299_5755339f08', '1460500597_866fa0c6f3', '2601008162_f00eeb5c14', '2858903676_6278f07ee3', '3177468217_56a9142e46', '616177206_0e16c33f6b', '2120469056_7a738413be', '3072730593_b7322d2e05', '3282121432_648dac8a29', '3033668641_5905f73990', '2611651553_61f859837e', '2305437797_e6c3460190', '3371266735_43150bce52', '1566117559_f5d98fbeb0', '3154293126_e52bd07524', '2607130765_97833d6ce1', '3501781809_88429e3b83', '3376972502_35e3e119cd', '426065353_e9a604a01f', '2998024845_1529c11694', '3640417354_b0b3e4aec9', '2493469969_11b6190615', '2887744223_029f2fd5fe', '3429641260_2f035c1813', '3443853670_6c79fcfcb2', '3419916411_72934edcdb', '3304484212_b950233c30', '3261493263_381a4c5cc7', '2830880811_d7f66dd2cf', '3270083123_fcc1208053', '2955985301_e4139bc772', '3710073758_ac2b217f29', '3336831820_5c5df4b033', '3174713468_e22fa7779e', '2733659177_d74a00995b', '1119463452_69d4eecd08', '439569646_c917f1bc78', '2680990587_eee6bd04fb', '2635400219_2e1a984fd3', '3649384501_f1e06c58c0', '161905204_247c6ca6de', '2701895972_8605c4e038', '3586239953_da4fb3f775', '847782643_57248bbdab', '289599470_cc665e2dfb', '1472653060_7427d2865a', '3036382555_30b7312cf3', '3717809376_f97611ab84', '3122773470_b622205948', '3359089834_263e529c71', '2326879311_555ebef188', '3404870997_7b0cd755de', '241346471_c756a8f139', '2851198725_37b6027625', '3084034954_fe5737197d', '457631171_12b1aee828', '3222496967_45d468ee66', '3631474374_e40764d153', '944788251_a0bcd4b960', '2321466753_5606a10721', '2970461648_fe14ba0359', '418796494_bdb441de42', '2702506716_17a7fb3ba4', '3459362347_c412ef9901', '253762507_9c3356c2f6', '3667822570_d39850e217', '279901198_e7a88c855a', '2872743471_30e0d1a90a', '488196964_49159f11fd', '2209496328_2a34fd201d', '121971540_0a986ee176', '937559727_ae2613cee5', '3164347907_2813f8ff0b', '3319586526_3994e9cd58', '3503624011_733d745d5a', '3047264032_14393ecea8', '3264678536_46601d25f0', '3728015645_b43a60258b', '3584829998_25e59fdef3', '3068735836_872fba3068', '3515451715_ac5ac04efa', '2652155912_8ba5426790', '2815745115_c8479d560c', '2867699650_e6ddb540de', '451081733_40218cec31', '2439154641_bbf985aa57', '3245250964_9d3e37111e', '3162289423_4ca8915d0c', '375384566_254c2362d4', '630476551_2ee7399f77', '2539933563_17ff0758c7', '1245022983_fb329886dd', '3154693053_cfcd05c226', '3088572348_264c47f78c', '142802798_962a4ec5ce', '3477977145_4df89d69a1', '3649916507_b88a3d2082', '482830610_13a0a6c924', '3088677667_4a8befb70e', '3518675890_2f65e23ff9', '2817847072_5eb3bc30ac', '504765160_b4b083b293', '3032790880_d216197d55', '3636247381_65ccf8f106', '3296150666_aae2f64348', '3566225740_375fc15dde', '3050264832_4215f2b398', '3528966521_2e871ff6a1', '3310551665_15b79ef4ea', '3033257301_e2c8a39b04', '3690348036_a01f243fb0', '1975531316_8b00eeaaf7', '2149968397_a7411729d1', '3563924606_5914392cd8', '428796930_476a3d6395', '3652584682_5b5c43e445', '3497234632_6ec740fc1e', '2928835996_88b9f9503d', '3515358125_9e1d796244', '3259992722_4c5e895734', '3134585858_a8c3493ca5', '3483140026_e14f64fdf5', '1957371533_62bc720bac', '2268109835_d6edbe1c2b', '2987096101_a41896187a', '3067885047_f69d90c35b', '2875528143_94d9480fdd', '3191805046_77c334b506', '171488318_fb26af58e2', '2809793070_1a3387cd6e', '444881000_bba92e585c', '2671602981_4edde92658', '838074897_9d6270b3cd', '3342822192_082f932ef2', '3517362674_0f5296de19', '2192411521_9c7e488c5e', '2633722629_5eeb649c09', '236476706_175081ce18', '2872963574_52ab5182cb', '2677614492_792023b928', '2521878609_146143708e', '2584957647_4f9235c150', '2285152690_3fb93f65f1', '559102835_472ff702b5', '3027850131_a7772e0ba0', '452345346_afe1248586', '3230101918_7d81cb0fc8', '1527513023_3d8152b379', '2728813605_cfc943e1ab', '3006094603_c5b32d2758', '2680619645_ab6645218d', '3324056835_84904fe2f8', '818340833_7b963c0ee3', '2088910854_c6f8d4f5f9', '536495604_b22bbc905a', '2896180326_88785fe078', '899810584_61e1578d3f', '3216762979_813c45a8ec', '2257099774_37d0d3aa9a', '439916996_1ddb9dc8e7', '263231469_e85c74f5fd', '2514581496_8f4102377e', '3436395540_63bc8f2fe0', '1231229740_8dcbf80bfb', '3055716848_b253324afc', '974924582_10bed89b8d', '3006217970_90b42e6b27', '2370221025_be4d9a4431', '241347803_afb04b12c4', '2986671935_0c60bbb3fa', '513269597_c38308feaf', '3133403457_95dfe11da1', '3689355450_fd559b816d', '3270047169_2ed289a9af', '2957071266_1b40ec7d96', '3399798295_a452963365', '2424976964_98f58a0618', '458213442_12c59e61a0', '2521213787_ca9b5a1758', '464527562_a18f095225', '256444892_efcb3bd824', '1452361926_6d8c535e32', '3360994630_d4616c1b14', '3172384527_b107385a20', '314603661_51e05e0e24', '3341489212_a879e1544a', '3637013_c675de7705', '3361210233_962d630ec5', '3049770416_0fb1954315', '3405100926_e96308ce89', '523692399_d2e261a302', '2609836649_b55831ed41', '618292739_0fdc2ccab0', '522486784_978021d537', '3596428453_8cfdec4869', '3102363657_dc95fe6850', '852469220_bc0fee3623', '1105959054_9c3a738096', '3042679440_010b2c596c', '2555535057_007501dae5', '2491343114_a3e35a2a3a', '58363930_0544844edd', '312427606_defa0dfaa8', '3372340429_91c4f4af30', '3207654194_43d6bebd68', '3637966641_1b108a35ba', '2816259113_461f8dedb0', '2347921097_f2e35753c0', '492341908_1ef53be265', '369244499_752f0c1018', '3632197966_0c5061025f', '3109268897_d43797fc6a', '1461329041_c623b06e5b', '3120953244_b00b152246', '1067675215_7336a694d6', '3126724531_f483e1b92a', '2399114095_c3196ff456', '2760715910_87c7bdeb87', '3295024992_887a95c700', '3197482764_2f289cb726', '3465473743_7da0c5d973', '3278189732_f750cb26b7', '377872672_d499aae449', '2017276266_566656c59d', '1517807181_ca6588f2a0', '230016181_0c52b95304', '3174196837_800689a2f3', '1803631090_05e07cc159', '405331006_4e94e07698', '379006645_b9a2886b51', '2535746605_8124bf4e4f', '3323514651_3efdbd63ed', '3307147971_5b3abf61f9', '2640000969_b5404a5143', '3103340819_46de7954a9', '2591110592_ef5f54f91c', '2538477523_1da77eb11c', '2447289477_e888df561d', '2244613488_4d1f9edb33', '489065557_0eb08889cd', '1465666502_de289b3b9c', '495054019_3dee8a02f5', '3477712686_8428614c75', '2968693931_52d161b8e7', '86542183_5e312ae4d4', '374103966_2987706be1', '1470132731_fa416b7504', '2432709509_2a4d0c833f', '2198494923_8159551be4', '3506096155_13632955e8', '3486135177_772628d034', '3339105374_cc41e0b7d7', '3532412342_e0a004b404', '3535084928_858544f49a', '406248253_27b5eba25a', '2112661738_de71b60b88', '887108308_2da97f15ef', '3264937930_9623496b64', '3395173129_f0ac0a1ed4', '399212516_d68046b277', '3259883609_6a1b46919e', '3307077951_dd31f1971c', '3138433655_ea1d59e5b7', '3457210101_3533edebc8', '3317145805_071b15debb', '211981411_e88b8043c2', '3682428916_69ce66d375', '3345025842_bc2082a509', '241345533_99c731403a', '3415003392_139c0f3586', '3472703856_568d9778b5', '1821238649_2fda79d6d7', '582788646_dc40748639', '2196050115_e236d91f52', '495055747_a75872762a', '2165459064_5b81ff23eb', '3053916979_848d32261b', '3159424456_f316bdc1d5', '3308997740_91765ecdcc', '2757779501_c41c86a595', '3187096035_65dc416291', '2926786902_815a99a154', '3553056438_4e611a7a2a', '2480832276_fa55480ecb', '3454754632_977c1523be', '1931690777_897a7d8ab6', '3658016590_f761e72dc3', '3356700488_183566145b', '3016651969_746bd36e68', '1384292980_4022a7520c', '2414390475_28a0107bb0', '2595102568_347f6d4b07', '2866974237_e3c1e267c0'])"
            ]
          },
          "metadata": {},
          "execution_count": 49
        }
      ]
    },
    {
      "cell_type": "code",
      "source": [
        "train_descriptions"
      ],
      "metadata": {
        "colab": {
          "base_uri": "https://localhost:8080/"
        },
        "id": "H9eDky0w_AWV",
        "outputId": "300bcfa1-e71f-4257-891b-405b99359e5c"
      },
      "execution_count": null,
      "outputs": [
        {
          "output_type": "execute_result",
          "data": {
            "text/plain": [
              "{'1000268201_693b08cb0e': ['startseq child in pink dress is climbing up set of stairs in an entry way endseq'],\n",
              " '1001773457_577c3a7d70': ['startseq black dog and spotted dog are fighting endseq'],\n",
              " '1002674143_1b742ab4b8': ['startseq little girl covered in paint sits in front of painted rainbow with her hands in bowl endseq'],\n",
              " '1003163366_44323f5815': ['startseq man lays on bench while his dog sits by him endseq'],\n",
              " '1007129816_e794419615': ['startseq man in an orange hat starring at something endseq'],\n",
              " '1007320043_627395c3d8': ['startseq child playing on rope net endseq'],\n",
              " '1009434119_febe49276a': ['startseq black and white dog is running in grassy garden surrounded by white fence endseq'],\n",
              " '1012212859_01547e3f17': ['startseq dog shakes its head near the shore red ball next to it endseq'],\n",
              " '1015118661_980735411b': ['startseq boy smiles in front of stony wall in city endseq'],\n",
              " '1015584366_dfcec3c85a': ['startseq black dog leaps over log endseq'],\n",
              " '101654506_8eb26cfb60': ['startseq brown and white dog is running through the snow endseq'],\n",
              " '101669240_b2d3e7f17b': ['startseq man in hat is displaying pictures next to skier in blue hat endseq'],\n",
              " '1016887272_03199f49c4': ['startseq collage of one person climbing cliff endseq'],\n",
              " '1019077836_6fc9b15408': ['startseq brown dog chases the water from sprinkler on lawn endseq'],\n",
              " '1019604187_d087bf9a5f': ['startseq dog prepares to catch thrown object in field with nearby cars endseq'],\n",
              " '1020651753_06077ec457': ['startseq black and white dog jumping in the air to get toy endseq'],\n",
              " '1022454428_b6b660a67b': ['startseq couple and an infant being held by the male sitting next to pond with near by stroller endseq'],\n",
              " '1022975728_75515238d8': ['startseq black dog running in the surf endseq'],\n",
              " '102351840_323e3de834': ['startseq man drilling hole in the ice endseq'],\n",
              " '1024138940_f1fefbdce1': ['startseq different breeds of brown and white dogs play on the beach endseq'],\n",
              " '102455176_5f8ead62d5': ['startseq man uses ice picks and crampons to scale ice endseq'],\n",
              " '1026685415_0431cbf574': ['startseq black dog carries green toy in his mouth as he walks through the grass endseq'],\n",
              " '1028205764_7e8df9a2ea': ['startseq man and baby are in yellow kayak on water endseq'],\n",
              " '1030985833_b0902ea560': ['startseq black dog and brown dog are jumping up to catch red toy endseq'],\n",
              " '103195344_5d2dc613a3': ['startseq man in black is sitting next to modern art structure in front of glass building endseq'],\n",
              " '103205630_682ca7285b': ['startseq tent is being set up on the ice endseq'],\n",
              " '1032460886_4a598ed535': ['startseq man is standing in front of skyscraper endseq'],\n",
              " '104136873_5b5d41be75': ['startseq sit on the mountainside and check out the view endseq'],\n",
              " '1042020065_fb3d3ba5ba': ['startseq boy in green shirt is looking down at many inflatable boats endseq'],\n",
              " '1042590306_95dea0916c': ['startseq man and woman pose for the camera while another man looks on endseq'],\n",
              " '1048710776_bb5b0a5c7c': ['startseq couple of several people sitting on ledge overlooking the beach endseq'],\n",
              " '1052358063_eae6744153': ['startseq boy takes jump on his skateboard while another boy with skateboard watches endseq'],\n",
              " '105342180_4d4a40b47f': ['startseq girl paddling down large river as seen from behind her endseq'],\n",
              " '1053804096_ad278b25f1': ['startseq girl in pigtails splashes in the shallow water endseq'],\n",
              " '1055623002_8195a43714': ['startseq group of four children wearing pajamas have pillow fight endseq'],\n",
              " '1055753357_4fa3d8d693': ['startseq constructions workers sit on beam taking break endseq'],\n",
              " '1056359656_662cee0814': ['startseq little girl looking at brochure on train rides endseq'],\n",
              " '1056873310_49c665eb22': ['startseq brown dog is running after black dog on rocky shore endseq'],\n",
              " '1057089366_ca83da0877': ['startseq boy descends off the end of high diving board endseq'],\n",
              " '1057210460_09c6f4c6c1': ['startseq guy stands by window taking his overshirt off endseq'],\n",
              " '1057251835_6ded4ada9c': ['startseq lightcolored dog runs on the beach endseq'],\n",
              " '106514190_bae200f463': ['startseq hiker standing high on bluff overlooking the mountains below endseq'],\n",
              " '1067180831_a59dc64344': ['startseq black and white dog is attempting to catch yellow and purple object in low cut yard endseq'],\n",
              " '1067675215_7336a694d6': ['startseq man in blue shorts is laying in the street endseq'],\n",
              " '1067790824_f3cc97239b': ['startseq white and black dog and brown dog in sandy terrain endseq'],\n",
              " '1072153132_53d2bb1b60': ['startseq black and white dog catches toy in midair endseq'],\n",
              " '107318069_e9f2ef32de': ['startseq crowd watching air balloons at night endseq'],\n",
              " '1075716537_62105738b4': ['startseq child with helmet on his head rides bike endseq'],\n",
              " '1075867198_27ca2e7efe': ['startseq man in brown shirt and dark shorts plays on the beach with his two black dogs endseq'],\n",
              " '1075881101_d55c46bece': ['startseq boy cleans the bubbles off his face endseq'],\n",
              " '1079274291_9aaf896cc1': ['startseq little boy sticks his tongue out for the camera another boy looks on endseq'],\n",
              " '10815824_2997e03d76': ['startseq blonde horse and blonde girl in black sweatshirt are staring at fire in barrel endseq'],\n",
              " '1082252566_8c79beef93': ['startseq bulldog sheep dog and boxer standing in yard endseq'],\n",
              " '1084104085_3b06223afe': ['startseq woman in yellow shirt and green shorts is climbing an artificial red wall whilst wearing safety harness endseq'],\n",
              " '1087168168_70280d024a': ['startseq boy is jumping on an inflatable ring and girl is watching him endseq'],\n",
              " '108898978_7713be88fc': ['startseq walking up the hill through forest endseq'],\n",
              " '108899015_bf36131a57': ['startseq lone skier is making their way up mountain endseq'],\n",
              " '1089181217_ee1167f7af': ['startseq brown dog running down paved pathway endseq'],\n",
              " '109202756_b97fcdc62c': ['startseq woman dressed in blue jacket and blue jeans rides brown horse near frozen lake and snowcovered mountain endseq'],\n",
              " '109202801_c6381eef15': ['startseq draft horses pull cart through the snow endseq'],\n",
              " '109260216_85b0be5378': ['startseq person climbing down sheer rock cliff using rope endseq'],\n",
              " '109260218_fca831f933': ['startseq stand inside rock dome endseq'],\n",
              " '1093716555_801aacef79': ['startseq group of backpackers lay on the dry ground endseq'],\n",
              " '1093737381_b313cd49ff': ['startseq woman in blue dress stands with chalk portrait of two children playing by stream endseq'],\n",
              " '1094462889_f9966dafa6': ['startseq brown dog plays in deep pile of snow endseq'],\n",
              " '1095476286_87d4f8664e': ['startseq boy jumping in fountain endseq'],\n",
              " '1095580424_76f0aa8a3e': ['startseq corgi runs out of tunnel endseq'],\n",
              " '1095590286_c654f7e5a9': ['startseq blond dog and black and white dog run in dirt field endseq'],\n",
              " '1095980313_3c94799968': ['startseq little girl in blue swimsuit is walking along wooden fence next to sandy beach endseq'],\n",
              " '1096097967_ac305887b4': ['startseq black and white dog drinking water from water spray endseq'],\n",
              " '1096165011_cc5eb16aa6': ['startseq boy smiles underwater endseq'],\n",
              " '109671650_f7bbc297fa': ['startseq boy in yellow shorts is standing on top of cliff endseq'],\n",
              " '109738763_90541ef30d': ['startseq person on snowmobile in mid jump endseq'],\n",
              " '109738916_236dc456ac': ['startseq are riding around on snowmobiles endseq'],\n",
              " '109823394_83fcb735e1': ['startseq people drive atvs endseq'],\n",
              " '109823395_6fb423a90f': ['startseq four wheeler jumping in an empty field endseq'],\n",
              " '109823397_e35154645f': ['startseq man jumps gin the air while riding an atv endseq'],\n",
              " '1104133405_c04a00707f': ['startseq boy carrying soccer ball endseq'],\n",
              " '1105959054_9c3a738096': ['startseq child painting picture endseq'],\n",
              " '110595925_f3395c8bd6': ['startseq cyclist is riding bicycle on curved road up hill endseq'],\n",
              " '1107471216_4336c9b328': ['startseq little girl is holding cine camera in front of her face endseq'],\n",
              " '1110208841_5bb6806afe': ['startseq black and white border collie catches frisbee in front of an audience endseq'],\n",
              " '1112212364_0c48235fc2': ['startseq baby is sitting on and playing with smooth rocks endseq'],\n",
              " '111537217_082a4ba060': ['startseq man climbing rock wall endseq'],\n",
              " '111537222_07e56d5a30': ['startseq climber wearing blue helmet and headlamp is attached to rope on the rock face endseq'],\n",
              " '1115565519_d976d4b1f1': ['startseq child playing with fountain at the beach endseq'],\n",
              " '1115679311_245eff2f4b': ['startseq black dog is jumping over log along beach endseq'],\n",
              " '111766423_4522d36e56': ['startseq black and white bird eating seeds out of someone hand endseq'],\n",
              " '1117972841_2b9261f95f': ['startseq brown dog is running in the sand endseq'],\n",
              " '1118557877_736f339752': ['startseq little boy stands in the surf endseq'],\n",
              " '1119418776_58e4b93eac': ['startseq black and white dog is running through the field endseq'],\n",
              " '1119463452_69d4eecd08': ['startseq girl in pink swimsuit in pool endseq'],\n",
              " '1121416483_c7902d0d49': ['startseq child is standing on her head endseq'],\n",
              " '112178718_87270d9b4d': ['startseq guy stands in the sand with snowboard behind him endseq'],\n",
              " '112243673_fd68255217': ['startseq on atvs and dirt bikes are traveling along worn path in field surrounded by trees endseq'],\n",
              " '1124448967_2221af8dc5': ['startseq half naked man is sleeping on his chair outdoors endseq'],\n",
              " '1129704496_4a61441f2c': ['startseq brown and white and black and white dog hauling in floating toy from the ocean endseq'],\n",
              " '1130017585_1a219257ac': ['startseq are three young people one dark haired holding bottled drink one with head tilted back and finger in her mouth and one with spiked hair endseq'],\n",
              " '1130401779_8c30182e3e': ['startseq brown dogs are creating large splashes as they run in river endseq'],\n",
              " '1131340021_83f46b150a': ['startseq young boy runs while wearing sandals endseq'],\n",
              " '1131804997_177c3c0640': ['startseq men are sitting on the ground and going through their backpacks endseq'],\n",
              " '1132772170_600610c5df': ['startseq child leaping from bed to bed behind the back of man endseq'],\n",
              " '1141718391_24164bf1b1': ['startseq bridge through high green plants man and woman on it endseq'],\n",
              " '1141739219_2c47195e4c': ['startseq family gathered at painted van endseq'],\n",
              " '1142283988_6b227c5231': ['startseq blond woman poses with person in pink costume endseq'],\n",
              " '1142847777_2a0c1c2551': ['startseq bicyclist riding on city street endseq'],\n",
              " '1143373711_2e90b7b799': ['startseq bicycle rider is crossing street endseq'],\n",
              " '1143882946_1898d2eeb9': ['startseq lady wearing helmet holding bike endseq'],\n",
              " '1144288288_e5c9558b6a': ['startseq man in shorts is jogging along street with headset endseq'],\n",
              " '1148238960_f8cacec2fc': ['startseq are standing at an intersection endseq'],\n",
              " '1149179852_acad4d7300': ['startseq man without shirt on is guiding large brown horse pulling green and yellow wagon endseq'],\n",
              " '114949897_490ca7eaec': ['startseq boy hits ball off of tee ball into to net endseq'],\n",
              " '1151466868_3bc4d9580b': ['startseq small girl spins in the waves in the bright sun endseq'],\n",
              " '1153704539_542f7aa3a5': ['startseq girl playing trumpet in marching band endseq'],\n",
              " '1159574340_99ba8c3c59': ['startseq child jumping into lake in wooded area while another child plays on the shore endseq'],\n",
              " '1160034462_16b38174fe': ['startseq elderly man in straw hat is sitting on bench endseq'],\n",
              " '1160441615_fe6b3c5277': ['startseq girls are walking across bridge covered with wood and surrounded by trees endseq'],\n",
              " '1163282319_b729b24c46': ['startseq girl dressed in red top red cap and light colored shorts sits on rock outside endseq'],\n",
              " '116409198_0fe0c94f3b': ['startseq man eats near tent in the snow endseq'],\n",
              " '1164765687_7aca07bbe7': ['startseq man in red shirt and glasses is bending down towards small dog on blanket with several stuffed animals endseq'],\n",
              " '1167662968_e466f1e80a': ['startseq guy with nose piercing endseq'],\n",
              " '1167908324_8caab45e15': ['startseq man is standing by group of video games in bar endseq'],\n",
              " '1169307342_e7a4685a5c': ['startseq big brown dog plays with smaller grey dog on the grass endseq'],\n",
              " '1176580356_9810d877bf': ['startseq big dog catches ball on his nose endseq'],\n",
              " '118187095_d422383c81': ['startseq are pushing little children in red car carts endseq'],\n",
              " '118309463_a532b75be9': ['startseq boys baseball team wear their uniforms endseq'],\n",
              " '1184967930_9e29ce380d': ['startseq brown dog running through the grass and flowers endseq'],\n",
              " '1187435567_18173c148b': ['startseq small brown and black dog endseq'],\n",
              " '1187593464_ce862352c6': ['startseq big tan dog runs on grass with big stick in his mouth endseq'],\n",
              " '1189977786_4f5aaed773': ['startseq dog jumping into swimming pool endseq'],\n",
              " '1191338263_a4fa073154': ['startseq little old lady sitting next to an advertisement endseq'],\n",
              " '1193116658_c0161c35b5': ['startseq girl rides unicycle as another rides scooter next to her endseq'],\n",
              " '119534510_d52b3781a3': ['startseq man in brown shirt sitting on dock and reading endseq'],\n",
              " '1197800988_7fb0ca4888': ['startseq person sits at table behind tree endseq'],\n",
              " '1198194316_543cc7b945': ['startseq couple walking along on sidewalk endseq'],\n",
              " '1204996216_71d7519d9a': ['startseq boy lays on picnic table bench endseq'],\n",
              " '1206506157_c7956accd5': ['startseq fight in grass over toy endseq'],\n",
              " '1207159468_425b902bfb': ['startseq boy and person suspended above dome structure endseq'],\n",
              " '1211015912_9f3ee3a995': ['startseq girl in brown dress surrounded by children closes her eyes endseq'],\n",
              " '1213336750_2269b51397': ['startseq man in black jacket is taking photo of man in red jacket endseq'],\n",
              " '121800200_bef08fae5f': ['startseq group of climbers begin up sheer rock face endseq'],\n",
              " '121971540_0a986ee176': ['startseq men cleaning the outside windows of yacht endseq'],\n",
              " '1222322358_225067636e': ['startseq boy in red and white shirt is on swing endseq'],\n",
              " '1225443522_1633e7121f': ['startseq girl walking alone at night on street endseq'],\n",
              " '1227655020_b11a1bb112': ['startseq black dog and brown dog playing in tall weeds endseq'],\n",
              " '1229756013_94663527d7': ['startseq brown dog jumping in the air on brown plain endseq'],\n",
              " '1231229740_8dcbf80bfb': ['startseq child in gray clothes is sleeping on red cushion endseq'],\n",
              " '1234293791_6566284bcd': ['startseq girl in helmet rides horse endseq'],\n",
              " '1234817607_924893f6e1': ['startseq korean man sells soda endseq'],\n",
              " '1235580648_7eebaed9bc': ['startseq hatted males pose for picture endseq'],\n",
              " '1235681222_819231767a': ['startseq person in blue shirt sits behind two people sitting on wood bench endseq'],\n",
              " '1235685934_be89b231fb': ['startseq man in sunglasses on an overpass endseq'],\n",
              " '1236951314_0308dc4138': ['startseq boy in wetsuit jumps into pool with bald man endseq'],\n",
              " '1236964638_1808784a3c': ['startseq boy flips off diving board into pool endseq'],\n",
              " '123889082_d3751e0350': ['startseq brown dog biting gray dogs ear endseq'],\n",
              " '1240297429_c36ae0c58f': ['startseq dog in number six jersey is running through field endseq'],\n",
              " '124195430_d14028660f': ['startseq brown horse and black foal on the beach endseq'],\n",
              " '1244140539_da4804d828': ['startseq black and brown dog is laying on white shaggy carpet endseq'],\n",
              " '1244306891_8e78ae1620': ['startseq girls in bathing suits sitting on the sand endseq'],\n",
              " '1244485675_822e6efe60': ['startseq boy in grey and white shirt looking at his reflection endseq'],\n",
              " '1245022983_fb329886dd': ['startseq child in all pink is posing nearby stroller with buildings in the distance endseq'],\n",
              " '1247181182_35cabd76f3': ['startseq man sits on rock endseq'],\n",
              " '1248734482_3038218f3b': ['startseq closeup of young girl with pink shirt laying on grass endseq'],\n",
              " '124881487_36e668145d': ['startseq man on bicycle riding down rocky hill endseq'],\n",
              " '1248953128_24c9f8d924': ['startseq little girl in colorful dress is playing with blue and red soccer ball endseq'],\n",
              " '1251558317_4ef844b775': ['startseq adult and child sitting on police motorcycle endseq'],\n",
              " '1252396628_eb81d3905b': ['startseq man in red biker suit on red dirt bike going down muddy road endseq'],\n",
              " '1252787177_4b08625897': ['startseq walk by display of underwear hanging in stall endseq'],\n",
              " '125319704_49ead3463c': ['startseq standing beside bike in stream endseq'],\n",
              " '1253264731_e7c689eca5': ['startseq girl in coral shirt with glasses is smiling while leaning against fence endseq'],\n",
              " '1253275679_e955fb7304': ['startseq boy has his head down and is wearing shirt that says adhd endseq'],\n",
              " '1255504166_f2437febcb': ['startseq boy playing in lake endseq'],\n",
              " '1259936608_e3f0064f23': ['startseq little girl with arms outstretched plays with others at sprinkler park endseq'],\n",
              " '1260816604_570fc35836': ['startseq person drives in red car endseq'],\n",
              " '1262077938_8b9516c273': ['startseq girl with black purse sitting on wooden bench endseq'],\n",
              " '1262454669_f1caafec2d': ['startseq girl in white shirt is sitting on park bench with dog next to her endseq'],\n",
              " '1263126002_881ebd7ac9': ['startseq baby girl is attempting to climb out of her green crib endseq'],\n",
              " '1263801010_5c74bf1715': ['startseq man in red jacket looking out over snowcovered mountains endseq'],\n",
              " '1269470943_ba7fc49b4d': ['startseq boy in blue with football sprawls in the grass endseq'],\n",
              " '1271210445_7f7ecf3791': ['startseq seated at table with candle covered with lit candles endseq'],\n",
              " '1271960365_e54033f883': ['startseq black dog runs after another black dog who is carrying ball endseq'],\n",
              " '1273001772_1585562051': ['startseq kids and few adults get splashed by an off camera source endseq'],\n",
              " '1277185009_06478dd457': ['startseq man standing on rocky mountain with gray clouds in the background endseq'],\n",
              " '1277743944_f4e8c78403': ['startseq boy dressed in khaki shorts and red shirt runs on beach with green white and blue structures and half moon behind him endseq'],\n",
              " '1280147517_98767ca3b3': ['startseq boat on lake endseq'],\n",
              " '1280320287_b2a4b9b7bd': ['startseq man is pulled behind boat on knee board while another doing the same begins to fall endseq'],\n",
              " '12830823_87d2654e31': ['startseq sit and watch the fish moving in the pond endseq'],\n",
              " '1285067106_2adc307240': ['startseq boy in white plays baseball endseq'],\n",
              " '1285874746_486731a954': ['startseq africanamerican woman stands in the crowd endseq'],\n",
              " '1286408831_05282582ed': ['startseq boy with his mouth open and tongue sticking out clinging to bar next to platform endseq'],\n",
              " '1287064529_aa4e4f3c31': ['startseq black and tan dog in the snow endseq'],\n",
              " '1287920676_d21a0b289b': ['startseq snow dog in red harness endseq'],\n",
              " '1287931016_fb015e2e10': ['startseq black and white dog on the snow endseq'],\n",
              " '1287982439_6578006e22': ['startseq big brown dog is jumping in the water and has his mouth wide open endseq'],\n",
              " '1288909046_d2b2b62607': ['startseq brown dog is leaping into garden swimming pool endseq'],\n",
              " '128912885_8350d277a4': ['startseq dog jumps for red ball on the grass endseq'],\n",
              " '1289142574_2bd6a082dd': ['startseq boy jumps from one picnic table to another endseq'],\n",
              " '1290894194_8a4ffdc7eb': ['startseq woman crouches down next to her terrier dog to smile at little girl sitting on the sidewalk endseq'],\n",
              " '1294578091_2ad02fea91': ['startseq female artist showing her painting and signing paper endseq'],\n",
              " '1295669416_21cabf594d': ['startseq girl dressed in red and black top with black pants is sitting on wall endseq'],\n",
              " '1295671216_cde1b9c9d1': ['startseq crowd of people are standing together on sidewalk while one man is taking picture endseq'],\n",
              " '129599450_cab4e77343': ['startseq backpacker in the mountains wearing an american flag endseq'],\n",
              " '1296412797_85b6d2f8d6': ['startseq child is being swung by her arms while another child watches endseq'],\n",
              " '1296770308_3db2022f5a': ['startseq girl sits on bar stool endseq'],\n",
              " '1298866571_b4c496b71c': ['startseq asian man gives an evil eye to the camera endseq'],\n",
              " '1299459550_1fd5594fa2': ['startseq boy in swimming trunks endseq'],\n",
              " '1299459562_ed0e064aee': ['startseq boys in baggy bathing suits play in splashing water in front of grey block wall endseq'],\n",
              " '1301140633_046e4e8010': ['startseq boy in blue shirt with dirt on his face endseq'],\n",
              " '130211457_be3f6b335d': ['startseq girl in red and black leotard with white writing is standing next to man in cap and girl in hot pink and black and white checkered outfit endseq'],\n",
              " '1302657647_46b36c0d66': ['startseq man hanging from bars outdoors endseq'],\n",
              " '1303335399_b3facd47ab': ['startseq baby boy wearing shoulder life saver is at the very edge of an orange pool slide endseq'],\n",
              " '1303550623_cb43ac044a': ['startseq girl in tank top and jean capris stands on railroad tracks endseq'],\n",
              " '1303727066_23d0f6ed43': ['startseq dark haired bearded man wearing turquoise shirt with yellow peace sign on it endseq'],\n",
              " '1303727828_d1052ee341': ['startseq man in feather hat looking down endseq'],\n",
              " '1304100320_c8990a1539': ['startseq two dogs are running through field of flowers endseq'],\n",
              " '1304961697_76b86b0c18': ['startseq children on surfboards wave to each other endseq'],\n",
              " '1305564994_00513f9a5b': ['startseq man in street racer armor is examining the tire of another racer motorbike endseq'],\n",
              " '1307635496_94442dc21a': ['startseq boy wearing black sandals runs along the grass endseq'],\n",
              " '1308472581_9961782889': ['startseq boy in blue shirt splashing in water under dock endseq'],\n",
              " '1308617539_54e1a3dfbe': ['startseq boy is jumping from body board into the ocean endseq'],\n",
              " '1309330801_aeeb23f1ee': ['startseq girl is doing handstand on an outdoor trampoline while another girl stands on the trampoline with one hand in the air endseq'],\n",
              " '1311132744_5ffd03f831': ['startseq black and grey dog runs in field with its tongue hanging out endseq'],\n",
              " '1312020846_5abb4a9be2': ['startseq little puppies chase each other on stone wall endseq'],\n",
              " '1312227131_771b5ed201': ['startseq running on cold but sunny morning endseq'],\n",
              " '1312954382_cf6d70d63a': ['startseq girl in green dress plays with hello kitty balloon endseq'],\n",
              " '1313693129_71d0b21c63': ['startseq boy and girl are standing on river bank facing the water endseq'],\n",
              " '1313961775_824b87d155': ['startseq girl floating wearing life vest endseq'],\n",
              " '1316247213_1d2c726dd5': ['startseq closeup of little girl laughing endseq'],\n",
              " '131632409_4de0d4e710': ['startseq girl in bikini walks along the beach with huge clouds and sandy beach behind her endseq'],\n",
              " '1321723162_9d4c78b8af': ['startseq little girl holding hands with her ice skating instructor endseq'],\n",
              " '1321949151_77b77b4617': ['startseq little boy and little girl are lying on black bench surrounded by adults endseq'],\n",
              " '1324816249_86600a6759': ['startseq brown dog stands in lush field with the stunning clouds and mountains behind it endseq'],\n",
              " '1330645772_24f831ff8f': ['startseq black and white dog is running in the grass endseq'],\n",
              " '133189853_811de6ab2a': ['startseq man wearing tuxedo shirt vest and bowtie is kissing another man wearing the same thing on the cheek endseq'],\n",
              " '1332208215_fa824f6659': ['startseq man in glasses and an asian woman are seated across from each other in subway train endseq'],\n",
              " '1332492622_8c66992b62': ['startseq group of people stand on balcony near colorful circus building endseq'],\n",
              " '1332815795_8eea44375e': ['startseq baby swings in swing near wooden fence endseq'],\n",
              " '1333888922_26f15c18c3': ['startseq brownhaired child in green shoes swings on swing in park near the woods endseq'],\n",
              " '1334892555_1beff092c3': ['startseq girls are playing with foam swords endseq'],\n",
              " '1335617803_4fbc03dab0': ['startseq two children make funny pose in front of some bushes endseq'],\n",
              " '1337792872_d01a390b33': ['startseq girls walks down the road holding teddy bear endseq'],\n",
              " '1338523142_57fce8229b': ['startseq backpacker walks down rocky mountain endseq'],\n",
              " '133905560_9d012b47f3': ['startseq puppy plays with an adult dog in the snow endseq'],\n",
              " '1341787777_4f1ebb1793': ['startseq brown dog is bending down trying to drink from jet of water endseq'],\n",
              " '1342766791_1e72f92455': ['startseq boy pushing another boy up pole endseq'],\n",
              " '1342780478_bacc32344d': ['startseq man in dress shirt and tie is standing in front of sign selling donuts endseq'],\n",
              " '1346529555_e916816cfe': ['startseq dog in midair cathing the red ball endseq'],\n",
              " '1347519824_e402241e4f': ['startseq few girls with green foam statue of liberty hats on train endseq'],\n",
              " '1348113612_5bfc5f429e': ['startseq black and white dog jumping into pool after tennis balls endseq'],\n",
              " '1348891916_ebd4413033': ['startseq brown dog on leash runs through the white water endseq'],\n",
              " '134894450_dadea45d65': ['startseq boy wearing no shirt and some blue jeans is jumping in the air in the woods endseq'],\n",
              " '1348947380_14f0fc1237': ['startseq man and dog stand on hill overlooking water endseq'],\n",
              " '1348957576_c4a78eb974': ['startseq blonde woman in white tank top and sunglasses is talking to man sitting next to boats on rock surface endseq'],\n",
              " '1350948838_fdebe4ff65': ['startseq black and white dog jumping into pool endseq'],\n",
              " '1351315701_6580b51c41': ['startseq black and white dog are running on the grass endseq'],\n",
              " '1351764581_4d4fb1b40f': ['startseq firefighter extinguishes fire under the hood of car endseq'],\n",
              " '1352398363_9cc8ffcce9': ['startseq boy is covered with marker endseq'],\n",
              " '1354318519_2f9baed754': ['startseq baby is laughing endseq'],\n",
              " '1355450069_c0675b0706': ['startseq man is climbing up wall endseq'],\n",
              " '1355703632_5683a4b6fb': ['startseq female softball player making pitch endseq'],\n",
              " '1355833561_9c43073eda': ['startseq child is being thrown in the air playfully endseq'],\n",
              " '1355945307_f9e01a9a05': ['startseq man drives an oldfashioned red race car endseq'],\n",
              " '1356543628_c13ebe38fb': ['startseq girl carries lot through the grass endseq'],\n",
              " '1357689954_72588dfdc4': ['startseq boy is attempting to rockclimb prefabricated wall endseq'],\n",
              " '1357724865_4faf4e1418': ['startseq halfdressed man walks into river at the bottom of small waterfall endseq'],\n",
              " '1357753846_6185e26040': ['startseq big black dog runs through the water near the shore endseq'],\n",
              " '1358089136_976e3d2e30': ['startseq boy sand surfing down hill endseq'],\n",
              " '1358892595_7a37c45788': ['startseq dog runs through the forest with something in its mouth endseq'],\n",
              " '1359101233_16c2c150e3': ['startseq dog in red jacket is running on the grass endseq'],\n",
              " '1361420539_e9599c60ae': ['startseq black dog is running in the grass endseq'],\n",
              " '1362128028_8422d53dc4': ['startseq play in blue tub full of water outside endseq'],\n",
              " '1363843090_9425d93064': ['startseq black dog retrieves cloth from streambed endseq'],\n",
              " '1363924449_487f0733df': ['startseq boy holds his hands on his head endseq'],\n",
              " '136639119_6040b00946': ['startseq climber is attempting to climb around an overhang above the woods endseq'],\n",
              " '1368338041_6b4077ca98': ['startseq dogs looking at cement ledge endseq'],\n",
              " '1368383637_614646cc4a': ['startseq stand in corridor looking from balcony as another person walks dog endseq'],\n",
              " '1370615506_2b96105ca3': ['startseq wine shop with an open sign in the window and two people out front endseq'],\n",
              " '1379026456_153fd8b51b': ['startseq man sits at table in front of computer wearing headphones endseq'],\n",
              " '1383698008_8ac53ed7ec': ['startseq man is snowboarding over structure on snowy hill endseq'],\n",
              " '1383840121_c092110917': ['startseq brown dog laying on blue cover endseq'],\n",
              " '1384292980_4022a7520c': ['startseq girls walk down the street endseq'],\n",
              " '1386251841_5f384a0fea': ['startseq woman is looking at dressed headless mannequins in store display endseq'],\n",
              " '138705546_be7a6845dd': ['startseq girls looking out over lake towards man fishing endseq'],\n",
              " '1387461595_2fe6925f73': ['startseq are standing beside stonesign endseq'],\n",
              " '1388346434_524d0b6dfa': ['startseq man leaning against concrete wall with his arms resting on top looks over balcony endseq'],\n",
              " '1388373425_3c72b56639': ['startseq woman in black shirt is sitting next to florescent green bag endseq'],\n",
              " '1389323170_d1c81d6b51': ['startseq lone woman sitting on an usual green bench with cup in her hand endseq'],\n",
              " '1389651420_8d95d8f6ed': ['startseq boy stands beside railing at go kart track endseq'],\n",
              " '1390268323_2c8204e91c': ['startseq children climb into the back of vehicle from the front seat endseq'],\n",
              " '1394396709_65040d97ab': ['startseq brown dog carrying black object endseq'],\n",
              " '1394599090_fe0ba238f0': ['startseq father and child are playing in the pool endseq'],\n",
              " '1394620454_bf708cc501': ['startseq boy with glasses is standing on top of rocky peak with hands in his pockets endseq'],\n",
              " '1394927474_0afdd82fc4': ['startseq boy with green balloon is standing outside of large building endseq'],\n",
              " '1396703063_e8c3687afe': ['startseq man in blue shirt cowboy hat and cross neckless walking in front of carnival or amusement park ride endseq'],\n",
              " '1397295388_8a5b6b525d': ['startseq group of people waits for their luggage in the las vegas airport endseq'],\n",
              " '1397887419_e798697b93': ['startseq brown dog chases blond one in the grass endseq'],\n",
              " '1397923690_d3bf1f799e': ['startseq man is carefully skiing down snow covered hill wearing backpack endseq'],\n",
              " '1398606571_f543f7698a': ['startseq girl in an innertube enjoying the lake endseq'],\n",
              " '1398613231_18de248606': ['startseq man and girl sit inside floating tube in the water endseq'],\n",
              " '1398873613_7e3174dd6c': ['startseq man smiles and holds onto rope on boat endseq'],\n",
              " '1400424834_1c76e700c4': ['startseq lady dressed in shades of black waits on the sidewalk for train endseq'],\n",
              " '1401961581_76921a75c5': ['startseq child is in harness with onlookers endseq'],\n",
              " '1402641725_5e027ecaa7': ['startseq children are playing on hill of sand endseq'],\n",
              " '1402843760_d30f1dbf0f': ['startseq dog trots through the grass endseq'],\n",
              " '1402859872_0fc8cf8108': ['startseq boy highfives mannequin endseq'],\n",
              " '1403414927_5f80281505': ['startseq black dog in front of white dog walking on path in forest endseq'],\n",
              " '140377584_12bdbdf2f8': ['startseq climber in an orange helmet is ascending attached to rope whilst climbing rock face endseq'],\n",
              " '140430106_2978fda105': ['startseq dog is running along beach on sunny day endseq'],\n",
              " '1405221276_21634dcd58': ['startseq dog shaking the water off getting second dog wet endseq'],\n",
              " '140526326_da07305c1c': ['startseq man rock climbs with city and body of water in the background endseq'],\n",
              " '1406010299_5755339f08': ['startseq boy dressed as pirate glares at the camera while boats sit in the background endseq'],\n",
              " '141139674_246c0f90a1': ['startseq boy hits baseball with the bat endseq'],\n",
              " '141140165_9002a04f19': ['startseq little boy points to the face of another little boy in base in baseball game endseq'],\n",
              " '1412832223_99e8b4701a': ['startseq child jumps on sand dune endseq'],\n",
              " '1413956047_c826f90c8b': ['startseq three young men are standing on mountaintop endseq'],\n",
              " '1414779054_31946f9dfc': ['startseq boy jumping off of cement block endseq'],\n",
              " '1414820925_3504c394e1': ['startseq man in red shorts jumping in back of volleyball net endseq'],\n",
              " '1417295167_5299df6db8': ['startseq man holds drink in one hand and looks at his cellphone endseq'],\n",
              " '141755290_4b954529f3': ['startseq vendor in all pink and red clothing is preparing her wears while looking forward endseq'],\n",
              " '1417637704_572b4d6557': ['startseq children peek out endseq'],\n",
              " '1417882092_c94c251eb3': ['startseq guys standing side by side endseq'],\n",
              " '1417941060_2a0f7908bc': ['startseq baby plays with young boys face endseq'],\n",
              " '1418019748_51c7d59c11': ['startseq man dressed in white shirt blue baseball cap while wearing gloves holding red and white checkered food wrapping endseq'],\n",
              " '1418266617_b32143275b': ['startseq black and white dog jumps over pole while splashing water around endseq'],\n",
              " '1418503947_953d373632': ['startseq man in an orange hat pulls cigarette out of box endseq'],\n",
              " '1419286010_b59af3962a': ['startseq fisherman is reeling his rod while another relaxes in boat on water endseq'],\n",
              " '1419385780_1383ec7ba9': ['startseq man wearing blue has mohawk endseq'],\n",
              " '1420060020_7a6984e2ea': ['startseq boy wears ninja suit and strikes pose endseq'],\n",
              " '1423126855_6cd2a3956c': ['startseq hiker poses in green field with sheep endseq'],\n",
              " '1423997242_ea2189ec5e': ['startseq hiker resting in field endseq'],\n",
              " '1424237335_b3be9920ba': ['startseq children hang from metal bar close to the ground endseq'],\n",
              " '1424775129_ffea9c13ab': ['startseq little boy walking on railroad tracks endseq'],\n",
              " '1425013325_bff69bc9da': ['startseq big german shephard dogs play in the water endseq'],\n",
              " '1425069590_570cc7c2d8': ['startseq girl begins to climb red piece of playground equipment endseq'],\n",
              " '1425485485_d7c97a5470': ['startseq girl touches boys face both are smiling endseq'],\n",
              " '142802798_962a4ec5ce': ['startseq boy in green shirt on skateboard on stone wall with graffiti endseq'],\n",
              " '1428578577_82864facae': ['startseq hikers wearing dark clothes rest on snow covered peak endseq'],\n",
              " '1428641354_f7453afbea': ['startseq woman and boy are making hamburgers in the kitchen endseq'],\n",
              " '1428681303_04213524e3': ['startseq climbing statue endseq'],\n",
              " '1429723917_6af585e4c0': ['startseq bald man with tattooed head stands next to man with brown tshirt in front of transparent awning endseq'],\n",
              " '1429814475_0b592b9995': ['startseq lady sitting down and someone with black shorts and shoes endseq'],\n",
              " '1430154945_71bbaa094a': ['startseq mother helps her little boy eat his food by feeding him by hand endseq'],\n",
              " '1432342377_3e41603f26': ['startseq man and woman are standing on the curb endseq'],\n",
              " '143237785_93f81b3201': ['startseq man holding fish endseq'],\n",
              " '1433088025_bce2cb69f8': ['startseq crowd is watching shirtless men one in yellow pants and one in black shorts perfom endseq'],\n",
              " '1433397131_8634fa6664': ['startseq baby lies almost completely covered by bright colored plastic balls endseq'],\n",
              " '1433577867_39a1510c43': ['startseq wet white dog is splashing in the water with stick in its mouth endseq'],\n",
              " '1434005938_ad75c8598c': ['startseq man is carrying large backpack and looking over some green fields endseq'],\n",
              " '1434607942_da5432c28c': ['startseq child rides on man shoulders endseq'],\n",
              " '143552697_af27e9acf5': ['startseq man riding his bike on hill endseq'],\n",
              " '1436760519_8d6101a0ed': ['startseq black and white dog is jumping up to catch toy as another dog watches endseq'],\n",
              " '143680442_2f03f76944': ['startseq climber is suspended on an overhang that overlooks tree covered hill endseq'],\n",
              " '143680966_0010ff8c60': ['startseq man wearing backpack is climbing rock endseq'],\n",
              " '143684568_3c59299bae': ['startseq man standing on cliff endseq'],\n",
              " '143688205_630813a466': ['startseq climber scales steep rock face endseq'],\n",
              " '143688895_e837c3bc76': ['startseq boy climbing rock face endseq'],\n",
              " '1439046601_cf110a75a7': ['startseq boy is smiling whilst standing in front of swimming pool endseq'],\n",
              " '1439282131_3814d6ae04': ['startseq two dogs are in the water retrieving stick endseq'],\n",
              " '1443807993_aebfb2784a': ['startseq child slides down colorful slide while another child watches endseq'],\n",
              " '1445123245_c7b9db0e0c': ['startseq black and tan dog plays with centipede toy endseq'],\n",
              " '1445754124_647168f211': ['startseq black and white dog climbs leaning tree trunk endseq'],\n",
              " '1446933195_8fe9725d62': ['startseq black puppy is biting tree limb endseq'],\n",
              " '1448511770_1a4a9c453b': ['startseq jack russell terrier is measured for distance jumping as he tries to catch frisbee endseq'],\n",
              " '1449370354_380c4123c9': ['startseq running across the grass endseq'],\n",
              " '1449625950_fc9a8d02d9': ['startseq brown dog and tan dog are playing in tall grass endseq'],\n",
              " '1449692616_60507875fb': ['startseq girl takes picture with her hand over the camera lens endseq'],\n",
              " '1452361926_6d8c535e32': ['startseq boy sits in toy car while drinking from his sippy cup endseq'],\n",
              " '1453366750_6e8cf601bf': ['startseq children are shown upside down endseq'],\n",
              " '1454678644_7e5a371301': ['startseq big black dog chases big brown dog with green object in his mouth while another big brown dog tags behind endseq'],\n",
              " '1454841725_4b6e6199e2': ['startseq group of young girls smiling with large crowd behind them endseq'],\n",
              " '1456630952_dd4778a48f': ['startseq boy is catching an orange frisbee in front of wooden gate endseq'],\n",
              " '145721496_687af9bb18': ['startseq bird is standing on rock overlooking waterfall endseq'],\n",
              " '1457762320_7fe121b285': ['startseq group of bicyclists getting ready for ride endseq'],\n",
              " '1459032057_97e73ed6ab': ['startseq girl in striped shirt holds bun to her mouth endseq'],\n",
              " '1460352062_d64fb633e0': ['startseq girl in sunglasses sits in the branches of tree endseq'],\n",
              " '1460500597_866fa0c6f3': ['startseq man is sitting in room made up of wood panelling endseq'],\n",
              " '146100443_906d87faa2': ['startseq girl and two boys dressed up for halloween endseq'],\n",
              " '1461329041_c623b06e5b': ['startseq two ladies are riding bicycles near the beach endseq'],\n",
              " '1461653394_8ab96aae63': ['startseq large white dog growling at large black dog endseq'],\n",
              " '1463638541_c02cfa04dc': ['startseq girl climbing rope wall endseq'],\n",
              " '1463732130_a754441289': ['startseq girl in white shirt jumps on trampoline endseq'],\n",
              " '1463732807_0cdf4f22c7': ['startseq boy on playground swing strikes medatative pose endseq'],\n",
              " '1464120327_d90279ca3a': ['startseq little boy presses his face window endseq'],\n",
              " '1465666502_de289b3b9c': ['startseq black dog is swimming in green water with something in its mouth endseq'],\n",
              " '146577645_91b570c0d0': ['startseq kayaker goes through the waves holding his paddle endseq'],\n",
              " '146577646_9e64b8c2dc': ['startseq kayaker is battling waves in purple boat while wearing rain gear endseq'],\n",
              " '1466307485_5e6743332e': ['startseq group of people pull jeep stuck on rock endseq'],\n",
              " '1466307489_cb8a74de09': ['startseq in helmets and orange vests pulling jeep out of ditch endseq'],\n",
              " '1466479163_439db855af': ['startseq brown dog runs through the grass holding something in its mouth endseq'],\n",
              " '1468429623_f001988691': ['startseq black dog is jumping up biting man padded arm endseq'],\n",
              " '1469358746_2a879abaf3': ['startseq man and his dog in the mountains endseq'],\n",
              " '1470061031_4cb59c12a8': ['startseq brownish dogs are fighting endseq'],\n",
              " '1470132731_fa416b7504': ['startseq black dog is running in the water endseq'],\n",
              " '1472053993_bed67a3ba7': ['startseq downhill skier with backpack on background of mountains and wispy clouds endseq'],\n",
              " '1472653060_7427d2865a': ['startseq man cutting up some food on yellow board endseq'],\n",
              " '1473080948_bae2925dc8': ['startseq kayaker wearing blue wetsuit and black helmet paddles his yellow kayak in murky rolling rapids endseq'],\n",
              " '1473250020_dc829a090f': ['startseq boy stands on rock in creek holding stick endseq'],\n",
              " '1473618073_7db56a5237': ['startseq boy on green plastic swing endseq'],\n",
              " '1474474514_b3eb492722': ['startseq child smiling in park endseq'],\n",
              " '1475046848_831245fc64': ['startseq blonde woman in blue shorts walks on the beach carrying her shoes endseq'],\n",
              " '1476002408_4256b7b2fa': ['startseq lone person wearing quilt walking along the sidewalk of street endseq'],\n",
              " '1478294229_7e1c822fea': ['startseq closeup of bicycle rider leg endseq'],\n",
              " '1478606153_a7163bf899': ['startseq brown and white dog is running through woodland endseq'],\n",
              " '1479028910_3dab3448c8': ['startseq boy skateboards and does jump over another skateboard endseq'],\n",
              " '1479124077_17dcc0d5d7': ['startseq barefoot boy in shorts and tshirt jumps in muddy grass endseq'],\n",
              " '1479513774_70c94cf9d3': ['startseq girl wearing green jacket is standing at stop light endseq'],\n",
              " '1479679558_d0a01bc62b': ['startseq creek winds through the woods endseq'],\n",
              " '1480712062_32a61ad4b7': ['startseq person in scuba suit holds very small lobster endseq'],\n",
              " '1481062342_d9e34366c4': ['startseq little girl in pajamas runs down hall with hardwood floors endseq'],\n",
              " '1482960952_95f2d419cb': ['startseq elderly women two with canes walk through parking lot endseq'],\n",
              " '148512773_bae6901fd6': ['startseq couple enjoys quiet moment near the river endseq'],\n",
              " '1488937076_5baa73fc2a': ['startseq few different colored dogs jumping around in the grass behind house endseq'],\n",
              " '1489286545_8df476fa26': ['startseq man and dog sit on bench near body of water endseq'],\n",
              " '1491192153_7c395991e5': ['startseq man putting little boy wearing orange into child swing endseq'],\n",
              " '1499495021_d295ce577c': ['startseq dark haired woman wearing brown jacket and fatigue bottoms and balding man wearing green sweater and blue jeans with fishing pole stand at the foot of the surf endseq'],\n",
              " '1499554025_a8ffe0e479': ['startseq group of females in white suits are in petting zoo with two goats endseq'],\n",
              " '1500853305_0150615ce9': ['startseq girl and boy hugging on bridge endseq'],\n",
              " '1501811302_5e723fc529': ['startseq black and white dog runs around farm animal inside fenced yard endseq'],\n",
              " '1505686764_9e3bcd854a': ['startseq man in red shorts is walking along rocks by river carrying stick endseq'],\n",
              " '150582765_bad8dec237': ['startseq girl wearing pink hoodie looks through her camera endseq'],\n",
              " '1507563902_6ec8d5d822': ['startseq child is doing back flip whilst jumping on trampoline endseq'],\n",
              " '1508269285_6c5723f67d': ['startseq brown and white dog is standing in the river by the bank endseq'],\n",
              " '1510669311_75330b4781': ['startseq group of girls are posing together with males nearby endseq'],\n",
              " '1511807116_41c3645e8c': ['startseq black dog plays with another animal endseq'],\n",
              " '1514957266_a19827c538': ['startseq black dog runs on green grass with its mouth open endseq'],\n",
              " '1515025681_999199cb79': ['startseq man in white shirt and sunglasses gazes into the horizon endseq'],\n",
              " '1515883224_14e36a53c7': ['startseq brunette woman in blue shirt too small for her standing behind casuallydressed people endseq'],\n",
              " '1516714577_7d1c35a8d8': ['startseq girl in pink twirls ribbon endseq'],\n",
              " '1517340899_ee1c74a8f6': ['startseq girl jumping in the grass endseq'],\n",
              " '1517807181_ca6588f2a0': ['startseq children are playing with kite out in wide open countryside endseq'],\n",
              " '152029243_b3582c36fa': ['startseq man maneuvers motorcycle through rocky stream endseq'],\n",
              " '1521623639_4bda3407cc': ['startseq homeless man sitting on sofa under an overpass endseq'],\n",
              " '1522787272_5a31497ef2': ['startseq dog with mud stuck on his underside is running on grass endseq'],\n",
              " '1523800748_a59e980eee': ['startseq and girl running along the beach endseq'],\n",
              " '1525153022_06c48dbe52': ['startseq black dog is running through the shallow edge of large body of water endseq'],\n",
              " '1526181215_c1a94325ae': ['startseq dog is jumping into the water endseq'],\n",
              " '1527297882_dededc7891': ['startseq man dressed as jack sparrow from pirates of the caribbean endseq'],\n",
              " '1527333441_af65636a74': ['startseq man in blue shirt and jeans stands behind sign that says mark mom finley endseq'],\n",
              " '1527513023_3d8152b379': ['startseq little boy plays with water toy while others watch endseq'],\n",
              " '1529044279_4922ead27c': ['startseq crowded street in europe endseq'],\n",
              " '1536597926_c2e1bc2379': ['startseq hikers rest on snowcovered mountain endseq'],\n",
              " '1539166395_0cdc0accee': ['startseq child with skull on his shirt is sitting in front of some plants and building and is holding onto handlebars endseq'],\n",
              " '1540631615_8b42c1b160': ['startseq boy in red jacket does gymnastic maneuver on grassy athletic field endseq'],\n",
              " '1541272333_1624b22546': ['startseq brown dog brings up some dust as he runs around field endseq'],\n",
              " '1542033433_5453d4c466': ['startseq female in green shirt standing while traffic passes endseq'],\n",
              " '1550772959_9ca9fa625f': ['startseq girl sits with excavating tools examining rock endseq'],\n",
              " '1552065993_b4dcd2eadf': ['startseq dog is running in field endseq'],\n",
              " '155221027_b23a4331b7': ['startseq skydiver safely lands while another watches from the ground endseq'],\n",
              " '1557451043_f5c91ff6f4': ['startseq girl is sitting on the beach and staring at the ocean endseq'],\n",
              " '1557838421_a33f2a4911': ['startseq grey and white dog is biting the ear of white and brown dog endseq'],\n",
              " '1562392511_522a26063b': ['startseq dog chewing blue rope while two men watch from behind endseq'],\n",
              " '1562478333_43d13e5427': ['startseq man is camping on beach shore endseq'],\n",
              " '1562478713_505ab6d924': ['startseq man cooking food at his campsite endseq'],\n",
              " '1563731247_7f21d8bec0': ['startseq child plays on the ground in pile of leaves endseq'],\n",
              " '1564614124_0ee6799935': ['startseq closeup of girl holding heart necklace and looking at it endseq'],\n",
              " '1566117559_f5d98fbeb0': ['startseq little white dog begs endseq'],\n",
              " '1569562856_eedb5a0a1f': ['startseq man in black jacket is has white headphone in his ear endseq'],\n",
              " '156967462_72db9b722c': ['startseq couple dogs in and around small lake of water near highway endseq'],\n",
              " '1569687608_0e3b3ad044': ['startseq girls are wearing life vests and hugging each other endseq'],\n",
              " '157139628_5dc483e2e4': ['startseq man in blue shirt is spraying sand sculpture endseq'],\n",
              " '1572286502_64e5c4b920': ['startseq blonde child climbing across net endseq'],\n",
              " '1573017288_4d481856e2': ['startseq girl with arms raised in sliding down red and white slide endseq'],\n",
              " '1574401950_6bedc0d29b': ['startseq boy jumps from the top of blue plastic slide endseq'],\n",
              " '1576185717_f841ddc3da': ['startseq boy and girl playing cricket endseq'],\n",
              " '1579198375_84b18e003a': ['startseq band performs in dimly lit setting endseq'],\n",
              " '1579287915_4257c54451': ['startseq lone man stands on rocky outcropping and looks out over the wilderness endseq'],\n",
              " '1580172290_e19067e0dd': ['startseq baby and young boy playing endseq'],\n",
              " '1581822598_0ae23074f1': ['startseq brown and black dog playing in the snow endseq'],\n",
              " '1594038143_57f299aa8a': ['startseq man in pink shirt is showing magic trick to boy in blue shirt endseq'],\n",
              " '1597319381_1e80d9e39c': ['startseq group of kids in red and white playing soccer endseq'],\n",
              " '1597557856_30640e0b43': ['startseq brown dog is jumping up at woman who is wearing brown skirt endseq'],\n",
              " '1598085252_f3219b6140': ['startseq dog in field endseq'],\n",
              " '1600208439_e94527b80f': ['startseq brown dog playing in mud endseq'],\n",
              " '160541986_d5be2ab4c1': ['startseq girl is all decked out with razzling jewelry endseq'],\n",
              " '160566014_59528ff897': ['startseq couple sit on the hood of car with their backs to the camera endseq'],\n",
              " '160585932_fa6339f248': ['startseq black station wagon with its lights on partially submerged in water with wooded area behind it endseq'],\n",
              " '1606988704_fe330878a3': ['startseq children playing in hay endseq'],\n",
              " '160805827_5e6646b753': ['startseq man in boat in front of sunset endseq'],\n",
              " '1616016569_673de1d678': ['startseq couple sitting together smiling at the photographer endseq'],\n",
              " '161669933_3e7d8c7e2c': ['startseq competitive motorcycle racer prepares to make left turn along paved road endseq'],\n",
              " '161905204_247c6ca6de': ['startseq girl in light blue windbreaker walks down cement road endseq'],\n",
              " '1620397000_3883e3ecd3': ['startseq black and white spotted dog is jumping over the small stream of water endseq'],\n",
              " '162152393_52ecd33fc5': ['startseq girl on beach with rainbow flags endseq'],\n",
              " '1622619190_d0b51aff28': ['startseq brown dog is walking on the grass beside fence endseq'],\n",
              " '1625306051_7099519baa': ['startseq man in yellow shirt and man in an orange shirt jump in the air endseq'],\n",
              " '162743064_bb242faa31': ['startseq brown dog catching ball in silhouette endseq'],\n",
              " '1650280501_29810b46e5': ['startseq group of people are sitting in some rows of wooden seats endseq'],\n",
              " '1655781989_b15ab4cbff': ['startseq group of mountain climbers endseq'],\n",
              " '1659358133_95cd1027bd': ['startseq brown dog sniffs tree stump endseq'],\n",
              " '1659396176_ced00a549f': ['startseq white and brown dog with his mouth open and tongue out facing second almost offcamera dog endseq'],\n",
              " '1662261486_db967930de': ['startseq black and white dog is jumping through black and white hoop endseq'],\n",
              " '166321294_4a5e68535f': ['startseq man is riding on red motorcycle endseq'],\n",
              " '1663751778_90501966f0': ['startseq climber is attached by ropes to brown colored rock face endseq'],\n",
              " '166654939_80ea4ddbcc': ['startseq group of race buggies travel down racetrack endseq'],\n",
              " '1670592963_39731a3dac': ['startseq collie runs down slide endseq'],\n",
              " '167295035_336f5f5f27': ['startseq climber wearing white helmet is perched on the side of rock face endseq'],\n",
              " '1676601498_7d59327523': ['startseq male and female are leaning against railing looking off with the ocean in the background endseq'],\n",
              " '1679565118_d36f0d6d52': ['startseq black dog catches tennis ball in his mouth while white dog watches endseq'],\n",
              " '1683444418_815f660379': ['startseq man in camouflage tank top standing next to man in grey tshirt with fountain in the background endseq'],\n",
              " '1685463722_55843b6d3c': ['startseq woman and her two dogs are walking down the street endseq'],\n",
              " '1685990174_09c4fb7df8': ['startseq bunch of kids run on school play field endseq'],\n",
              " '1688699579_2f72328c7e': ['startseq small dog and large dog carrying stick in its mouth run outside endseq'],\n",
              " '1689658980_0074d81d28': ['startseq two dogs are enjoying run through the surf endseq'],\n",
              " '169490297_b6ff13632a': ['startseq boy in blue yellow and orange shirt holding his arms out from his sides endseq'],\n",
              " '1713248047_d03721456d': ['startseq brown dog black and white dog and black dog are all standing in field endseq'],\n",
              " '1713248099_d860df4e10': ['startseq brown dog black dog and black and white dog are in grassy field endseq'],\n",
              " '171488318_fb26af58e2': ['startseq dog is walking along some dry cracked earth endseq'],\n",
              " '1716445442_9cf3528342': ['startseq man picking up big rock endseq'],\n",
              " '1718184338_5968d88edb': ['startseq couple of people are standing and the person in the red coat is pointing at the body of water endseq'],\n",
              " '172092461_a9a9762e13': ['startseq man wakeboards in red vest and smiles for the camera endseq'],\n",
              " '172092464_d9eb4f4f2f': ['startseq guy waterskiing behind boat endseq'],\n",
              " '172097783_292c5413d8': ['startseq boy is wakeboarding on lake with one hand endseq'],\n",
              " '1721637099_93e9ec2a2f': ['startseq boy laying on clothes endseq'],\n",
              " '17273391_55cfc7d3d4': ['startseq fisherman fishes at the bank of foggy river endseq'],\n",
              " '173020287_230bfc4ffc': ['startseq man gets ready to throw stick for his waiting dog endseq'],\n",
              " '1732217138_aa0199ef87': ['startseq couple eat their meal outside endseq'],\n",
              " '1732436777_950bcdc9b8': ['startseq couple on the stairs are photographing man and woman embracing in front of building endseq'],\n",
              " '174466741_329a52b2fe': ['startseq girl in pink tank top and green pants is running through field of tall flowers endseq'],\n",
              " '1752454466_723790dbd6': ['startseq brown and white dog exiting yellow and blue ramp in grassy area endseq'],\n",
              " '1763020597_d4cc8f0f8a': ['startseq sit against wall endseq'],\n",
              " '1770036088_08abe4f6e9': ['startseq man and girl in bed endseq'],\n",
              " '1771490732_0ab5f029ac': ['startseq boys playing soccer in field endseq'],\n",
              " '177302997_5b2d770a0a': ['startseq child holding on to the bar while riding horse on carousel ride endseq'],\n",
              " '1775029934_e1e96038a8': ['startseq animal with horns jumping in field endseq'],\n",
              " '1776981714_5b224d0f7a': ['startseq asian women walking in front of green door endseq'],\n",
              " '1777816180_08d7e8063b': ['startseq boy prepares jump off rock endseq'],\n",
              " '1778020185_1d44c04dae': ['startseq brown dog runs for white and black dog on the grass endseq'],\n",
              " '1781227288_6811e734be': ['startseq man in yellow stands in garbage strewn underpass endseq'],\n",
              " '1784309115_0ad6791146': ['startseq girl in the bathing suit talking to guy endseq'],\n",
              " '1785138090_76a56aaabc': ['startseq female walking wearing string bikini towards man in striped shirt endseq'],\n",
              " '1787222774_d5c68cce53': ['startseq ride outside in red car endseq'],\n",
              " '1794818900_e0ffdd268e': ['startseq girl plays on red toy endseq'],\n",
              " '1795151944_d69b82f942': ['startseq team of dogs and woman following on bike endseq'],\n",
              " '1797507760_384744fb34': ['startseq shirtless men are hiking up canyon endseq'],\n",
              " '1798209205_77dbf525b0': ['startseq blonde haired woman is pouring drinks at bar endseq'],\n",
              " '1798215547_ef7ad95be8': ['startseq boy wearing navy blue slides down gray slide endseq'],\n",
              " '179829865_095b040377': ['startseq man beginning to waterski wearing red life jacket endseq'],\n",
              " '1799188614_b5189728ba': ['startseq boy in swimsuit walking in the sand towards the water endseq'],\n",
              " '1799271536_6e69c8f1dc': ['startseq brown and black dog runs down sandy beach endseq'],\n",
              " '1800601130_1c0f248d12': ['startseq brown dog is jumping after tennis ball endseq'],\n",
              " '1801063894_60bce29e19': ['startseq girl in yellow bathing suit from cliff looks at person in the water endseq'],\n",
              " '1801188148_a176954965': ['startseq brown dog is running towards three other dogs endseq'],\n",
              " '1801874841_4c12055e2f': ['startseq brown dog is staring closely at sleeping brown and white dog endseq'],\n",
              " '1803631090_05e07cc159': ['startseq girl in firefighter uniform looks back and says something endseq'],\n",
              " '1805990081_da9cefe3a5': ['startseq boy in striped shirt walking small dog on leash endseq'],\n",
              " '1806580620_a8fe0fb9f8': ['startseq blonde lady with sunglasses smiles endseq'],\n",
              " '1807169176_7f5226bf5a': ['startseq group of people sit around blazing fire at night endseq'],\n",
              " '1808007704_ee8a93abb4': ['startseq man in red shirt is jumping from one rock to another larger rocker with two male spotters below him endseq'],\n",
              " '1809758121_96026913bb': ['startseq blond girl wearing blue jumping across stream endseq'],\n",
              " '1809796012_a2dac6c26b': ['startseq black and white dog standing on its hind legs on carpeting in front of chair endseq'],\n",
              " '1810651611_35aae644fb': ['startseq closeup of little girl on swing endseq'],\n",
              " '181103691_fb2f956abd': ['startseq group of children play in the street where water is sprayed endseq'],\n",
              " '181157221_e12410ef0b': ['startseq man and woman walk their dogs on leashes endseq'],\n",
              " '1812525037_528465037c': ['startseq kisscostumed adults are pushing the strollers of the kisscostumed kids endseq'],\n",
              " '1813266419_08bf66fe98': ['startseq child in striped shirt gleefully plays among some water fountains endseq'],\n",
              " '1813597483_3f09d2a020': ['startseq dog jumps over log in the woods endseq'],\n",
              " '1813777902_07d1d4b00c': ['startseq boy dressed as pirate smiles largley endseq'],\n",
              " '1814086703_33390d5fc7': ['startseq dog looks behind itself endseq'],\n",
              " '181415975_2627aa6668': ['startseq blonde man is wakeboarding and is jumping into the air endseq'],\n",
              " '1814391289_83a1eb71d3': ['startseq boy dressed as spiderman ringing door bell endseq'],\n",
              " '181777261_84c48b31cb': ['startseq beach crowded with beachgoers endseq'],\n",
              " '1818403842_553a2a392c': ['startseq dogs jump in pool to hand endseq'],\n",
              " '1819261140_6c022f4b1d': ['startseq costumed diner sits in restaurant wearing black outfit that covers their face endseq'],\n",
              " '1821238649_2fda79d6d7': ['startseq girl dressed as devil stands in front of lighted object on city street endseq'],\n",
              " '182493240_40410254b0': ['startseq men raise their arms atop snowy mountain endseq'],\n",
              " '1827560917_c8d3c5627f': ['startseq dog with few leashes and vest on pulls at something with its mouth endseq'],\n",
              " '1835511273_790eaae6e6': ['startseq man dressed in red outfit endseq'],\n",
              " '1837976956_3c45d0f9b8': ['startseq girl in polka dot dress singing into microphone endseq'],\n",
              " '185057637_e8ada37343': ['startseq group of five people stand outdoors endseq'],\n",
              " '1858963639_4588cd4be9': ['startseq girl with red helmet carying lot of rope endseq'],\n",
              " '185972340_781d60ccfd': ['startseq man drives green jeep over few jagged rocks endseq'],\n",
              " '1859726819_9a793b3b44': ['startseq upset woman with her makeup streaming down her face from her tears endseq'],\n",
              " '1859941832_7faf6e5fa9': ['startseq dog catches frisbee as it jumps on the grass endseq'],\n",
              " '1860543210_47e94cf652': ['startseq guy in gray is walking across the street at night endseq'],\n",
              " '186348874_75b2cf1ec5': ['startseq group of bicyclists riding down path in an off road race endseq'],\n",
              " '1865794069_6e3a1e57bb': ['startseq blond boy with navy blue uniform kicks soccer ball in an open field endseq'],\n",
              " '186890601_8a6b0f1769': ['startseq man in maroon bathing suit swings on rope on lake endseq'],\n",
              " '186890605_ddff5b694e': ['startseq guy in swimming trunks flying on rope swing above lake endseq'],\n",
              " '1876536922_8fdf8d7028': ['startseq dogs are running through water carrying rope and red float in their mouths endseq'],\n",
              " '1881494074_1bebd93089': ['startseq baby with pink hat held by man in red and woman in pink endseq'],\n",
              " '1884065356_c6c34b4568': ['startseq black dog in the water endseq'],\n",
              " '1884727806_d84f209868': ['startseq man and woman wear mickey mouse ears at an event endseq'],\n",
              " '1895768965_43cd9d164f': ['startseq black and white dog runs in some leaves endseq'],\n",
              " '189740668_0b045f1ff2': ['startseq boy does cartwheel on rock cliff endseq'],\n",
              " '1904112245_549e47c8aa': ['startseq dog in the forest endseq'],\n",
              " '190638179_be9da86589': ['startseq man in hat stands in front of gray jeep in dry grass endseq'],\n",
              " '190965502_0b9ed331d9': ['startseq of the chairs are empty with only few people enjoying the sun endseq'],\n",
              " '191003284_1025b0fb7d': ['startseq man helps little girl ride bike endseq'],\n",
              " '191003287_2915c11d8e': ['startseq father feeding his child on the street endseq'],\n",
              " '191592626_477ef5e026': ['startseq climber is scaling mountain cliff endseq'],\n",
              " '1917203130_fcaff8b10e': ['startseq child at an exhibit endseq'],\n",
              " '1918573100_d31cbb6b77': ['startseq black and white dog balances on wooden plank endseq'],\n",
              " '19212715_20476497a3': ['startseq kayaker kayaks through the water endseq'],\n",
              " '1921398767_771743bf4e': ['startseq dog has wetsuit in his mouth on the beach endseq'],\n",
              " '1923476156_e20976b32d': ['startseq fluffy white dog on leash with its owner riding bike endseq'],\n",
              " '1924234308_c9ddcf206d': ['startseq girl in bikini and sneakers makes her way out of the water and onto the rocks endseq'],\n",
              " '1925434818_2949a8f6d8': ['startseq children playing in ball pit endseq'],\n",
              " '1928319708_ccf1f4ee72': ['startseq man is cycling on the road endseq'],\n",
              " '1931690777_897a7d8ab6': ['startseq boys doing cannonball jump in unison into the pool endseq'],\n",
              " '1932161768_996eadac87': ['startseq small dog steps onto log endseq'],\n",
              " '1932314876_9cc46fd054': ['startseq girl wearing blue top has her feet in the stream endseq'],\n",
              " '1936215201_d03a75cbba': ['startseq baby boy plays outside with blue toy endseq'],\n",
              " '1937104503_313d22a2d0': ['startseq black and white dog is playing in water endseq'],\n",
              " '1937262236_cbf5bfa101': ['startseq dogs fight over the red and pink ball endseq'],\n",
              " '1947351225_288d788983': ['startseq child shows other kids his still packaged toy endseq'],\n",
              " '195084264_72fb347b0f': ['startseq man in checked shirt stands next to large wooden bowl endseq'],\n",
              " '1952896009_cee8147c90': ['startseq woman carrying purse and bag with baby in backpack walking down road endseq'],\n",
              " '1956678973_223cb1b847': ['startseq in red shirts play in the leaves endseq'],\n",
              " '1956944011_c5661d3f22': ['startseq child wearing white shirt hangs from the playground equipment endseq'],\n",
              " '1957371533_62bc720bac': ['startseq black and white dog shakes itself to get the water off endseq'],\n",
              " '195962284_e57178054a': ['startseq boy in large pool endseq'],\n",
              " '195962790_3380aea352': ['startseq woman in purple shirt and brown puppy sit near fountain endseq'],\n",
              " '1965278563_8279e408de': ['startseq big brown dog floats in canoe on the river at sunset endseq'],\n",
              " '1969573381_5ecfae4c80': ['startseq brown and white animal surrounded by trees endseq'],\n",
              " '197142902_f05ff198c2': ['startseq man and woman in glasses blow bubbles endseq'],\n",
              " '1975171469_84e425f61b': ['startseq boy plays game endseq'],\n",
              " '1975531316_8b00eeaaf7': ['startseq dog is on leash held by woman in white shoes endseq'],\n",
              " '1977827746_4e13d7e19f': ['startseq young boy and girl sit in wagon eating corndogs endseq'],\n",
              " '197924859_f6e39a7dfa': ['startseq man showering in home outdoor shower facility endseq'],\n",
              " '1980315248_82dbc34676': ['startseq man does yard work endseq'],\n",
              " '1989145280_3b54452188': ['startseq blond girl with sunglasses on her head looks squeamish endseq'],\n",
              " '1994416869_4dd769a806': ['startseq little girl in only socks and necklace is being tossed in the air and caught endseq'],\n",
              " '199809190_e3f6bbe2bc': ['startseq group of people jump into lake in unison endseq'],\n",
              " '1998255400_0cd086908f': ['startseq dog attempting to drink from an outdoor water faucet endseq'],\n",
              " '2000459828_3c9e109106': ['startseq group of people stand in front of rock formation endseq'],\n",
              " '2003663004_5b70920a98': ['startseq football player pauses during game endseq'],\n",
              " '2004674713_2883e63c67': ['startseq brindlecoated dog is growling at jumping brown dog with purple collar inside park enclosure endseq'],\n",
              " '201682811_105241dee3': ['startseq men are approaching gold colored statue of gandhi endseq'],\n",
              " '2017276266_566656c59d': ['startseq dog in midair catching ring while another dog watches endseq'],\n",
              " '2021602343_03023e1fd1': ['startseq boy holds basketball angerly endseq'],\n",
              " '2021671653_567395c7cf': ['startseq boy dressed in denim is running on the sidewalk endseq'],\n",
              " '2029280005_a19609c81a': ['startseq man in black shirt is rollerblading past bench in the city endseq'],\n",
              " '2030781555_b7ff7be28f': ['startseq are sitting on step along the water and fishing endseq'],\n",
              " '2034553054_b00c166895': ['startseq boy with blue hat points towards bowl full of cork endseq'],\n",
              " '2036407732_d5a0389bba': ['startseq group of people are walking toward the mountains endseq'],\n",
              " '2039457436_fc30f5e1ce': ['startseq attrative woman climbs over fence endseq'],\n",
              " '2040941056_7f5fd50794': ['startseq brown dogs are fighting and biting each other endseq'],\n",
              " '2042009399_afad34e7c1': ['startseq group of boys play flag football while some bystanders watch endseq'],\n",
              " '2043427251_83b746da8e': ['startseq man jumping in mud puddle in the middle of the street endseq'],\n",
              " '2043520315_4a2c782c90': ['startseq group of hikers led by black and white dog climbs hillside trail covered in ferns endseq'],\n",
              " '2044063458_fcc76a7636': ['startseq dachshunds one black the other brown run on grass endseq'],\n",
              " '2045023435_181854c013': ['startseq brown dog playing with tennis ball endseq'],\n",
              " '2045109977_b00ec93491': ['startseq man cleaning the inside of large pane of glass endseq'],\n",
              " '2045562030_654ddea5e5': ['startseq group of teenagers one with pink hair endseq'],\n",
              " '2045928594_92510c1c2a': ['startseq girl in red shirt is standing around with her yellow bag and black purse at her side endseq'],\n",
              " '2046222127_a6f300e202': ['startseq man in neoncolored vest holding up section of wood endseq'],\n",
              " '2046778775_0dd7cac6ab': ['startseq group of children are lined up for performance on stage endseq'],\n",
              " '2049646140_d0de01e3c4': ['startseq child doing gymnastics endseq'],\n",
              " '2050067751_22d2763fd2': ['startseq child in green shoes staring down drain endseq'],\n",
              " '2051194177_fbeee211e3': ['startseq big tan dog running threw the shallow water with stick in his mouth endseq'],\n",
              " '2052202553_373dad145b': ['startseq brown dog wades into lake to retrieve stick endseq'],\n",
              " '2052702658_da1204f6d1': ['startseq child in red coat is holding an armful of snow in front of house endseq'],\n",
              " '2053006423_6adf69ca67': ['startseq man in shorts is standing on rock looking out at the view from the hilltop endseq'],\n",
              " '2053441349_a98b5fc742': ['startseq dog in field of colorful flowers endseq'],\n",
              " '2053777548_108e54c826': ['startseq brown and white dog is catching tennis ball while standing on its hind legs endseq'],\n",
              " '2054308369_f9c6ec7815': ['startseq little girl is petting golden dog endseq'],\n",
              " '2055646179_169807fed4': ['startseq boy holding hose next to man while another boy watches on held by woman endseq'],\n",
              " '2056041678_d6b5b39b26': ['startseq lone hiker is sitting on rock on snowy mountain trail endseq'],\n",
              " '2056042552_f59e338533': ['startseq grey dog is jumping toward black and white dog in the snow endseq'],\n",
              " '2056377805_e9a9b3bcf0': ['startseq group of friends ride the current in raft endseq'],\n",
              " '2056930414_d2b0f1395a': ['startseq child plays red toy guitar and sings into multicolored plastic microphone endseq'],\n",
              " '2057305043_952b8dc82c': ['startseq paraglider soars near cliff and over body of water endseq'],\n",
              " '2057306459_2f52ce648e': ['startseq person in field walks toward their white and orange parachute while another holds it endseq'],\n",
              " '2058124718_89822bc96e': ['startseq dog barks at another brown dog with stuffed duck in mouth endseq'],\n",
              " '2058472558_7dd5014abd': ['startseq girl in flower dress is running on sand endseq'],\n",
              " '2059842472_f4fb61ea08': ['startseq baby crawls next to street against blue sky endseq'],\n",
              " '206087108_d4557d38ee': ['startseq man has fallen over on the street at night endseq'],\n",
              " '2061397486_53a61e17c5': ['startseq black dog with brown markings wearing red vest trots down path endseq'],\n",
              " '2062607137_dac194ad02': ['startseq brown and black dog play in field endseq'],\n",
              " '2063277300_f7ff476914': ['startseq little girl in stripped tights lays on the laps of little girl and boy endseq'],\n",
              " '2064417101_3b9d817f4a': ['startseq greyhound dog race is happening at the track endseq'],\n",
              " '2064780645_8f28a1529f': ['startseq group of people standing in front of setting sun endseq'],\n",
              " '2064792226_97e41d8167': ['startseq girl is taking picture of girl and guy on colorfully decorated pink bike endseq'],\n",
              " '2065309381_705b774f51': ['startseq man snowboarding down mountain covered with snow endseq'],\n",
              " '2065875490_a46b58c12b': ['startseq person is walking on sidewalk and skeleton is on the left inside of fence endseq'],\n",
              " '2066048248_f53f5ef5e2': ['startseq group of horses and people in front of snowy mountain endseq'],\n",
              " '2066241589_b80e9f676c': ['startseq black and brown dog is biting on stick in the forest endseq'],\n",
              " '2066271441_1f1f056c01': ['startseq black dog carrying colorful ball swims endseq'],\n",
              " '2067362863_59577f9d4d': ['startseq brown dog is jumping up at another dog in front of the man in jeans endseq'],\n",
              " '2067833088_04e84e5bf2': ['startseq hiker posing for photo in an arid mountain landscape endseq'],\n",
              " '2068403258_2669cf9763': ['startseq boy gets flipped into the river by another boy endseq'],\n",
              " '2068465241_3bcabacfd7': ['startseq little girl in blue and pink leotard is walking along beam whilst person hand is stretched out to support her endseq'],\n",
              " '2068960566_21e85ae0dc': ['startseq barefoot young boy glances at the camera while swinging in park endseq'],\n",
              " '2069279767_fb32bfb2de': ['startseq men are climbing endseq'],\n",
              " '2070798293_6b9405e04d': ['startseq little girl in pajamas is jumping on the couch endseq'],\n",
              " '2070831281_dc04b3e15d': ['startseq lady in white hat and sunglasses riding bicycle endseq'],\n",
              " '2070831523_5035d5537e': ['startseq blurry picture of woman riding bike endseq'],\n",
              " '2071309418_1d7580b0f0': ['startseq white dog wearing christmas reindeer headband plays with brown dog in the grass among some stuffed animals endseq'],\n",
              " '207237775_fa0a15c6fe': ['startseq man doing back flip while another takes picture endseq'],\n",
              " '2072574835_febf0c5fb9': ['startseq in race endseq'],\n",
              " '207275121_ee4dfa0bf2': ['startseq brown dog running in yard endseq'],\n",
              " '2073174497_18b779999c': ['startseq bicyclist dressed in all black in traffic endseq'],\n",
              " '2073756099_7e02c0110c': ['startseq black dog grabs bird in its mouth in the pool endseq'],\n",
              " '2074146683_7c83167aa1': ['startseq man in white hat uses money to obscure the face of the baby in his baby carrier endseq'],\n",
              " '2074244690_82e30ff44b': ['startseq girl who is surrounded by other people is taking picture at concert endseq'],\n",
              " '2074764331_90a9962b52': ['startseq black and tan puppy is biting the ear of brown dog endseq'],\n",
              " '2075041394_0b3ea1822d': ['startseq brown dog chasseing white dog endseq'],\n",
              " '2075493556_b763648389': ['startseq boys in sports casual clothing are posing in front of blue building endseq'],\n",
              " '207584893_63e73c5c28': ['startseq person in hangglider endseq'],\n",
              " '2076428547_738e0a132f': ['startseq backpacker standing near water at dusk endseq'],\n",
              " '2076865206_53918c820c': ['startseq man casting fishing pole endseq'],\n",
              " '2076906555_c20dc082db': ['startseq boy wearing jean jacket with his hand on his chest smiling at the camera endseq'],\n",
              " '207731022_988f6afb35': ['startseq out on the water on foggyday endseq'],\n",
              " '2077346067_0a3a5aae65': ['startseq man dressed in black and holding package in his hands is walking on sidewalk near police sign asking for witnesses to road dealth to step forward endseq'],\n",
              " '2079110798_ad1370a646': ['startseq boy sits in the library reading book endseq'],\n",
              " '2079152458_40712c3b40': ['startseq brown and white dog holds tennis ball in his mouth endseq'],\n",
              " '207930963_af3a2f1784': ['startseq group of people in protective gear endseq'],\n",
              " '2079554580_f18d5c181b': ['startseq dalmatian dog running downhill through leaves in wooded area endseq'],\n",
              " '2080033499_6be742f483': ['startseq brown dog is running away from his owner endseq'],\n",
              " '2081141788_38fa84ce3c': ['startseq children are jumping into the air into swimming pool at resort endseq'],\n",
              " '2081446176_f97dc76951': ['startseq guy with scarf and woven toboggan endseq'],\n",
              " '2081615901_13092cac56': ['startseq backs of two girls dressed identically in black shirts and black and red plants as they climb on fence endseq'],\n",
              " '2082005167_a0d6a70020': ['startseq black and brown dog is playing on the ice at the edge of lake endseq'],\n",
              " '2083778090_3aecaa11cc': ['startseq man in the snow wearing furry hat and black jacket with red scarf endseq'],\n",
              " '2084103826_ffd76b1e3e': ['startseq black and white dog is jumping in the grass endseq'],\n",
              " '2084157130_f288e492e4': ['startseq black and white dog runs beside brown dog in green field endseq'],\n",
              " '2085078076_b9db242d21': ['startseq small boy standing near muddy water with something in his hand while someone beside him washes clothing in buckets endseq'],\n",
              " '2085255128_61224cc47f': ['startseq boy high in the air above the dirt and water near the red rock cliffs endseq'],\n",
              " '2085400856_ae09df33a7': ['startseq dog in the snow endseq'],\n",
              " '2085403342_a17b0654fe': ['startseq child in bright red jacket runs through pile of hay endseq'],\n",
              " '2085726719_a57a75dbe5': ['startseq girls bundled up in winter coats pose for picture endseq'],\n",
              " '2086532897_b8714f2237': ['startseq kayaker falling down waterfall endseq'],\n",
              " '2086534745_1e4ab80078': ['startseq man in yellow boat paddling down rough waters endseq'],\n",
              " '2086678529_b3301c2d71': ['startseq girl in purple dress smiling as she climbs an indoor rock wall endseq'],\n",
              " '2087640654_1a84577a44': ['startseq blonde dog is digging deep hole in the ground and its tail is up in the air endseq'],\n",
              " '2088120475_d6318364f5': ['startseq person dressed up as snowman is walking through crowd of people endseq'],\n",
              " '2088460083_42ee8a595a': ['startseq broken down hummer gets towed on truck bed endseq'],\n",
              " '2088532947_c628e44c4a': ['startseq girl in the white shirt has bracelet on and has her arm around the girl in the peach shirt endseq'],\n",
              " '2088910854_c6f8d4f5f9': ['startseq large man is wearing headband with mistletoe attached to it endseq'],\n",
              " '2089122314_40d5739aef': ['startseq dog running with newspaper in its mouth endseq'],\n",
              " '2089350172_dc2cf9fcf6': ['startseq black dogs are swimming through some murky brown water one with yellow object in its mouth endseq'],\n",
              " '2089442007_6fc798548c': ['startseq brown dog is walking in the water endseq'],\n",
              " '2089539651_9e518ec7de': ['startseq hiker with two hiking poles stands on hillside with view of the city below him endseq'],\n",
              " '2089542487_b4c1ee7025': ['startseq hiker is ready to take on rugged outdoor trail endseq'],\n",
              " '2089555297_95cf001fa7': ['startseq man in hat with long sleeves and long pants stands overlooking city endseq'],\n",
              " '2090327868_9f99e2740d': ['startseq woman little boy and tiny baby are standing in front of cow statue endseq'],\n",
              " '2090386465_b6ebb7df2c': ['startseq woman and man in winter gear stand endseq'],\n",
              " '2090723611_318031cfa5': ['startseq walking in the grassy field endseq'],\n",
              " '2091171488_c8512fec76': ['startseq female wearing pink gloves and brown jacket is smiling in the snow endseq'],\n",
              " '2092419948_eea8001d0f': ['startseq long haired man walking away beside canal whist holding onto railing endseq'],\n",
              " '2092870249_90e3f1855b': ['startseq man lies on street with his head and shoulders under parked car that is jacked up endseq'],\n",
              " '2094543127_46d2f1fedf': ['startseq girl holding crocodile mouth closed endseq'],\n",
              " '2094810449_f8df9dcdf7': ['startseq boy stands in the ocean lifting up his shorts endseq'],\n",
              " '2095007523_591f255708': ['startseq baby looks through his crib endseq'],\n",
              " '2095078658_c14ba89bc2': ['startseq dog runs through snow in front of the woods endseq'],\n",
              " '2095435987_1b7591d214': ['startseq dog lying on its back in the sand endseq'],\n",
              " '2095478050_736c4d2d28': ['startseq man and boy play music as little girls watch endseq'],\n",
              " '209605542_ca9cc52e7b': ['startseq climber wearing red headband is pulling himself up some grey rocks high above some green foliage endseq'],\n",
              " '2097398349_ff178b3f1b': ['startseq hiker waves to the camera as he standing in front of snowcapped mountains endseq'],\n",
              " '2097407245_c798e0dcaf': ['startseq man in winter jacket and knit cap stand with his arms up at his side in snow landscape endseq'],\n",
              " '2097420505_439f63c863': ['startseq male hiker wearing green jacket is posing next to large glacier endseq'],\n",
              " '2098174172_e57d86ea03': ['startseq hiker is posing in front of snowy mountains endseq'],\n",
              " '2098418613_85a0c9afea': ['startseq brown chow mix dog is standing in front of van with euro plats in the middle of messy yard endseq'],\n",
              " '2098646162_e3b3bbf14c': ['startseq black and gray cat stands on contracption while two big dogs stare at it endseq'],\n",
              " '2100909581_b7dde5b704': ['startseq dog is jumping in the snow endseq'],\n",
              " '2101128963_fdf8b2a0d7': ['startseq baseball is recoiling from an action taken on treated field watched by others endseq'],\n",
              " '2101808682_0d66ef4a08': ['startseq boy being swarmed by pigeons marble building in the background endseq'],\n",
              " '2102030040_2e8f4738f7': ['startseq girl skiing endseq'],\n",
              " '2102315758_a9148a842f': ['startseq man and woman walking on the sand with water in the background endseq'],\n",
              " '2102581664_5ea50f85c6': ['startseq brown dog jumps over barrier that is black and white endseq'],\n",
              " '2102724238_3cf921d7bb': ['startseq woman in knit cap and man in peacoat sit on subway laden with bags endseq'],\n",
              " '2102732029_9ae520914d': ['startseq girl is helping another to take picture with digital camera endseq'],\n",
              " '2103361407_4ed4fc46bf': ['startseq group of children sit on bench outside and smile happily endseq'],\n",
              " '210625425_fb1ef5d23b': ['startseq blue jeep drive into deep muddy water endseq'],\n",
              " '210686241_b8e069fff3': ['startseq boy being drenched in downpour of water endseq'],\n",
              " '2107837987_ffecfc367a': ['startseq boy stands near water with stone in his hand endseq'],\n",
              " '210839948_bbd5bfa3b6': ['startseq girl in red shirt is rock climbing endseq'],\n",
              " '2108799322_e25aa6e185': ['startseq black dog in running in field endseq'],\n",
              " '2109479807_eec8d72ca7': ['startseq group of girls ride an atv endseq'],\n",
              " '2109911919_af45b93ef3': ['startseq person climbing up snowy mountain endseq'],\n",
              " '2110692070_8aaaa1ae39': ['startseq dog is running through green yard endseq'],\n",
              " '2110898123_07729c1461': ['startseq brown dog wearing red vest is running in the grass endseq'],\n",
              " '2111360187_d2505437b7': ['startseq children covered in soap bubbles smile endseq'],\n",
              " '2112661738_de71b60b88': ['startseq dog is standing in small pool of water on top of mountain endseq'],\n",
              " '211277478_7d43aaee09': ['startseq dirty jeep is stuck in the mud endseq'],\n",
              " '2113530024_5bc6a90e42': ['startseq goalie tries to catch ball during soccer game endseq'],\n",
              " '2114126343_a0f74ff63b': ['startseq group of swimmers are holding on to rope at the beach endseq'],\n",
              " '2114355355_9d7e2d8178': ['startseq brown dog is sitting in the front of canoe endseq'],\n",
              " '2114739371_83aa8bdb0e': ['startseq brown and black dog leaps through the freshly mown grass endseq'],\n",
              " '2115631346_9585a479b0': ['startseq brown dogs are running through the snow endseq'],\n",
              " '2115849046_2aa9fa8d13': ['startseq brown dog running on shore with boat in the background endseq'],\n",
              " '2116316160_d5fa7abdc3': ['startseq blond dog with floppy ears runs toward the camera endseq'],\n",
              " '2116444946_1f5d1fe5d1': ['startseq girl is standing outdoors with her hair blowing everywhere endseq'],\n",
              " '2119302248_72493d458c': ['startseq woman wearing mock ancient egyptian headdress endseq'],\n",
              " '2119660490_ce0d4d1f73': ['startseq brown dog is laying on his side on beige carpet with green object in the foreground endseq'],\n",
              " '211981411_e88b8043c2': ['startseq hummer is driving through mud puddle several feet deep endseq'],\n",
              " '2120469056_7a738413be': ['startseq boy in green shorts swims past boy in black shorts in an outdoor pool endseq'],\n",
              " '2120571547_05cd56de85': ['startseq woman in black sitting on train endseq'],\n",
              " '2121357310_f8235311da': ['startseq boy in swimsuit slides along stretch of wet plastic endseq'],\n",
              " '2125216241_5b265a2fbc': ['startseq blue and white sailboat sits by dock endseq'],\n",
              " '2125454445_5c5c4bf906': ['startseq black and white dog in dogshirt carrying long piece of wood endseq'],\n",
              " '2125626631_a4b63af97e': ['startseq dog catching frisbee endseq'],\n",
              " '2126950128_74a4882658': ['startseq woman in gray is smoking cigarette endseq'],\n",
              " '2127031632_77505e4218': ['startseq child in red jacket sitting on red disk in the snow endseq'],\n",
              " '2127207912_9298824e66': ['startseq two people are standing on rock holding themselves up against another rock while looking down endseq'],\n",
              " '2127209046_94711c747b': ['startseq group is walking between two giant rock formations endseq'],\n",
              " '2129430111_338a94f8fb': ['startseq backpacker is walking in front of mountain with arms crossed endseq'],\n",
              " '2130203183_49bae96b96': ['startseq brown dog sits alone in front of snowbank endseq'],\n",
              " '2130851544_d36f4f2ea6': ['startseq boy holds large icicle endseq'],\n",
              " '2130986011_47cb05c8c9': ['startseq child in orange poses in the snow riding blue sled endseq'],\n",
              " '2131762850_5293a288d9': ['startseq boy in an orange jacket appears unhappy endseq'],\n",
              " '213216174_0632af65a2': ['startseq boy dives into pool near water slide endseq'],\n",
              " '2133650765_fc6e5f295e': ['startseq boy jumps into notsocrowded public pool endseq'],\n",
              " '2135360514_7dcb9ed796': ['startseq baby in santa hat holds santa figure while laying on brown sofa endseq'],\n",
              " '2136514643_93d8f75a77': ['startseq girl on the phone standing in front of beautiful plants is passed by another smiling girl endseq'],\n",
              " '2136992638_098d62a3c5': ['startseq brown and black dog are wearing collars and playing with each other endseq'],\n",
              " '2137071442_1c9658c81a': ['startseq boy holds light saber in front of christmas tree endseq'],\n",
              " '2137789511_69a6c6afa8': ['startseq man on bicycle riding on the beach endseq'],\n",
              " '2138487671_5b89104043': ['startseq young boy jumping into lake endseq'],\n",
              " '2139519215_8ca16dd192': ['startseq girl walks next to pool endseq'],\n",
              " '2140747429_62cfd89ae9': ['startseq child in the snow with house in the background endseq'],\n",
              " '2141065212_463a6997e1': ['startseq man wearing black hat and coat makes face with crowd behind him endseq'],\n",
              " '2144049642_070cf541b4': ['startseq girl colors with markers endseq'],\n",
              " '2144050118_3e7d2e05b1': ['startseq blond girl in brown shirt with black pen up her nose endseq'],\n",
              " '2144846312_d4c738dc6c': ['startseq baby with food all over its mouth endseq'],\n",
              " '214543992_ce6c0d9f9b': ['startseq black and white dog is playing with ball on lawn endseq'],\n",
              " '2147199188_d2d70b88ec': ['startseq man holds boy upside down over pond endseq'],\n",
              " '2148013097_6a4f495bc5': ['startseq young boys looking through window endseq'],\n",
              " '2148695079_9ae6a9b1c7': ['startseq fluffy white dogs are in the snow endseq'],\n",
              " '2149968397_a7411729d1': ['startseq child is wading through water towards the beach endseq'],\n",
              " '2149982207_5345633bbf': ['startseq boy wearing black and blue life vest is on green wooden boat looking out towards the water endseq'],\n",
              " '2150564996_d173a506d7': ['startseq child in white shirt standing in field of grass endseq'],\n",
              " '2151056407_c9c09b0a02': ['startseq fluffy white dog and two white sheep smell each other endseq'],\n",
              " '2151300603_248a9fe715': ['startseq diagram of hand is displayed on wall behind which woman studies endseq'],\n",
              " '2156131463_5b53636cf0': ['startseq group of people are standing on beach near to white sunshade endseq'],\n",
              " '2156726763_034ecd2e39': ['startseq girl in pink jacket and red hat walking near grass endseq'],\n",
              " '2157003092_eaeb977789': ['startseq black dog is trying to run with its legs buried in the snow endseq'],\n",
              " '2157173498_2eea42ee38': ['startseq man is snowboarding and jumping off of snow hill endseq'],\n",
              " '2158247955_484f0a1f11': ['startseq three dogs are running down snowy track endseq'],\n",
              " '215876547_fa584c5ec3': ['startseq man is sitting in boat on the shore with the lake in the background endseq'],\n",
              " '2159447283_fab8c272b0': ['startseq girl riding toy horse in spiderman costume endseq'],\n",
              " '216172386_9ac5356dae': ['startseq bike sits atop rise with mountains in the background endseq'],\n",
              " '2161799386_27aa938421': ['startseq child is using the bathroom endseq'],\n",
              " '2162469360_ff777edc95': ['startseq man is wearing neon yellow vest while leaning over roof and another man is standing behind him endseq'],\n",
              " '2164363131_6930455d45': ['startseq dog leaps for toy on road endseq'],\n",
              " '2165459064_5b81ff23eb': ['startseq white dogs are running on the grass endseq'],\n",
              " '2169951750_495820a215': ['startseq brown dog is running across the snowy ground endseq'],\n",
              " '2171154778_8189169336': ['startseq boy in dark blue clothes is kneeling while holding toy endseq'],\n",
              " '2171576939_d1e72daab2': ['startseq baby in winter clothes plays outside endseq'],\n",
              " '2171891283_dedd9cf416': ['startseq dogs are walking on rugged path one with blue rope tied to red object in its mouth endseq'],\n",
              " '2172493537_128bc8b187': ['startseq three children are playing in fountain endseq'],\n",
              " '2172526745_649f420569': ['startseq boy wearing red shirt dumps water out of yellow bucket onto girl head endseq'],\n",
              " '2173312932_269f9786fc': ['startseq brown dog and two white dogs are bounding after ball endseq'],\n",
              " '2173677067_9d0732bcc2': ['startseq little girl dances in grassy field another girl is in the background endseq'],\n",
              " '2174206711_11cb712a8d': ['startseq asian cheerleaders are facing forward waving silver pompoms whilst other cheerleaders are performing facing the other way endseq'],\n",
              " '217583047_5e93e1e119': ['startseq man in white boat is rowing through fog endseq'],\n",
              " '2176147758_9a8deba576': ['startseq man in red jacket holds his bike for the picture endseq'],\n",
              " '2176364472_31fcd37531': ['startseq brown dog is on top of triangular structure endseq'],\n",
              " '2176874361_2b4149010b': ['startseq black dog runs in front of large brown and white bull endseq'],\n",
              " '2178064851_bb39652d28': ['startseq child in lake endseq'],\n",
              " '2178306830_6af49375b4': ['startseq person is scuba diving in very clear blue water endseq'],\n",
              " '217838128_1f0a84ddc1': ['startseq man in paddle boat on lake endseq'],\n",
              " '2180356743_b3a3c9a7f6': ['startseq boy standing and watching group of people on basketball court endseq'],\n",
              " '2180480870_dcaf5ac0df': ['startseq brown dog is about to jump endseq'],\n",
              " '2180886307_5156460b2c': ['startseq brown dog is swimming and splashing in the water endseq'],\n",
              " '2181117039_c4eea8036e': ['startseq and children in school uniforms move through flock of pigeons endseq'],\n",
              " '2181724497_dbb7fcb0a9': ['startseq girl messily eats plate of pasta endseq'],\n",
              " '2181846120_3744ca3942': ['startseq brown dog appears to be operating computer endseq'],\n",
              " '2182050469_1edac0bc60': ['startseq person crouches at the end of dock on lake endseq'],\n",
              " '218342358_1755a9cce1': ['startseq cyclist wearing red helmet is riding on the pavement endseq'],\n",
              " '2183967273_d182e18cf6': ['startseq brown and black dog laying on grey plushie in front of tv showing breaking news endseq'],\n",
              " '2186087673_c7a73da7ce': ['startseq boy is laying his head on the lap of the person who is sitting at desk endseq'],\n",
              " '2186139563_e60c1d4b8b': ['startseq dog chases red ball endseq'],\n",
              " '2186367337_0ce9ce2104': ['startseq black dog runs through the black mud endseq'],\n",
              " '2187222896_c206d63396': ['startseq boy in red shirt in front of long blue wall raises his eyebrow at the camera endseq'],\n",
              " '2187904131_96ea83b9b5': ['startseq are walking through the snow near the mountains endseq'],\n",
              " '2188192752_09d9fc5431': ['startseq boy runs in race while onlookers watch endseq'],\n",
              " '2188688248_f57a28a5a7': ['startseq shot of ski resort next to mountain endseq'],\n",
              " '2190227737_6e0bde2623': ['startseq girl holds something while three dogs beg endseq'],\n",
              " '2191329761_3effd856c5': ['startseq race on track endseq'],\n",
              " '2191453879_11dfe2ba3a': ['startseq boy running through grassy area in park endseq'],\n",
              " '2192026581_b782d1355a': ['startseq bunch of people swimming in water endseq'],\n",
              " '2192411521_9c7e488c5e': ['startseq bearded man wearing bandanna is pointing his finger whilst riding bicycle endseq'],\n",
              " '2192475933_d779bf42eb': ['startseq boy in wetsuit on crowded beach endseq'],\n",
              " '2192802444_b14bb87b95': ['startseq group of mostly nude children playing on bridge over some water endseq'],\n",
              " '219301553_d2fffe9e0c': ['startseq group of people are crossing river endseq'],\n",
              " '2193223202_4d908c0450': ['startseq boy takes football from another boy endseq'],\n",
              " '2194495372_bdac7d9e71': ['startseq and adults at soccer game endseq'],\n",
              " '2194806429_ca4c3770c1': ['startseq two girls ride together on the bicycle while sightseeing endseq'],\n",
              " '2195419145_36722e8d54': ['startseq business man and security guard are smiling and talking outside glass building endseq'],\n",
              " '2195620255_6693479734': ['startseq brown dogs trot along frozen ground in rural setting endseq'],\n",
              " '2195887578_3ba2f29b48': ['startseq two men wearing ties stand in front of the sound of kildare bus endseq'],\n",
              " '2196050115_e236d91f52': ['startseq boy is aiming bow and arrow at target endseq'],\n",
              " '2196284168_76417efbec': ['startseq baby boy sucks on the sweater arm of the woman holding him endseq'],\n",
              " '219730733_6a55382dd2': ['startseq man is helping young girl off ride at an amusement park endseq'],\n",
              " '219843859_94b6d0a580': ['startseq man climbing cliff face endseq'],\n",
              " '219843860_332e5ca7d4': ['startseq climber is reaching for large crack in the rock face endseq'],\n",
              " '2198484810_50a893824a': ['startseq brown dog is running through an obstacle course endseq'],\n",
              " '2198494923_8159551be4': ['startseq girl falling down in the snow as another looks on endseq'],\n",
              " '2198964806_c57b0534d3': ['startseq brown and white dog is jumping up with stick in its mouth endseq'],\n",
              " '2199200615_85e4c2a602': ['startseq dog running on green grass with its mouth open and tongue hanging out endseq'],\n",
              " '2199250692_a16b0c2ae1': ['startseq man is pulling cart on wheels loaded with nets and is in front of the ocean blue company endseq'],\n",
              " '2199793371_343809ff70': ['startseq brown and white dog plays with soccer ball on snowy ground endseq'],\n",
              " '2200901777_f6c168bd32': ['startseq closeup of teenage girl wearing red beads endseq'],\n",
              " '2201222219_8d656b0633': ['startseq boy is sitting on brightly colored chair next to child book playing guitar endseq'],\n",
              " '2201951969_0d7520d648': ['startseq female surfer endseq'],\n",
              " '2201978994_c444e64810': ['startseq children in the woods near pond endseq'],\n",
              " '2203286182_b453e9d176': ['startseq black dog about to catch flying disc endseq'],\n",
              " '2203449950_e51d0f9065': ['startseq girl in frilly pink dress dancing on grass endseq'],\n",
              " '2204277704_f1c8c741ed': ['startseq boy in fancy living room jumps from couch to couch endseq'],\n",
              " '2204777844_1bcf26bf84': ['startseq child in red is guided by an adult endseq'],\n",
              " '2205088706_d7e633e00d': ['startseq boy in red jacket is jumping in the sand endseq'],\n",
              " '2205328215_3ffc094cde': ['startseq long bicyclist wearing white helmet riding down mountain path endseq'],\n",
              " '2205336881_d9ee4179d3': ['startseq little girl in pajamas takes picture with camera endseq'],\n",
              " '2206403470_8c25aa3cf8': ['startseq little jewish boy is watching an old man playing the violin in park endseq'],\n",
              " '2206594874_5e0087c6b7': ['startseq couple sits at cramped table in busy restaurant endseq'],\n",
              " '2206600240_f65df56a09': ['startseq elderly lady and middleaged man talk over table endseq'],\n",
              " '2208055895_37cd8e1edf': ['startseq boy stands inside halfcompleted igloo endseq'],\n",
              " '2208631481_3e4a5675e1': ['startseq black dog is running across field endseq'],\n",
              " '2209496328_2a34fd201d': ['startseq golden labrador is swimming through water with red toy in its mouth endseq'],\n",
              " '2209888959_d636b1be0b': ['startseq girl in bathing suit carries paddle endseq'],\n",
              " '2211593099_4a4f1c85d2': ['startseq group of boys pose for picture endseq'],\n",
              " '2212472643_80238475b5': ['startseq baby in campflauge crawls on clean hardwood floor endseq'],\n",
              " '2213113526_beeb4f9bdc': ['startseq woman holding and posing an infant dressed in hawaiin shirt on skateboard endseq'],\n",
              " '2214132302_80064fd79d': ['startseq lady in orange is running endseq'],\n",
              " '2214847438_4993210d4c': ['startseq dark haired boy in gold shirt is inside piece of blue plastic play equipment endseq'],\n",
              " '2215165918_2bf5b659dd': ['startseq dog with tiger colorings steps into the water endseq'],\n",
              " '2216568822_84c295c3b0': ['startseq roller derby woman wearing helmet has tattoo of white indian pulling back bow endseq'],\n",
              " '2217728745_92b6779016': ['startseq bald headed man is standing by the beer pumps at the bar endseq'],\n",
              " '2218334049_e649dbdb1a': ['startseq black and brown dog is standing outdoors at night endseq'],\n",
              " '2218519240_cac5aab53c': ['startseq man is wearing protective hair and face coverings endseq'],\n",
              " '2218743570_9d6614c51c': ['startseq black cat hugging white and gray dog endseq'],\n",
              " '221973402_ecb1cd51f1': ['startseq black dog chases boy wearing red and blue endseq'],\n",
              " '2219805467_370ee1b7aa': ['startseq brown dog on the beach with yellow ball in his mouth endseq'],\n",
              " '2219805677_7b7cc188c7': ['startseq dog gets ready to catch yellow ball while standing in the sand endseq'],\n",
              " '2219959872_988e6d498e': ['startseq man and two kids standing in front of an ancient building endseq'],\n",
              " '2220175999_081aa9cce8': ['startseq big dogs wade in the ocean endseq'],\n",
              " '2220185725_45d4fa68d9': ['startseq man watching two dogs in the water endseq'],\n",
              " '2220612655_030413b787': ['startseq brown and white dog is running through an uncut field that has mushrooms endseq'],\n",
              " '2222498879_9e82a100ab': ['startseq black and brown dog running in field endseq'],\n",
              " '2222559267_6fd31e3941': ['startseq man and little girl walking down the street endseq'],\n",
              " '2223382277_9efa58ec45': ['startseq boy in red uniform plays hockey outside endseq'],\n",
              " '222369445_5b6af347dd': ['startseq man is carrying surfboard along stone wall that leads to the ocean endseq'],\n",
              " '2224995194_518859d97d': ['startseq rock climbers are on their equipment in front of cave endseq'],\n",
              " '2225241766_f1e7132e3e': ['startseq man in jeans lying down on pole outdoors endseq'],\n",
              " '2226440063_c085b30558': ['startseq black and white dog frolics in the snow endseq'],\n",
              " '2226534154_cbcab7ba32': ['startseq woman in purple dress plays with her hair while waiting in lobby endseq'],\n",
              " '2226587791_66e29dd01d': ['startseq baby swimming in pool held up by an adult endseq'],\n",
              " '222759342_98294380fc': ['startseq child stoops to pick up watermelon from large pile of them endseq'],\n",
              " '2228167286_7089ab236a': ['startseq baby with an airplane on his shirt sits in high chair endseq'],\n",
              " '222878446_32c6fc4bc9': ['startseq bald men on park bench wearing small yellow traffic cones endseq'],\n",
              " '2229177914_3308fe7d20': ['startseq brown dog is jumping over pole with fire on the ends endseq'],\n",
              " '2229509318_be3fef006b': ['startseq brown dog is jumping in the air near pinkcoated girl endseq'],\n",
              " '2230067846_74046b89d3': ['startseq stretch outside endseq'],\n",
              " '2231847779_1148d1c919': ['startseq baby sits in black and white chair and puts its fingers up its nose endseq'],\n",
              " '2232518012_8cb0bbc43b': ['startseq group of greyhound dogs in race leaving the gate endseq'],\n",
              " '223299137_b0e81ac145': ['startseq beautiful sunset with three people in boat on the lake endseq'],\n",
              " '2233426944_0959835ced': ['startseq group of dogs run down dry field endseq'],\n",
              " '2234702530_a265a4df22': ['startseq man in black jacket and jeans stands in front of brick wall endseq'],\n",
              " '2234910971_80e0325918': ['startseq people are walking in desert endseq'],\n",
              " '2236016316_f476cbbf06': ['startseq young girl in green shirt is running in gym endseq'],\n",
              " '2238166082_140f8b01b8': ['startseq child in purple winter gear is on red sled endseq'],\n",
              " '2240539658_dea8db6e55': ['startseq brown and black dog are fighting on snow endseq'],\n",
              " '2241768909_3d96d48417': ['startseq guy is staring at blonde lady in blue jacket endseq'],\n",
              " '2242178517_2325b85e5f': ['startseq little girl is shoveling snow endseq'],\n",
              " '224273695_0b517bd0eb': ['startseq beautiful view of the mountains on snowy day endseq'],\n",
              " '2242863004_3a9f82a31f': ['startseq dog attempting to chew on red ball endseq'],\n",
              " '2243904502_2d265fed80': ['startseq dog running with toy in his mouth endseq'],\n",
              " '2244024374_54d7e88c2b': ['startseq brown and black and brown dog are playing in the water and the black one is carrying long stick in its mouth endseq'],\n",
              " '2244171992_a4beb04d8e': ['startseq group of school children walking around outside in their uniforms endseq'],\n",
              " '2244551043_21b8cca866': ['startseq people are lining up to purchase tickets at the theater endseq'],\n",
              " '2244613488_4d1f9edb33': ['startseq bicyclists ride along dirt road between two wire fences endseq'],\n",
              " '2245348304_08bc5642f1': ['startseq man in hat sits outside near some cardboard boxes endseq'],\n",
              " '2245618207_fa486ba2b7': ['startseq child in red jumps on red object while others laugh endseq'],\n",
              " '2245914678_1f82fc3d80': ['startseq girl with dyed red hair wearing striped clothing talking on cellphone endseq'],\n",
              " '2245916742_73af13c733': ['startseq man in green holding camera stands between two of the head statues on easter island endseq'],\n",
              " '2246717855_c0c08fe5d2': ['startseq crowd of young people in winter clothing waiting for the train endseq'],\n",
              " '224702241_05af393148': ['startseq blond dog walks in creek with banks filled with snow endseq'],\n",
              " '224702242_a62aaa6dff': ['startseq white dog catching soccer ball midair endseq'],\n",
              " '2247138288_7355861203': ['startseq in winter jackets and hats swing brooms at little yellow ball while black dog looks on endseq'],\n",
              " '2247192427_5e106f24a9': ['startseq play basketball on court endseq'],\n",
              " '224766705_b77996527f': ['startseq caravan of green and red vehicles going up mountain endseq'],\n",
              " '2249141510_f534708374': ['startseq boy in red is jumping in playground sand pit endseq'],\n",
              " '2249264723_d08655d9f2': ['startseq boy jumps on the bright colored pillows endseq'],\n",
              " '2249865945_f432c8e5da': ['startseq dog plays in the snow endseq'],\n",
              " '2250555512_71670078f5': ['startseq dark haired man in his twenties drinks green liquid from plastic mug endseq'],\n",
              " '2250870111_8402d2319d': ['startseq person is reading magazine on snowing sidewalk endseq'],\n",
              " '2251418114_2b0cd4c139': ['startseq boy stands on rocky mountain endseq'],\n",
              " '2251447809_2de73afcdf': ['startseq man dressed in black walks on an icy sidewalk endseq'],\n",
              " '2251992614_0c601fae2c': ['startseq busy street of people and two men are wearing no shirts endseq'],\n",
              " '2252123185_487f21e336': ['startseq bunch on people are seated in stadium endseq'],\n",
              " '2252264255_03fefc25af': ['startseq boys eating apples playing on cement car barrier endseq'],\n",
              " '2252299132_14ca6e584b': ['startseq boy walks endseq'],\n",
              " '2252403744_148fc11f68': ['startseq asian girl and boy playing on with yellow ball on black and white floor endseq'],\n",
              " '2252635585_b48b3485b0': ['startseq big dogs play in the snow under tree endseq'],\n",
              " '2254913901_569f568926': ['startseq louis vuitton store window at night endseq'],\n",
              " '2255266906_8222af18b9': ['startseq bird sits in leafless tree endseq'],\n",
              " '2255332561_3375897ff0': ['startseq lone man climbing the side of large rock wall endseq'],\n",
              " '2255338013_566127590b': ['startseq man is abseiling down cliff over the ocean endseq'],\n",
              " '2255342813_5b2ac6d633': ['startseq person climbing down rocky cliffside with water below endseq'],\n",
              " '2255685792_f70474c6db': ['startseq individuals are posing on skis behind no skiing sign endseq'],\n",
              " '2256138896_3e24b0b28d': ['startseq man does technical rock climbing endseq'],\n",
              " '2256218522_53b92bcbb2': ['startseq black and white dog is running through the sand at beach endseq'],\n",
              " '2256231539_05c27179f1': ['startseq child holds football and runs from other children endseq'],\n",
              " '2256320794_0286c31bfa': ['startseq dog is waling on sand endseq'],\n",
              " '2257099774_37d0d3aa9a': ['startseq elderly asian woman wearing blue winter coat and red hat in front of food counter endseq'],\n",
              " '2257294002_0073263c54': ['startseq children of family play while they wait endseq'],\n",
              " '2257631407_1529b9db39': ['startseq couple of playful kids in sweats and jeans romp on the grass endseq'],\n",
              " '2257798999_d9d1b9a45a': ['startseq the brown dog looks the other way large black and white dog plays with smaller black dog endseq'],\n",
              " '2258662398_2797d0eca8': ['startseq child in black wetsuit is in the waves on surfboard endseq'],\n",
              " ...}"
            ]
          },
          "metadata": {},
          "execution_count": 61
        }
      ]
    },
    {
      "cell_type": "code",
      "source": [
        "tokenizer = create_tokenizer(train_descriptions)\n",
        "vocab_size = len(tokenizer.word_index) + 1\n",
        "print('Vocabulary Size: %d' % vocab_size)\n",
        "# determine the maximum sequence length\n",
        "max_length = max_length_cal(train_descriptions)\n",
        "print('Description Length: %d' % max_length)\n",
        "# prepare sequences\n",
        "X1train, X2train, ytrain = create_sequences(tokenizer, max_length, train_descriptions,\n",
        "train_features)"
      ],
      "metadata": {
        "id": "8NjQe9Dd-jg2",
        "colab": {
          "base_uri": "https://localhost:8080/"
        },
        "outputId": "3792f7cf-8c20-475f-d6cd-1ded2787c86d"
      },
      "execution_count": 25,
      "outputs": [
        {
          "output_type": "stream",
          "name": "stdout",
          "text": [
            "Vocabulary Size: 3831\n",
            "Description Length: 30\n"
          ]
        }
      ]
    },
    {
      "cell_type": "code",
      "source": [],
      "metadata": {
        "id": "QSce4qCE_Sm-"
      },
      "execution_count": null,
      "outputs": []
    },
    {
      "cell_type": "code",
      "source": [
        "#phots          padded/input words   next word to be predicted.\n",
        "#one photo is associated with 30-words\n",
        "X1train.shape , X2train.shape, ytrain.shape"
      ],
      "metadata": {
        "colab": {
          "base_uri": "https://localhost:8080/"
        },
        "id": "eTIjErH07Ogd",
        "outputId": "db8e7a50-a070-4933-cc91-c7b32e2a3795"
      },
      "execution_count": null,
      "outputs": [
        {
          "output_type": "execute_result",
          "data": {
            "text/plain": [
              "((60537, 1000), (60537, 30), (60537, 3831))"
            ]
          },
          "metadata": {},
          "execution_count": 56
        }
      ]
    },
    {
      "cell_type": "code",
      "source": [
        "X1train, X2train,ytrain"
      ],
      "metadata": {
        "colab": {
          "base_uri": "https://localhost:8080/"
        },
        "id": "vLFzrGs819gQ",
        "outputId": "bc9b4264-c0d0-4eff-9fe5-8fb16094c17e"
      },
      "execution_count": null,
      "outputs": [
        {
          "output_type": "execute_result",
          "data": {
            "text/plain": [
              "(array([[6.5925674e-06, 2.2863829e-05, 4.8247157e-06, ..., 2.5610643e-05,\n",
              "         1.2180602e-04, 3.6955906e-05],\n",
              "        [6.5925674e-06, 2.2863829e-05, 4.8247157e-06, ..., 2.5610643e-05,\n",
              "         1.2180602e-04, 3.6955906e-05],\n",
              "        [6.5925674e-06, 2.2863829e-05, 4.8247157e-06, ..., 2.5610643e-05,\n",
              "         1.2180602e-04, 3.6955906e-05],\n",
              "        ...,\n",
              "        [2.1052497e-08, 2.1417047e-06, 1.4036571e-07, ..., 4.4708082e-07,\n",
              "         6.2675088e-07, 9.2591719e-05],\n",
              "        [2.1052497e-08, 2.1417047e-06, 1.4036571e-07, ..., 4.4708082e-07,\n",
              "         6.2675088e-07, 9.2591719e-05],\n",
              "        [2.1052497e-08, 2.1417047e-06, 1.4036571e-07, ..., 4.4708082e-07,\n",
              "         6.2675088e-07, 9.2591719e-05]], dtype=float32),\n",
              " array([[   0,    0,    0, ...,    0,    0,    1],\n",
              "        [   0,    0,    0, ...,    0,    1,   38],\n",
              "        [   0,    0,    0, ...,    1,   38,    3],\n",
              "        ...,\n",
              "        [   0,    0,    0, ...,   60,   74,   71],\n",
              "        [   0,    0,    0, ...,   74,   71,  455],\n",
              "        [   0,    0,    0, ...,   71,  455, 1922]], dtype=int32),\n",
              " array([[0., 0., 0., ..., 0., 0., 0.],\n",
              "        [0., 0., 0., ..., 0., 0., 0.],\n",
              "        [0., 0., 0., ..., 0., 0., 0.],\n",
              "        ...,\n",
              "        [0., 0., 0., ..., 0., 0., 0.],\n",
              "        [0., 0., 0., ..., 0., 0., 0.],\n",
              "        [0., 0., 1., ..., 0., 0., 0.]]))"
            ]
          },
          "metadata": {},
          "execution_count": 28
        }
      ]
    },
    {
      "cell_type": "code",
      "source": [
        "# load test set\n",
        "filename = ('Flickr_8k_devImages.txt')\n",
        "test = load_set(filename)\n",
        "print('Dataset: %d' % len(test))\n",
        "# descriptions\n",
        "test_descriptions = load_clean_descriptions('descriptions.txt', test)\n",
        "print('Descriptions: test=%d' % len(test_descriptions))\n",
        "# photo features\n",
        "test_features = load_photo_features('features.pkl', test)\n",
        "print('Photos: test=%d' % len(test_features))\n",
        "# prepare sequences\n",
        "X1test, X2test, ytest = create_sequences(tokenizer, max_length, test_descriptions,\n",
        "                                            test_features)\n"
      ],
      "metadata": {
        "colab": {
          "base_uri": "https://localhost:8080/"
        },
        "id": "l-vEuDHex_fV",
        "outputId": "5673dd4e-32f9-40e9-f656-72b6c126b0d0"
      },
      "execution_count": 26,
      "outputs": [
        {
          "output_type": "stream",
          "name": "stdout",
          "text": [
            "Dataset: 1000\n",
            "Descriptions: test=1000\n",
            "Photos: test=1000\n"
          ]
        }
      ]
    },
    {
      "cell_type": "code",
      "source": [
        "plot_model(model,dpi=100, show_shapes=True)"
      ],
      "metadata": {
        "colab": {
          "base_uri": "https://localhost:8080/",
          "height": 961
        },
        "id": "PI5_nLDF35zX",
        "outputId": "5f197302-087c-4aa3-ff9f-7155724f99c9"
      },
      "execution_count": null,
      "outputs": [
        {
          "output_type": "execute_result",
          "data": {
            "image/png": "[encoded data removed]",
            "text/plain": [
              "<IPython.core.display.Image object>"
            ]
          },
          "metadata": {},
          "execution_count": 38
        }
      ]
    },
    {
      "cell_type": "code",
      "source": [
        "# define the model\n",
        "model = define_model(vocab_size, max_length)\n",
        "# define checkpoint callback\n",
        "checkpoint = ModelCheckpoint('image_caption.keras', monitor='val_loss', verbose=1,\n",
        "save_best_only=True, mode='min')\n",
        "# fit model\n",
        "model.fit([X1train, X2train], ytrain, epochs=20, verbose=2, callbacks=[checkpoint],\n",
        "validation_data=([X1test, X2test], ytest))\n"
      ],
      "metadata": {
        "colab": {
          "base_uri": "https://localhost:8080/",
          "height": 1000
        },
        "id": "ofTB2tiMx_cw",
        "outputId": "99804da1-81cd-49b3-b64b-5a00c0d30789"
      },
      "execution_count": 27,
      "outputs": [
        {
          "output_type": "display_data",
          "data": {
            "text/plain": [
              "\u001b[1mModel: \"functional_2\"\u001b[0m\n"
            ],
            "text/html": [
              "<pre style=\"white-space:pre;overflow-x:auto;line-height:normal;font-family:Menlo,'DejaVu Sans Mono',consolas,'Courier New',monospace\"><span style=\"font-weight: bold\">Model: \"functional_2\"</span>\n",
              "</pre>\n"
            ]
          },
          "metadata": {}
        },
        {
          "output_type": "display_data",
          "data": {
            "text/plain": [
              "┏━━━━━━━━━━━━━━━━━━━━━━━━━━━┳━━━━━━━━━━━━━━━━━━━━━━━━┳━━━━━━━━━━━━━━━━┳━━━━━━━━━━━━━━━━━━━━━━━━┓\n",
              "┃\u001b[1m \u001b[0m\u001b[1mLayer (type)             \u001b[0m\u001b[1m \u001b[0m┃\u001b[1m \u001b[0m\u001b[1mOutput Shape          \u001b[0m\u001b[1m \u001b[0m┃\u001b[1m \u001b[0m\u001b[1m       Param #\u001b[0m\u001b[1m \u001b[0m┃\u001b[1m \u001b[0m\u001b[1mConnected to          \u001b[0m\u001b[1m \u001b[0m┃\n",
              "┡━━━━━━━━━━━━━━━━━━━━━━━━━━━╇━━━━━━━━━━━━━━━━━━━━━━━━╇━━━━━━━━━━━━━━━━╇━━━━━━━━━━━━━━━━━━━━━━━━┩\n",
              "│ input_layer_5             │ (\u001b[38;5;45mNone\u001b[0m, \u001b[38;5;34m30\u001b[0m)             │              \u001b[38;5;34m0\u001b[0m │ -                      │\n",
              "│ (\u001b[38;5;33mInputLayer\u001b[0m)              │                        │                │                        │\n",
              "├───────────────────────────┼────────────────────────┼────────────────┼────────────────────────┤\n",
              "│ input_layer_4             │ (\u001b[38;5;45mNone\u001b[0m, \u001b[38;5;34m1000\u001b[0m)           │              \u001b[38;5;34m0\u001b[0m │ -                      │\n",
              "│ (\u001b[38;5;33mInputLayer\u001b[0m)              │                        │                │                        │\n",
              "├───────────────────────────┼────────────────────────┼────────────────┼────────────────────────┤\n",
              "│ embedding_2 (\u001b[38;5;33mEmbedding\u001b[0m)   │ (\u001b[38;5;45mNone\u001b[0m, \u001b[38;5;34m30\u001b[0m, \u001b[38;5;34m256\u001b[0m)        │        \u001b[38;5;34m980,736\u001b[0m │ input_layer_5[\u001b[38;5;34m0\u001b[0m][\u001b[38;5;34m0\u001b[0m]    │\n",
              "├───────────────────────────┼────────────────────────┼────────────────┼────────────────────────┤\n",
              "│ dropout_4 (\u001b[38;5;33mDropout\u001b[0m)       │ (\u001b[38;5;45mNone\u001b[0m, \u001b[38;5;34m1000\u001b[0m)           │              \u001b[38;5;34m0\u001b[0m │ input_layer_4[\u001b[38;5;34m0\u001b[0m][\u001b[38;5;34m0\u001b[0m]    │\n",
              "├───────────────────────────┼────────────────────────┼────────────────┼────────────────────────┤\n",
              "│ dropout_5 (\u001b[38;5;33mDropout\u001b[0m)       │ (\u001b[38;5;45mNone\u001b[0m, \u001b[38;5;34m30\u001b[0m, \u001b[38;5;34m256\u001b[0m)        │              \u001b[38;5;34m0\u001b[0m │ embedding_2[\u001b[38;5;34m0\u001b[0m][\u001b[38;5;34m0\u001b[0m]      │\n",
              "├───────────────────────────┼────────────────────────┼────────────────┼────────────────────────┤\n",
              "│ not_equal_2 (\u001b[38;5;33mNotEqual\u001b[0m)    │ (\u001b[38;5;45mNone\u001b[0m, \u001b[38;5;34m30\u001b[0m)             │              \u001b[38;5;34m0\u001b[0m │ input_layer_5[\u001b[38;5;34m0\u001b[0m][\u001b[38;5;34m0\u001b[0m]    │\n",
              "├───────────────────────────┼────────────────────────┼────────────────┼────────────────────────┤\n",
              "│ dense_6 (\u001b[38;5;33mDense\u001b[0m)           │ (\u001b[38;5;45mNone\u001b[0m, \u001b[38;5;34m256\u001b[0m)            │        \u001b[38;5;34m256,256\u001b[0m │ dropout_4[\u001b[38;5;34m0\u001b[0m][\u001b[38;5;34m0\u001b[0m]        │\n",
              "├───────────────────────────┼────────────────────────┼────────────────┼────────────────────────┤\n",
              "│ lstm_2 (\u001b[38;5;33mLSTM\u001b[0m)             │ (\u001b[38;5;45mNone\u001b[0m, \u001b[38;5;34m256\u001b[0m)            │        \u001b[38;5;34m525,312\u001b[0m │ dropout_5[\u001b[38;5;34m0\u001b[0m][\u001b[38;5;34m0\u001b[0m],       │\n",
              "│                           │                        │                │ not_equal_2[\u001b[38;5;34m0\u001b[0m][\u001b[38;5;34m0\u001b[0m]      │\n",
              "├───────────────────────────┼────────────────────────┼────────────────┼────────────────────────┤\n",
              "│ add_2 (\u001b[38;5;33mAdd\u001b[0m)               │ (\u001b[38;5;45mNone\u001b[0m, \u001b[38;5;34m256\u001b[0m)            │              \u001b[38;5;34m0\u001b[0m │ dense_6[\u001b[38;5;34m0\u001b[0m][\u001b[38;5;34m0\u001b[0m],         │\n",
              "│                           │                        │                │ lstm_2[\u001b[38;5;34m0\u001b[0m][\u001b[38;5;34m0\u001b[0m]           │\n",
              "├───────────────────────────┼────────────────────────┼────────────────┼────────────────────────┤\n",
              "│ dense_7 (\u001b[38;5;33mDense\u001b[0m)           │ (\u001b[38;5;45mNone\u001b[0m, \u001b[38;5;34m256\u001b[0m)            │         \u001b[38;5;34m65,792\u001b[0m │ add_2[\u001b[38;5;34m0\u001b[0m][\u001b[38;5;34m0\u001b[0m]            │\n",
              "├───────────────────────────┼────────────────────────┼────────────────┼────────────────────────┤\n",
              "│ dense_8 (\u001b[38;5;33mDense\u001b[0m)           │ (\u001b[38;5;45mNone\u001b[0m, \u001b[38;5;34m3831\u001b[0m)           │        \u001b[38;5;34m984,567\u001b[0m │ dense_7[\u001b[38;5;34m0\u001b[0m][\u001b[38;5;34m0\u001b[0m]          │\n",
              "└───────────────────────────┴────────────────────────┴────────────────┴────────────────────────┘\n"
            ],
            "text/html": [
              "<pre style=\"white-space:pre;overflow-x:auto;line-height:normal;font-family:Menlo,'DejaVu Sans Mono',consolas,'Courier New',monospace\">┏━━━━━━━━━━━━━━━━━━━━━━━━━━━┳━━━━━━━━━━━━━━━━━━━━━━━━┳━━━━━━━━━━━━━━━━┳━━━━━━━━━━━━━━━━━━━━━━━━┓\n",
              "┃<span style=\"font-weight: bold\"> Layer (type)              </span>┃<span style=\"font-weight: bold\"> Output Shape           </span>┃<span style=\"font-weight: bold\">        Param # </span>┃<span style=\"font-weight: bold\"> Connected to           </span>┃\n",
              "┡━━━━━━━━━━━━━━━━━━━━━━━━━━━╇━━━━━━━━━━━━━━━━━━━━━━━━╇━━━━━━━━━━━━━━━━╇━━━━━━━━━━━━━━━━━━━━━━━━┩\n",
              "│ input_layer_5             │ (<span style=\"color: #00d7ff; text-decoration-color: #00d7ff\">None</span>, <span style=\"color: #00af00; text-decoration-color: #00af00\">30</span>)             │              <span style=\"color: #00af00; text-decoration-color: #00af00\">0</span> │ -                      │\n",
              "│ (<span style=\"color: #0087ff; text-decoration-color: #0087ff\">InputLayer</span>)              │                        │                │                        │\n",
              "├───────────────────────────┼────────────────────────┼────────────────┼────────────────────────┤\n",
              "│ input_layer_4             │ (<span style=\"color: #00d7ff; text-decoration-color: #00d7ff\">None</span>, <span style=\"color: #00af00; text-decoration-color: #00af00\">1000</span>)           │              <span style=\"color: #00af00; text-decoration-color: #00af00\">0</span> │ -                      │\n",
              "│ (<span style=\"color: #0087ff; text-decoration-color: #0087ff\">InputLayer</span>)              │                        │                │                        │\n",
              "├───────────────────────────┼────────────────────────┼────────────────┼────────────────────────┤\n",
              "│ embedding_2 (<span style=\"color: #0087ff; text-decoration-color: #0087ff\">Embedding</span>)   │ (<span style=\"color: #00d7ff; text-decoration-color: #00d7ff\">None</span>, <span style=\"color: #00af00; text-decoration-color: #00af00\">30</span>, <span style=\"color: #00af00; text-decoration-color: #00af00\">256</span>)        │        <span style=\"color: #00af00; text-decoration-color: #00af00\">980,736</span> │ input_layer_5[<span style=\"color: #00af00; text-decoration-color: #00af00\">0</span>][<span style=\"color: #00af00; text-decoration-color: #00af00\">0</span>]    │\n",
              "├───────────────────────────┼────────────────────────┼────────────────┼────────────────────────┤\n",
              "│ dropout_4 (<span style=\"color: #0087ff; text-decoration-color: #0087ff\">Dropout</span>)       │ (<span style=\"color: #00d7ff; text-decoration-color: #00d7ff\">None</span>, <span style=\"color: #00af00; text-decoration-color: #00af00\">1000</span>)           │              <span style=\"color: #00af00; text-decoration-color: #00af00\">0</span> │ input_layer_4[<span style=\"color: #00af00; text-decoration-color: #00af00\">0</span>][<span style=\"color: #00af00; text-decoration-color: #00af00\">0</span>]    │\n",
              "├───────────────────────────┼────────────────────────┼────────────────┼────────────────────────┤\n",
              "│ dropout_5 (<span style=\"color: #0087ff; text-decoration-color: #0087ff\">Dropout</span>)       │ (<span style=\"color: #00d7ff; text-decoration-color: #00d7ff\">None</span>, <span style=\"color: #00af00; text-decoration-color: #00af00\">30</span>, <span style=\"color: #00af00; text-decoration-color: #00af00\">256</span>)        │              <span style=\"color: #00af00; text-decoration-color: #00af00\">0</span> │ embedding_2[<span style=\"color: #00af00; text-decoration-color: #00af00\">0</span>][<span style=\"color: #00af00; text-decoration-color: #00af00\">0</span>]      │\n",
              "├───────────────────────────┼────────────────────────┼────────────────┼────────────────────────┤\n",
              "│ not_equal_2 (<span style=\"color: #0087ff; text-decoration-color: #0087ff\">NotEqual</span>)    │ (<span style=\"color: #00d7ff; text-decoration-color: #00d7ff\">None</span>, <span style=\"color: #00af00; text-decoration-color: #00af00\">30</span>)             │              <span style=\"color: #00af00; text-decoration-color: #00af00\">0</span> │ input_layer_5[<span style=\"color: #00af00; text-decoration-color: #00af00\">0</span>][<span style=\"color: #00af00; text-decoration-color: #00af00\">0</span>]    │\n",
              "├───────────────────────────┼────────────────────────┼────────────────┼────────────────────────┤\n",
              "│ dense_6 (<span style=\"color: #0087ff; text-decoration-color: #0087ff\">Dense</span>)           │ (<span style=\"color: #00d7ff; text-decoration-color: #00d7ff\">None</span>, <span style=\"color: #00af00; text-decoration-color: #00af00\">256</span>)            │        <span style=\"color: #00af00; text-decoration-color: #00af00\">256,256</span> │ dropout_4[<span style=\"color: #00af00; text-decoration-color: #00af00\">0</span>][<span style=\"color: #00af00; text-decoration-color: #00af00\">0</span>]        │\n",
              "├───────────────────────────┼────────────────────────┼────────────────┼────────────────────────┤\n",
              "│ lstm_2 (<span style=\"color: #0087ff; text-decoration-color: #0087ff\">LSTM</span>)             │ (<span style=\"color: #00d7ff; text-decoration-color: #00d7ff\">None</span>, <span style=\"color: #00af00; text-decoration-color: #00af00\">256</span>)            │        <span style=\"color: #00af00; text-decoration-color: #00af00\">525,312</span> │ dropout_5[<span style=\"color: #00af00; text-decoration-color: #00af00\">0</span>][<span style=\"color: #00af00; text-decoration-color: #00af00\">0</span>],       │\n",
              "│                           │                        │                │ not_equal_2[<span style=\"color: #00af00; text-decoration-color: #00af00\">0</span>][<span style=\"color: #00af00; text-decoration-color: #00af00\">0</span>]      │\n",
              "├───────────────────────────┼────────────────────────┼────────────────┼────────────────────────┤\n",
              "│ add_2 (<span style=\"color: #0087ff; text-decoration-color: #0087ff\">Add</span>)               │ (<span style=\"color: #00d7ff; text-decoration-color: #00d7ff\">None</span>, <span style=\"color: #00af00; text-decoration-color: #00af00\">256</span>)            │              <span style=\"color: #00af00; text-decoration-color: #00af00\">0</span> │ dense_6[<span style=\"color: #00af00; text-decoration-color: #00af00\">0</span>][<span style=\"color: #00af00; text-decoration-color: #00af00\">0</span>],         │\n",
              "│                           │                        │                │ lstm_2[<span style=\"color: #00af00; text-decoration-color: #00af00\">0</span>][<span style=\"color: #00af00; text-decoration-color: #00af00\">0</span>]           │\n",
              "├───────────────────────────┼────────────────────────┼────────────────┼────────────────────────┤\n",
              "│ dense_7 (<span style=\"color: #0087ff; text-decoration-color: #0087ff\">Dense</span>)           │ (<span style=\"color: #00d7ff; text-decoration-color: #00d7ff\">None</span>, <span style=\"color: #00af00; text-decoration-color: #00af00\">256</span>)            │         <span style=\"color: #00af00; text-decoration-color: #00af00\">65,792</span> │ add_2[<span style=\"color: #00af00; text-decoration-color: #00af00\">0</span>][<span style=\"color: #00af00; text-decoration-color: #00af00\">0</span>]            │\n",
              "├───────────────────────────┼────────────────────────┼────────────────┼────────────────────────┤\n",
              "│ dense_8 (<span style=\"color: #0087ff; text-decoration-color: #0087ff\">Dense</span>)           │ (<span style=\"color: #00d7ff; text-decoration-color: #00d7ff\">None</span>, <span style=\"color: #00af00; text-decoration-color: #00af00\">3831</span>)           │        <span style=\"color: #00af00; text-decoration-color: #00af00\">984,567</span> │ dense_7[<span style=\"color: #00af00; text-decoration-color: #00af00\">0</span>][<span style=\"color: #00af00; text-decoration-color: #00af00\">0</span>]          │\n",
              "└───────────────────────────┴────────────────────────┴────────────────┴────────────────────────┘\n",
              "</pre>\n"
            ]
          },
          "metadata": {}
        },
        {
          "output_type": "display_data",
          "data": {
            "text/plain": [
              "\u001b[1m Total params: \u001b[0m\u001b[38;5;34m2,812,663\u001b[0m (10.73 MB)\n"
            ],
            "text/html": [
              "<pre style=\"white-space:pre;overflow-x:auto;line-height:normal;font-family:Menlo,'DejaVu Sans Mono',consolas,'Courier New',monospace\"><span style=\"font-weight: bold\"> Total params: </span><span style=\"color: #00af00; text-decoration-color: #00af00\">2,812,663</span> (10.73 MB)\n",
              "</pre>\n"
            ]
          },
          "metadata": {}
        },
        {
          "output_type": "display_data",
          "data": {
            "text/plain": [
              "\u001b[1m Trainable params: \u001b[0m\u001b[38;5;34m2,812,663\u001b[0m (10.73 MB)\n"
            ],
            "text/html": [
              "<pre style=\"white-space:pre;overflow-x:auto;line-height:normal;font-family:Menlo,'DejaVu Sans Mono',consolas,'Courier New',monospace\"><span style=\"font-weight: bold\"> Trainable params: </span><span style=\"color: #00af00; text-decoration-color: #00af00\">2,812,663</span> (10.73 MB)\n",
              "</pre>\n"
            ]
          },
          "metadata": {}
        },
        {
          "output_type": "display_data",
          "data": {
            "text/plain": [
              "\u001b[1m Non-trainable params: \u001b[0m\u001b[38;5;34m0\u001b[0m (0.00 B)\n"
            ],
            "text/html": [
              "<pre style=\"white-space:pre;overflow-x:auto;line-height:normal;font-family:Menlo,'DejaVu Sans Mono',consolas,'Courier New',monospace\"><span style=\"font-weight: bold\"> Non-trainable params: </span><span style=\"color: #00af00; text-decoration-color: #00af00\">0</span> (0.00 B)\n",
              "</pre>\n"
            ]
          },
          "metadata": {}
        },
        {
          "output_type": "stream",
          "name": "stdout",
          "text": [
            "Epoch 1/20\n",
            "\n",
            "Epoch 1: val_loss improved from inf to 4.46712, saving model to image_caption.keras\n",
            "1892/1892 - 19s - 10ms/step - loss: 5.0729 - val_loss: 4.4671\n",
            "Epoch 2/20\n",
            "\n",
            "Epoch 2: val_loss improved from 4.46712 to 4.15907, saving model to image_caption.keras\n",
            "1892/1892 - 14s - 7ms/step - loss: 4.2786 - val_loss: 4.1591\n",
            "Epoch 3/20\n",
            "\n",
            "Epoch 3: val_loss improved from 4.15907 to 4.05347, saving model to image_caption.keras\n",
            "1892/1892 - 21s - 11ms/step - loss: 3.9223 - val_loss: 4.0535\n",
            "Epoch 4/20\n",
            "\n",
            "Epoch 4: val_loss improved from 4.05347 to 4.02558, saving model to image_caption.keras\n",
            "1892/1892 - 20s - 11ms/step - loss: 3.6698 - val_loss: 4.0256\n",
            "Epoch 5/20\n",
            "\n",
            "Epoch 5: val_loss did not improve from 4.02558\n",
            "1892/1892 - 14s - 7ms/step - loss: 3.4658 - val_loss: 4.0773\n",
            "Epoch 6/20\n",
            "\n",
            "Epoch 6: val_loss did not improve from 4.02558\n",
            "1892/1892 - 21s - 11ms/step - loss: 3.2847 - val_loss: 4.1286\n",
            "Epoch 7/20\n",
            "\n",
            "Epoch 7: val_loss did not improve from 4.02558\n",
            "1892/1892 - 14s - 7ms/step - loss: 3.1171 - val_loss: 4.2303\n",
            "Epoch 8/20\n",
            "\n",
            "Epoch 8: val_loss did not improve from 4.02558\n",
            "1892/1892 - 20s - 11ms/step - loss: 2.9647 - val_loss: 4.3952\n",
            "Epoch 9/20\n",
            "\n",
            "Epoch 9: val_loss did not improve from 4.02558\n",
            "1892/1892 - 20s - 11ms/step - loss: 2.8199 - val_loss: 4.4757\n",
            "Epoch 10/20\n",
            "\n",
            "Epoch 10: val_loss did not improve from 4.02558\n",
            "1892/1892 - 21s - 11ms/step - loss: 2.6802 - val_loss: 4.7244\n",
            "Epoch 11/20\n",
            "\n",
            "Epoch 11: val_loss did not improve from 4.02558\n",
            "1892/1892 - 14s - 7ms/step - loss: 2.5580 - val_loss: 4.9262\n",
            "Epoch 12/20\n",
            "\n",
            "Epoch 12: val_loss did not improve from 4.02558\n",
            "1892/1892 - 14s - 7ms/step - loss: 2.4319 - val_loss: 5.1306\n",
            "Epoch 13/20\n",
            "\n",
            "Epoch 13: val_loss did not improve from 4.02558\n",
            "1892/1892 - 21s - 11ms/step - loss: 2.3255 - val_loss: 5.2777\n",
            "Epoch 14/20\n",
            "\n",
            "Epoch 14: val_loss did not improve from 4.02558\n",
            "1892/1892 - 20s - 11ms/step - loss: 2.2230 - val_loss: 5.5163\n",
            "Epoch 15/20\n",
            "\n",
            "Epoch 15: val_loss did not improve from 4.02558\n",
            "1892/1892 - 21s - 11ms/step - loss: 2.1370 - val_loss: 5.6694\n",
            "Epoch 16/20\n",
            "\n",
            "Epoch 16: val_loss did not improve from 4.02558\n",
            "1892/1892 - 20s - 11ms/step - loss: 2.0496 - val_loss: 5.9227\n",
            "Epoch 17/20\n",
            "\n",
            "Epoch 17: val_loss did not improve from 4.02558\n",
            "1892/1892 - 21s - 11ms/step - loss: 1.9754 - val_loss: 6.0279\n",
            "Epoch 18/20\n",
            "\n",
            "Epoch 18: val_loss did not improve from 4.02558\n",
            "1892/1892 - 14s - 7ms/step - loss: 1.9044 - val_loss: 6.2464\n",
            "Epoch 19/20\n",
            "\n",
            "Epoch 19: val_loss did not improve from 4.02558\n",
            "1892/1892 - 21s - 11ms/step - loss: 1.8406 - val_loss: 6.4097\n",
            "Epoch 20/20\n",
            "\n",
            "Epoch 20: val_loss did not improve from 4.02558\n",
            "1892/1892 - 21s - 11ms/step - loss: 1.7861 - val_loss: 6.5989\n"
          ]
        },
        {
          "output_type": "execute_result",
          "data": {
            "text/plain": [
              "<keras.src.callbacks.history.History at 0x7f49ba4d2500>"
            ]
          },
          "metadata": {},
          "execution_count": 27
        }
      ]
    },
    {
      "cell_type": "code",
      "source": [
        "from tensorflow.keras.models import load_model\n",
        "from nltk.translate.bleu_score import corpus_bleu\n",
        "from numpy import argmax\n",
        "from pickle import load"
      ],
      "metadata": {
        "id": "sHlErUpFiWq5"
      },
      "execution_count": 28,
      "outputs": []
    },
    {
      "cell_type": "code",
      "source": [
        "# map an integer to a word\n",
        "def word_for_id(integer, tokenizer):\n",
        "  for word, index in tokenizer.word_index.items():\n",
        "    if index == integer:\n",
        "      return word\n",
        "  return None\n",
        "# generate a description for an image\n",
        "def generate_desc(model, tokenizer, photo, max_length):\n",
        "  # seed the generation process\n",
        "  in_text = 'startseq'\n",
        "  # iterate over the whole length of the sequence\n",
        "  for _ in range(max_length):\n",
        "    # integer encode input sequence\n",
        "    sequence = tokenizer.texts_to_sequences([in_text])[0]\n",
        "    # pad input\n",
        "    sequence = pad_sequences([sequence], maxlen=max_length,padding='post')\n",
        "    # predict next word\n",
        "    yhat = model.predict([photo,sequence], verbose=0)\n",
        "    # convert probability to integer\n",
        "    yhat = argmax(yhat)\n",
        "    # map integer to word\n",
        "    word = word_for_id(yhat, tokenizer)\n",
        "    # stop if we cannot map the word\n",
        "    if word is None:\n",
        "       break\n",
        "    # append as input for generating the next word\n",
        "    in_text += ' ' + word\n",
        "    # stop if we predict the end of the sequence\n",
        "    if word == 'endseq':\n",
        "      break\n",
        "  return in_text\n",
        "\n",
        "# remove start/end sequence tokens from a summary\n",
        "def cleanup_summary(summary):\n",
        "  # remove start of sequence token\n",
        "  index = summary.find('startseq ')\n",
        "  if index > -1:\n",
        "    summary = summary[len('startseq '):]\n",
        "  # remove end of sequence token\n",
        "  index = summary.find(' endseq')\n",
        "  if index > -1:\n",
        "    summary = summary[:index]\n",
        "  return summary\n",
        "\n",
        "# evaluate the skill of the model\n",
        "def evaluate_model(model, descriptions, photos, tokenizer, max_length):\n",
        "  actual, predicted = list(), list()\n",
        "  # step over the whole set\n",
        "  for key, desc_list in descriptions.items():\n",
        "  # generate description\n",
        "    yhat = generate_desc(model, tokenizer, photos[key], max_length)\n",
        "  # clean up prediction\n",
        "    yhat = cleanup_summary(yhat)\n",
        "  # store actual and predicted\n",
        "    references = [cleanup_summary(d).split() for d in desc_list]\n",
        "    actual.append(references)\n",
        "    predicted.append(yhat.split())\n",
        "  # calculate BLEU score\n",
        "  print('BLEU-1: %f' % corpus_bleu(actual, predicted, weights=(1.0, 0, 0, 0)))\n",
        "  print('BLEU-2: %f' % corpus_bleu(actual, predicted, weights=(0.5, 0.5, 0, 0)))\n",
        "  print('BLEU-3: %f' % corpus_bleu(actual, predicted, weights=(0.3, 0.3, 0.3, 0)))\n",
        "  print('BLEU-4: %f' % corpus_bleu(actual, predicted, weights=(0.25, 0.25, 0.25, 0.25)))\n"
      ],
      "metadata": {
        "id": "lxlv-Ev6hCcZ"
      },
      "execution_count": 39,
      "outputs": []
    },
    {
      "cell_type": "code",
      "source": [
        "#load training dataset (6K)\n",
        "filename = 'Flickr_8k_trainImages.txt'\n",
        "train = load_set(filename)\n",
        "print('Dataset: %d' % len(train))\n",
        "# descriptions\n",
        "train_descriptions = load_clean_descriptions('descriptions.txt', train)\n",
        "print('Descriptions: train=%d' % len(train_descriptions))\n",
        "# prepare tokenizer\n",
        "tokenizer = create_tokenizer(train_descriptions)\n",
        "vocab_size = len(tokenizer.word_index) + 1\n",
        "print('Vocabulary Size: %d' % vocab_size)\n",
        "# determine the maximum sequence length\n",
        "max_length = max_length_cal(train_descriptions)\n",
        "print('Description Length: %d' % max_length)\n",
        "# load test set\n",
        "filename = 'Flickr_8k_testImages.txt'\n",
        "test = load_set(filename)\n",
        "print('Dataset: %d' % len(test))\n",
        "# descriptions\n",
        "test_descriptions = load_clean_descriptions('descriptions.txt', test)\n",
        "print('Descriptions: test=%d' % len(test_descriptions))\n",
        "# photo features\n",
        "test_features = load_photo_features('features.pkl', test)\n",
        "print('Photos: test=%d' % len(test_features))\n"
      ],
      "metadata": {
        "colab": {
          "base_uri": "https://localhost:8080/"
        },
        "id": "17uHt1iYjVEq",
        "outputId": "6899836e-4b28-4b0f-c5fd-701e5306f33b"
      },
      "execution_count": 35,
      "outputs": [
        {
          "output_type": "stream",
          "name": "stdout",
          "text": [
            "Dataset: 6000\n",
            "Descriptions: train=6000\n",
            "Vocabulary Size: 3831\n",
            "Description Length: 30\n",
            "Dataset: 1000\n",
            "Descriptions: test=1000\n",
            "Photos: test=1000\n"
          ]
        }
      ]
    },
    {
      "cell_type": "code",
      "source": [
        "filename = 'image_caption.keras'\n",
        "model_loaded = load_model(filename)\n",
        "# evaluate model\n",
        "evaluate_model(model_loaded, test_descriptions, test_features, tokenizer, max_length)"
      ],
      "metadata": {
        "colab": {
          "base_uri": "https://localhost:8080/"
        },
        "id": "fqNvgKXDhCYb",
        "outputId": "91b8f6c7-2a1c-455c-9cec-5882a9df5743"
      },
      "execution_count": 40,
      "outputs": [
        {
          "output_type": "stream",
          "name": "stdout",
          "text": [
            "BLEU-1: 0.208238\n",
            "BLEU-2: 0.101331\n",
            "BLEU-3: 0.073010\n",
            "BLEU-4: 0.032088\n"
          ]
        }
      ]
    },
    {
      "cell_type": "markdown",
      "source": [
        "### Using the model.."
      ],
      "metadata": {
        "id": "a-35V-NBnC6C"
      }
    },
    {
      "cell_type": "code",
      "source": [
        "from pickle import dump\n",
        "# load training dataset\n",
        "filename = 'Flickr_8k_trainImages.txt'\n",
        "train = load_set(filename)\n",
        "print('Dataset: %d' % len(train))\n",
        "# descriptions\n",
        "train_descriptions = load_clean_descriptions('descriptions.txt', train)\n",
        "print('Descriptions: train=%d' % len(train_descriptions))\n",
        "# prepare tokenizer\n",
        "tokenizer = create_tokenizer(train_descriptions)\n",
        "# save the tokenizer\n",
        "dump(tokenizer, open('tokenizer.pkl', 'wb'))"
      ],
      "metadata": {
        "colab": {
          "base_uri": "https://localhost:8080/"
        },
        "id": "V-MvefOahCVJ",
        "outputId": "8006d721-2baa-4a48-e294-0338f1244fb2"
      },
      "execution_count": 42,
      "outputs": [
        {
          "output_type": "stream",
          "name": "stdout",
          "text": [
            "Dataset: 6000\n",
            "Descriptions: train=6000\n"
          ]
        }
      ]
    },
    {
      "cell_type": "code",
      "source": [
        " len(tokenizer.word_index)"
      ],
      "metadata": {
        "colab": {
          "base_uri": "https://localhost:8080/"
        },
        "id": "eGyo6RaFhCRU",
        "outputId": "0cf05557-42ae-411f-fc50-bfa7a5abd3e6"
      },
      "execution_count": 50,
      "outputs": [
        {
          "output_type": "execute_result",
          "data": {
            "text/plain": [
              "3830"
            ]
          },
          "metadata": {},
          "execution_count": 50
        }
      ]
    },
    {
      "cell_type": "code",
      "source": [
        "from tensorflow.keras.applications.vgg16 import VGG16\n",
        "from tensorflow.keras.preprocessing.image import load_img\n",
        "from tensorflow.keras.preprocessing.image import img_to_array\n",
        "from tensorflow.keras.applications.vgg16 import preprocess_input\n",
        "\n",
        "# extract features from each photo in the directory\n",
        "def extract_features(filename):\n",
        "  # load the model\n",
        "  model = VGG16()\n",
        "  # re-structure the model\n",
        "  model.layers.pop()\n",
        "  model = Model(inputs=model.inputs, outputs=model.layers[-1].output)\n",
        "  # load the photo\n",
        "  image = load_img(filename, target_size=(224, 224))\n",
        "  # convert the image pixels to a numpy array\n",
        "  image = img_to_array(image)\n",
        "  # reshape data for the model\n",
        "  image = image.reshape((1, image.shape[0], image.shape[1], image.shape[2]))\n",
        "  # prepare the image for the VGG model\n",
        "  image = preprocess_input(image)\n",
        "  # get features\n",
        "  feature = model.predict(image, verbose=0)\n",
        "  return feature\n",
        "\n",
        "# map an integer to a word\n",
        "def word_for_id(integer, tokenizer):\n",
        "  for word, index in tokenizer.word_index.items():\n",
        "    if index == integer:\n",
        "      return word\n",
        "  return None\n"
      ],
      "metadata": {
        "id": "QerIU9v5oIAx"
      },
      "execution_count": 53,
      "outputs": []
    },
    {
      "cell_type": "code",
      "source": [
        "# load the tokenizer\n",
        "tokenizer = load(open('tokenizer.pkl', 'rb'))\n",
        "# pre-define the max sequence length (from training)\n",
        "max_length = 30\n",
        "# load the model\n",
        "model = load_model('image_caption.keras')\n",
        "# load and prepare the photograph\n",
        "photo = extract_features('R_4.jpg')\n",
        "# generate description\n",
        "description = generate_desc(model, tokenizer, photo, max_length)\n",
        "description = cleanup_summary(description)\n",
        "print(description)\n"
      ],
      "metadata": {
        "colab": {
          "base_uri": "https://localhost:8080/"
        },
        "id": "ym2Ui8YFoH4e",
        "outputId": "811896d5-54e9-479a-a27a-f91f1d820791"
      },
      "execution_count": 55,
      "outputs": [
        {
          "output_type": "stream",
          "name": "stdout",
          "text": [
            "Downloading data from https://storage.googleapis.com/tensorflow/keras-applications/vgg16/vgg16_weights_tf_dim_ordering_tf_kernels.h5\n",
            "\u001b[1m553467096/553467096\u001b[0m \u001b[32m━━━━━━━━━━━━━━━━━━━━\u001b[0m\u001b[37m\u001b[0m \u001b[1m24s\u001b[0m 0us/step\n",
            "boy in red shirt is standing on the camera\n"
          ]
        }
      ]
    },
    {
      "cell_type": "code",
      "source": [
        "photo = extract_features('cat.jpg')\n",
        "predi2 = generate_desc(model, tokenizer, photo, max_length)\n",
        "predi2 = cleanup_summary(predi2)\n",
        "print(predi2)"
      ],
      "metadata": {
        "colab": {
          "base_uri": "https://localhost:8080/"
        },
        "id": "D0QHfHGOoH0D",
        "outputId": "8d74efd8-02f2-448c-bddc-7b2b2073276c"
      },
      "execution_count": 56,
      "outputs": [
        {
          "output_type": "stream",
          "name": "stdout",
          "text": [
            "man in red shirt is standing on the beach\n"
          ]
        }
      ]
    },
    {
      "cell_type": "code",
      "source": [
        "p = extract_features('beach.jpg')\n",
        "predi3 = generate_desc(model, tokenizer, p, max_length)\n",
        "predi3 = cleanup_summary(predi2)\n",
        "print(predi3)"
      ],
      "metadata": {
        "colab": {
          "base_uri": "https://localhost:8080/"
        },
        "id": "Dsv21OAdqUb3",
        "outputId": "7b0b98d5-1009-4cb2-8ee0-d46841cf4230"
      },
      "execution_count": 59,
      "outputs": [
        {
          "output_type": "stream",
          "name": "stdout",
          "text": [
            "man in red shirt is standing on the beach\n"
          ]
        }
      ]
    },
    {
      "cell_type": "code",
      "source": [
        "import tensorflow\n",
        "tensorflow.__version__\n"
      ],
      "metadata": {
        "colab": {
          "base_uri": "https://localhost:8080/",
          "height": 36
        },
        "id": "pZH4EBedx_Z7",
        "outputId": "e60fb2fa-3401-421f-ecb7-8f4533bdbd60"
      },
      "execution_count": null,
      "outputs": [
        {
          "output_type": "execute_result",
          "data": {
            "text/plain": [
              "'2.17.0'"
            ],
            "application/vnd.google.colaboratory.intrinsic+json": {
              "type": "string"
            }
          },
          "metadata": {},
          "execution_count": 32
        }
      ]
    },
    {
      "cell_type": "markdown",
      "source": [
        "train_discriptions=> img_id : captions\n",
        "\n",
        "train_features    => img_id : img_features\n",
        "\n",
        "X1_img , X2_word = y_next_word\n"
      ],
      "metadata": {
        "id": "rSWtfzdKBFET"
      }
    },
    {
      "cell_type": "code",
      "source": [
        "from sklearn.feature_extraction.text import  TfidfVectorizer"
      ],
      "metadata": {
        "id": "O5tCzAagx_Q8"
      },
      "execution_count": null,
      "outputs": []
    },
    {
      "cell_type": "code",
      "source": [],
      "metadata": {
        "id": "hsvyFO4KBzbX"
      },
      "execution_count": null,
      "outputs": []
    }
  ]
}